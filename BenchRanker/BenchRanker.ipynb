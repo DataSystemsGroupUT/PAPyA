{
 "cells": [
  {
   "cell_type": "code",
   "execution_count": null,
   "metadata": {},
   "outputs": [],
   "source": [
    "import Ranker\n",
    "\n",
    "singleDimensionRanking = Ranker.SDRank()\n",
    "multiDimensionRanking = Ranker.MDRank()\n",
    "validation = Ranker.Validator()"
   ]
  },
  {
   "cell_type": "code",
   "execution_count": null,
   "metadata": {},
   "outputs": [],
   "source": [
    "schemaSDRank = singleDimensionRanking.calculateRankScore('schemas', '100M')\n",
    "partitionSDRank = singleDimensionRanking.calculateRankScore('partition', '100M')\n",
    "storageSDRank = singleDimensionRanking.calculateRankScore('storage', '100M')"
   ]
  },
  {
   "cell_type": "code",
   "execution_count": null,
   "metadata": {},
   "outputs": [],
   "source": [
    "paretoFronts_Q = multiDimensionRanking.paretoQ('100M')\n",
    "paretoFronts_Agg = multiDimensionRanking.paretoAgg('100M')"
   ]
  },
  {
   "cell_type": "code",
   "execution_count": null,
   "metadata": {},
   "outputs": [],
   "source": [
    "singleDimensionRanking.plot('schemas', '100M', 'csv')"
   ]
  },
  {
   "cell_type": "code",
   "execution_count": null,
   "metadata": {},
   "outputs": [],
   "source": [
    "multiDimensionRanking.plot('100M')"
   ]
  },
  {
   "cell_type": "code",
   "execution_count": null,
   "metadata": {},
   "outputs": [],
   "source": [
    "conformance_set = ['schemas', 'partition', 'storage', 'paretoQ', 'paretoAgg']\n",
    "coherence_set = ['schemas', 'partition', 'storage', 'paretoQ', 'paretoAgg']\n",
    "\n",
    "conf = validation.conformance(conformance_set, '100M', 5, 15)\n",
    "coh = validation.coherence(coherence_set, '100M', '250M')"
   ]
  }
 ],
 "metadata": {
  "interpreter": {
   "hash": "e41b15c1429a098af195db8ddc7e23165af5d7884fc53e33c8379c749ff89684"
  },
  "kernelspec": {
   "display_name": "Python 3.10.0 ('RDF_BenchRankingLib')",
   "language": "python",
   "name": "python3"
  },
  "language_info": {
   "codemirror_mode": {
    "name": "ipython",
    "version": 3
   },
   "file_extension": ".py",
   "mimetype": "text/x-python",
   "name": "python",
   "nbconvert_exporter": "python",
   "pygments_lexer": "ipython3",
   "version": "3.10.0"
  },
  "orig_nbformat": 4
 },
 "nbformat": 4,
 "nbformat_minor": 2
}
