{
 "cells": [
  {
   "cell_type": "markdown",
   "metadata": {},
   "source": [
    "### This is a library to find the best performing configuration from a set of dimensions (i.e. schemas, partition, storage) which can be specified inside the <b>settings.yaml</b> file in the resource"
   ]
  },
  {
   "cell_type": "code",
   "execution_count": null,
   "metadata": {},
   "outputs": [],
   "source": [
    "%pip install PAPyA==0.1.0"
   ]
  },
  {
   "cell_type": "markdown",
   "metadata": {},
   "source": [
    "### Load the configuration file and log files location for the experiment"
   ]
  },
  {
   "cell_type": "markdown",
   "metadata": {},
   "source": [
    "<p>Configurations for SP2Bench Data</p>"
   ]
  },
  {
   "cell_type": "code",
   "execution_count": 1,
   "metadata": {},
   "outputs": [],
   "source": [
    "config_sp2bench = \"settings.yaml\" # config file location\n",
    "logs_sp2bench = \"log\" # logs file location"
   ]
  },
  {
   "cell_type": "markdown",
   "metadata": {},
   "source": [
    "<p>Configurations for Watdiv Data</p>"
   ]
  },
  {
   "cell_type": "code",
   "execution_count": 2,
   "metadata": {},
   "outputs": [],
   "source": [
    "config_watdiv = \"settings_watdiv.yaml\" # config file location\n",
    "logs_watdiv = \"log_watdiv\" # logs file location"
   ]
  },
  {
   "cell_type": "markdown",
   "metadata": {},
   "source": [
    "#### <u>Configuration file</u> <br>\n",
    "The configuration file is a yaml data-serialization language which has two main parts, the dimensions and the number of query experiments. You can add more dimensions here or change these existing dimensions to anything you need"
   ]
  },
  {
   "cell_type": "markdown",
   "metadata": {},
   "source": [
    "<i>Example :</i> \n",
    "```yaml\n",
    "dimensions:\n",
    "    schemas: [\"st\", \"vt\", \"pt\", \"extvt\", \"wpt\"]\n",
    "    partition: [\"horizontal\", \"predicate\", \"subject\"]\n",
    "    storage: [\"csv\", \"avro\", \"parquet\", \"orc\"]\n",
    "\n",
    "query: 11\n",
    "```"
   ]
  },
  {
   "cell_type": "markdown",
   "metadata": {},
   "source": [
    "#### <u>Log file structure</u> <br>\n",
    "the structure of the log files must follow the order of dimensions in the configuration file (i.e. {schemas}.{partition}.{storage}.txt) and the subfolders should be the ranking sets of the experiments (i.e. dataset sizes)"
   ]
  },
  {
   "cell_type": "markdown",
   "metadata": {},
   "source": [
    "<i>Example :</i>\n",
    "```\n",
    "UI Module\n",
    "└───log\n",
    "    │\n",
    "    |───100M\n",
    "    |    │   st.horizontal.csv.txt\n",
    "    |    │   st.horizontal.avro.txt\n",
    "    |    │   ...\n",
    "    │\n",
    "    └───250M\n",
    "        |   st.horizontal.csv.txt\n",
    "        │   st.horizontal.avro.txt\n",
    "        │   ...\n",
    "```"
   ]
  },
  {
   "cell_type": "markdown",
   "metadata": {},
   "source": [
    "### Single Dimensional Ranking"
   ]
  },
  {
   "cell_type": "markdown",
   "metadata": {},
   "source": [
    "<b>SDRank</b> is a class module from PAPyA library to calculate ranking score _R_ for each dimension independently that operates over a log-based structure that user specified on the configuration file.<br> \n",
    "The value of _R_ represents the performance of a particular configuration (higher value means better performing configuration). We used Ranking Function _R_ below to calculate the rank scores:"
   ]
  },
  {
   "cell_type": "markdown",
   "metadata": {},
   "source": [
    "$$R =\\sum \\limits _{r=1} ^{d} \\frac{O_{dim} * (d-r)}{|Q| * (d-1)}, 0<R<=1$$"
   ]
  },
  {
   "cell_type": "markdown",
   "metadata": {},
   "source": [
    "$d$         : total number of parameters (options) in a particular dimension<br>\n",
    "$O_{dim}$   : number of occurences of the dimension placed at rank $r$ (Rank 1, Rank 2, Rank 3, ...)<br>\n",
    "$|Q|$       : total number of queries"
   ]
  },
  {
   "cell_type": "markdown",
   "metadata": {},
   "source": [
    "### PAPyA.Rank.SDRank"
   ]
  },
  {
   "cell_type": "markdown",
   "metadata": {},
   "source": [
    "#### <i>class</i> Rank.<b>SDRank</b>(<i>config_path, log_path, ranking_sets, dimension</i>)\n",
    "<i>Parameters:</i> <br>\n",
    "&emsp; <b>config_path : str</b><br>\n",
    "&emsp;&emsp;<small>Specify the path to your configuration file(s). <i>i.e ./UIModule/settings_watdiv.yaml</small></i><br>\n",
    "&emsp;<b>log_path : str</b><br>\n",
    "&emsp;&emsp;<small>Specify the path to your log file(s). <i>i.e ./UI Module/log_watdiv</small></i><br>\n",
    "&emsp;<b>ranking_sets : str</b><br>\n",
    "&emsp;&emsp;<small>Ranking sets of user choice. <i>i.e dataset sizes (100M)</small></i><br>\n",
    "&emsp;<b>dimension : str</b><br>\n",
    "&emsp;&emsp;<small>A single dimension to be ranked. <i>i.e schemas</small></i><br>\n"
   ]
  },
  {
   "cell_type": "code",
   "execution_count": 3,
   "metadata": {},
   "outputs": [],
   "source": [
    "# this class takes single dimension and dataset sizes as parameters that user specified inside their log files\n",
    "from Rank import SDRank\n",
    "\n",
    "schemaSDRank_100M = SDRank(config_watdiv, logs_watdiv, '100M', 'schemas')\n",
    "schemaSDRank_250M = SDRank(config_watdiv, logs_watdiv, '250M', 'schemas')\n",
    "schemaSDRank_500M = SDRank(config_watdiv, logs_watdiv, '500M', 'schemas')\n",
    "partitionSDRank_100M = SDRank(config_watdiv, logs_watdiv, '100M', 'partition')\n",
    "partitionSDRank_250M = SDRank(config_watdiv, logs_watdiv, '250M', 'partition')\n",
    "partitionSDRank_500M = SDRank(config_watdiv, logs_watdiv, '500M', 'partition')\n",
    "storageSDRank_100M = SDRank(config_watdiv, logs_watdiv, '100M', 'storage')\n",
    "storageSDRank_250M = SDRank(config_watdiv, logs_watdiv, '250M', 'storage')\n",
    "storageSDRank_500M = SDRank(config_watdiv, logs_watdiv, '500M', 'storage')"
   ]
  },
  {
   "cell_type": "markdown",
   "metadata": {},
   "source": [
    "### Rank.SDRank.calculateRank"
   ]
  },
  {
   "cell_type": "markdown",
   "metadata": {},
   "source": [
    "#### SDRank.<b>calculateRank</b>(<i>*args</i>)\n",
    "<small>The function that automates calculating the rank scores of a single dimension using the Ranking Function above.</small><br><br>\n",
    "<small>Returns a table of configurations which is sorted based on the best performing configuration according to their Ranking Score along with number of occurences of the dimension being placed at the rank _r_ (1st, 2nd, 3rd, ...)</small><br><br>\n",
    "<i>Parameters:</i> <br>\n",
    "&emsp; <b>*args : str or list</b><br>\n",
    "&emsp;&emsp;<small>This method takes an arbitrary number of parameters of strings and lists.<br>\n",
    "&emsp;&emsp;&ensp;str -> slice the table according to string input. <i>i.e. \"predicate\" will slice the table by the <b>predicate</b> partitioning</i><br>\n",
    "&emsp;&emsp;&ensp;list -> remove some queries out of the ranking calculations. <i>i.e [7,8,9] will remove query <b>7, 8,and 9</b> from the calculation</small></i><br>\n"
   ]
  },
  {
   "cell_type": "code",
   "execution_count": 6,
   "metadata": {},
   "outputs": [
    {
     "data": {
      "text/html": [
       "<div>\n",
       "<style scoped>\n",
       "    .dataframe tbody tr th:only-of-type {\n",
       "        vertical-align: middle;\n",
       "    }\n",
       "\n",
       "    .dataframe tbody tr th {\n",
       "        vertical-align: top;\n",
       "    }\n",
       "\n",
       "    .dataframe thead th {\n",
       "        text-align: right;\n",
       "    }\n",
       "</style>\n",
       "<table border=\"1\" class=\"dataframe\">\n",
       "  <thead>\n",
       "    <tr style=\"text-align: right;\">\n",
       "      <th></th>\n",
       "      <th>Rank 1</th>\n",
       "      <th>Rank 2</th>\n",
       "      <th>Rank 3</th>\n",
       "      <th>Rank 4</th>\n",
       "      <th>Result</th>\n",
       "    </tr>\n",
       "  </thead>\n",
       "  <tbody>\n",
       "    <tr>\n",
       "      <th>st.subject.orc</th>\n",
       "      <td>19.0</td>\n",
       "      <td>1.0</td>\n",
       "      <td>0.0</td>\n",
       "      <td>0.0</td>\n",
       "      <td>0.983333</td>\n",
       "    </tr>\n",
       "    <tr>\n",
       "      <th>st.horizontal.orc</th>\n",
       "      <td>16.0</td>\n",
       "      <td>4.0</td>\n",
       "      <td>0.0</td>\n",
       "      <td>0.0</td>\n",
       "      <td>0.933333</td>\n",
       "    </tr>\n",
       "    <tr>\n",
       "      <th>vp.subject.csv</th>\n",
       "      <td>18.0</td>\n",
       "      <td>0.0</td>\n",
       "      <td>1.0</td>\n",
       "      <td>1.0</td>\n",
       "      <td>0.916667</td>\n",
       "    </tr>\n",
       "    <tr>\n",
       "      <th>st.predicate.orc</th>\n",
       "      <td>13.0</td>\n",
       "      <td>7.0</td>\n",
       "      <td>0.0</td>\n",
       "      <td>0.0</td>\n",
       "      <td>0.883333</td>\n",
       "    </tr>\n",
       "    <tr>\n",
       "      <th>vp.horizontal.csv</th>\n",
       "      <td>15.0</td>\n",
       "      <td>2.0</td>\n",
       "      <td>2.0</td>\n",
       "      <td>1.0</td>\n",
       "      <td>0.850000</td>\n",
       "    </tr>\n",
       "    <tr>\n",
       "      <th>wpt.horizontal.parquet</th>\n",
       "      <td>16.0</td>\n",
       "      <td>1.0</td>\n",
       "      <td>0.0</td>\n",
       "      <td>3.0</td>\n",
       "      <td>0.833333</td>\n",
       "    </tr>\n",
       "    <tr>\n",
       "      <th>wpt.subject.parquet</th>\n",
       "      <td>16.0</td>\n",
       "      <td>1.0</td>\n",
       "      <td>0.0</td>\n",
       "      <td>3.0</td>\n",
       "      <td>0.833333</td>\n",
       "    </tr>\n",
       "    <tr>\n",
       "      <th>st.predicate.parquet</th>\n",
       "      <td>7.0</td>\n",
       "      <td>12.0</td>\n",
       "      <td>1.0</td>\n",
       "      <td>0.0</td>\n",
       "      <td>0.766667</td>\n",
       "    </tr>\n",
       "    <tr>\n",
       "      <th>vp.predicate.csv</th>\n",
       "      <td>12.0</td>\n",
       "      <td>3.0</td>\n",
       "      <td>4.0</td>\n",
       "      <td>1.0</td>\n",
       "      <td>0.766667</td>\n",
       "    </tr>\n",
       "    <tr>\n",
       "      <th>pt.horizontal.csv</th>\n",
       "      <td>12.0</td>\n",
       "      <td>4.0</td>\n",
       "      <td>1.0</td>\n",
       "      <td>3.0</td>\n",
       "      <td>0.750000</td>\n",
       "    </tr>\n",
       "    <tr>\n",
       "      <th>st.horizontal.parquet</th>\n",
       "      <td>4.0</td>\n",
       "      <td>16.0</td>\n",
       "      <td>0.0</td>\n",
       "      <td>0.0</td>\n",
       "      <td>0.733333</td>\n",
       "    </tr>\n",
       "    <tr>\n",
       "      <th>pt.subject.csv</th>\n",
       "      <td>13.0</td>\n",
       "      <td>1.0</td>\n",
       "      <td>3.0</td>\n",
       "      <td>3.0</td>\n",
       "      <td>0.733333</td>\n",
       "    </tr>\n",
       "    <tr>\n",
       "      <th>st.subject.parquet</th>\n",
       "      <td>1.0</td>\n",
       "      <td>19.0</td>\n",
       "      <td>0.0</td>\n",
       "      <td>0.0</td>\n",
       "      <td>0.683333</td>\n",
       "    </tr>\n",
       "    <tr>\n",
       "      <th>extvp.horizontal.csv</th>\n",
       "      <td>10.0</td>\n",
       "      <td>4.0</td>\n",
       "      <td>2.0</td>\n",
       "      <td>4.0</td>\n",
       "      <td>0.666667</td>\n",
       "    </tr>\n",
       "    <tr>\n",
       "      <th>extvp.predicate.orc</th>\n",
       "      <td>8.0</td>\n",
       "      <td>4.0</td>\n",
       "      <td>6.0</td>\n",
       "      <td>2.0</td>\n",
       "      <td>0.633333</td>\n",
       "    </tr>\n",
       "    <tr>\n",
       "      <th>extvp.horizontal.parquet</th>\n",
       "      <td>4.0</td>\n",
       "      <td>9.0</td>\n",
       "      <td>6.0</td>\n",
       "      <td>1.0</td>\n",
       "      <td>0.600000</td>\n",
       "    </tr>\n",
       "    <tr>\n",
       "      <th>wpt.horizontal.orc</th>\n",
       "      <td>1.0</td>\n",
       "      <td>16.0</td>\n",
       "      <td>0.0</td>\n",
       "      <td>3.0</td>\n",
       "      <td>0.583333</td>\n",
       "    </tr>\n",
       "    <tr>\n",
       "      <th>wpt.subject.orc</th>\n",
       "      <td>1.0</td>\n",
       "      <td>16.0</td>\n",
       "      <td>0.0</td>\n",
       "      <td>3.0</td>\n",
       "      <td>0.583333</td>\n",
       "    </tr>\n",
       "    <tr>\n",
       "      <th>extvp.subject.parquet</th>\n",
       "      <td>7.0</td>\n",
       "      <td>5.0</td>\n",
       "      <td>4.0</td>\n",
       "      <td>4.0</td>\n",
       "      <td>0.583333</td>\n",
       "    </tr>\n",
       "    <tr>\n",
       "      <th>pt.predicate.parquet</th>\n",
       "      <td>6.0</td>\n",
       "      <td>6.0</td>\n",
       "      <td>4.0</td>\n",
       "      <td>4.0</td>\n",
       "      <td>0.566667</td>\n",
       "    </tr>\n",
       "    <tr>\n",
       "      <th>extvp.predicate.csv</th>\n",
       "      <td>7.0</td>\n",
       "      <td>5.0</td>\n",
       "      <td>3.0</td>\n",
       "      <td>5.0</td>\n",
       "      <td>0.566667</td>\n",
       "    </tr>\n",
       "    <tr>\n",
       "      <th>pt.subject.avro</th>\n",
       "      <td>3.0</td>\n",
       "      <td>9.0</td>\n",
       "      <td>5.0</td>\n",
       "      <td>3.0</td>\n",
       "      <td>0.533333</td>\n",
       "    </tr>\n",
       "    <tr>\n",
       "      <th>pt.predicate.csv</th>\n",
       "      <td>10.0</td>\n",
       "      <td>0.0</td>\n",
       "      <td>2.0</td>\n",
       "      <td>8.0</td>\n",
       "      <td>0.533333</td>\n",
       "    </tr>\n",
       "    <tr>\n",
       "      <th>extvp.subject.csv</th>\n",
       "      <td>7.0</td>\n",
       "      <td>4.0</td>\n",
       "      <td>3.0</td>\n",
       "      <td>6.0</td>\n",
       "      <td>0.533333</td>\n",
       "    </tr>\n",
       "    <tr>\n",
       "      <th>extvp.subject.avro</th>\n",
       "      <td>5.0</td>\n",
       "      <td>7.0</td>\n",
       "      <td>3.0</td>\n",
       "      <td>5.0</td>\n",
       "      <td>0.533333</td>\n",
       "    </tr>\n",
       "    <tr>\n",
       "      <th>extvp.predicate.parquet</th>\n",
       "      <td>4.0</td>\n",
       "      <td>7.0</td>\n",
       "      <td>5.0</td>\n",
       "      <td>4.0</td>\n",
       "      <td>0.516667</td>\n",
       "    </tr>\n",
       "    <tr>\n",
       "      <th>vp.predicate.orc</th>\n",
       "      <td>4.0</td>\n",
       "      <td>7.0</td>\n",
       "      <td>5.0</td>\n",
       "      <td>4.0</td>\n",
       "      <td>0.516667</td>\n",
       "    </tr>\n",
       "    <tr>\n",
       "      <th>pt.horizontal.parquet</th>\n",
       "      <td>4.0</td>\n",
       "      <td>6.0</td>\n",
       "      <td>6.0</td>\n",
       "      <td>4.0</td>\n",
       "      <td>0.500000</td>\n",
       "    </tr>\n",
       "    <tr>\n",
       "      <th>vp.horizontal.parquet</th>\n",
       "      <td>3.0</td>\n",
       "      <td>7.0</td>\n",
       "      <td>6.0</td>\n",
       "      <td>4.0</td>\n",
       "      <td>0.483333</td>\n",
       "    </tr>\n",
       "    <tr>\n",
       "      <th>extvp.horizontal.avro</th>\n",
       "      <td>4.0</td>\n",
       "      <td>4.0</td>\n",
       "      <td>8.0</td>\n",
       "      <td>4.0</td>\n",
       "      <td>0.466667</td>\n",
       "    </tr>\n",
       "    <tr>\n",
       "      <th>pt.predicate.avro</th>\n",
       "      <td>2.0</td>\n",
       "      <td>7.0</td>\n",
       "      <td>8.0</td>\n",
       "      <td>3.0</td>\n",
       "      <td>0.466667</td>\n",
       "    </tr>\n",
       "    <tr>\n",
       "      <th>vp.predicate.parquet</th>\n",
       "      <td>3.0</td>\n",
       "      <td>5.0</td>\n",
       "      <td>7.0</td>\n",
       "      <td>5.0</td>\n",
       "      <td>0.433333</td>\n",
       "    </tr>\n",
       "    <tr>\n",
       "      <th>vp.subject.avro</th>\n",
       "      <td>0.0</td>\n",
       "      <td>10.0</td>\n",
       "      <td>6.0</td>\n",
       "      <td>4.0</td>\n",
       "      <td>0.433333</td>\n",
       "    </tr>\n",
       "    <tr>\n",
       "      <th>pt.predicate.orc</th>\n",
       "      <td>2.0</td>\n",
       "      <td>7.0</td>\n",
       "      <td>6.0</td>\n",
       "      <td>5.0</td>\n",
       "      <td>0.433333</td>\n",
       "    </tr>\n",
       "    <tr>\n",
       "      <th>pt.subject.parquet</th>\n",
       "      <td>2.0</td>\n",
       "      <td>7.0</td>\n",
       "      <td>5.0</td>\n",
       "      <td>6.0</td>\n",
       "      <td>0.416667</td>\n",
       "    </tr>\n",
       "    <tr>\n",
       "      <th>pt.horizontal.avro</th>\n",
       "      <td>1.0</td>\n",
       "      <td>6.0</td>\n",
       "      <td>8.0</td>\n",
       "      <td>5.0</td>\n",
       "      <td>0.383333</td>\n",
       "    </tr>\n",
       "    <tr>\n",
       "      <th>pt.horizontal.orc</th>\n",
       "      <td>3.0</td>\n",
       "      <td>4.0</td>\n",
       "      <td>5.0</td>\n",
       "      <td>8.0</td>\n",
       "      <td>0.366667</td>\n",
       "    </tr>\n",
       "    <tr>\n",
       "      <th>vp.subject.orc</th>\n",
       "      <td>1.0</td>\n",
       "      <td>7.0</td>\n",
       "      <td>5.0</td>\n",
       "      <td>7.0</td>\n",
       "      <td>0.366667</td>\n",
       "    </tr>\n",
       "    <tr>\n",
       "      <th>extvp.subject.orc</th>\n",
       "      <td>1.0</td>\n",
       "      <td>4.0</td>\n",
       "      <td>10.0</td>\n",
       "      <td>5.0</td>\n",
       "      <td>0.350000</td>\n",
       "    </tr>\n",
       "    <tr>\n",
       "      <th>vp.horizontal.avro</th>\n",
       "      <td>0.0</td>\n",
       "      <td>7.0</td>\n",
       "      <td>7.0</td>\n",
       "      <td>6.0</td>\n",
       "      <td>0.350000</td>\n",
       "    </tr>\n",
       "    <tr>\n",
       "      <th>st.predicate.avro</th>\n",
       "      <td>0.0</td>\n",
       "      <td>1.0</td>\n",
       "      <td>19.0</td>\n",
       "      <td>0.0</td>\n",
       "      <td>0.350000</td>\n",
       "    </tr>\n",
       "    <tr>\n",
       "      <th>st.subject.avro</th>\n",
       "      <td>0.0</td>\n",
       "      <td>0.0</td>\n",
       "      <td>20.0</td>\n",
       "      <td>0.0</td>\n",
       "      <td>0.333333</td>\n",
       "    </tr>\n",
       "    <tr>\n",
       "      <th>st.horizontal.avro</th>\n",
       "      <td>0.0</td>\n",
       "      <td>0.0</td>\n",
       "      <td>20.0</td>\n",
       "      <td>0.0</td>\n",
       "      <td>0.333333</td>\n",
       "    </tr>\n",
       "    <tr>\n",
       "      <th>vp.horizontal.orc</th>\n",
       "      <td>2.0</td>\n",
       "      <td>4.0</td>\n",
       "      <td>5.0</td>\n",
       "      <td>9.0</td>\n",
       "      <td>0.316667</td>\n",
       "    </tr>\n",
       "    <tr>\n",
       "      <th>pt.subject.orc</th>\n",
       "      <td>2.0</td>\n",
       "      <td>3.0</td>\n",
       "      <td>7.0</td>\n",
       "      <td>8.0</td>\n",
       "      <td>0.316667</td>\n",
       "    </tr>\n",
       "    <tr>\n",
       "      <th>vp.subject.parquet</th>\n",
       "      <td>1.0</td>\n",
       "      <td>3.0</td>\n",
       "      <td>8.0</td>\n",
       "      <td>8.0</td>\n",
       "      <td>0.283333</td>\n",
       "    </tr>\n",
       "    <tr>\n",
       "      <th>extvp.predicate.avro</th>\n",
       "      <td>1.0</td>\n",
       "      <td>4.0</td>\n",
       "      <td>6.0</td>\n",
       "      <td>9.0</td>\n",
       "      <td>0.283333</td>\n",
       "    </tr>\n",
       "    <tr>\n",
       "      <th>wpt.subject.avro</th>\n",
       "      <td>0.0</td>\n",
       "      <td>0.0</td>\n",
       "      <td>17.0</td>\n",
       "      <td>3.0</td>\n",
       "      <td>0.283333</td>\n",
       "    </tr>\n",
       "    <tr>\n",
       "      <th>vp.predicate.avro</th>\n",
       "      <td>1.0</td>\n",
       "      <td>5.0</td>\n",
       "      <td>4.0</td>\n",
       "      <td>10.0</td>\n",
       "      <td>0.283333</td>\n",
       "    </tr>\n",
       "    <tr>\n",
       "      <th>wpt.horizontal.avro</th>\n",
       "      <td>0.0</td>\n",
       "      <td>0.0</td>\n",
       "      <td>17.0</td>\n",
       "      <td>3.0</td>\n",
       "      <td>0.283333</td>\n",
       "    </tr>\n",
       "    <tr>\n",
       "      <th>extvp.horizontal.orc</th>\n",
       "      <td>2.0</td>\n",
       "      <td>3.0</td>\n",
       "      <td>4.0</td>\n",
       "      <td>11.0</td>\n",
       "      <td>0.266667</td>\n",
       "    </tr>\n",
       "    <tr>\n",
       "      <th>wpt.predicate.parquet</th>\n",
       "      <td>0.0</td>\n",
       "      <td>0.0</td>\n",
       "      <td>0.0</td>\n",
       "      <td>20.0</td>\n",
       "      <td>0.000000</td>\n",
       "    </tr>\n",
       "    <tr>\n",
       "      <th>st.horizontal.csv</th>\n",
       "      <td>0.0</td>\n",
       "      <td>0.0</td>\n",
       "      <td>0.0</td>\n",
       "      <td>20.0</td>\n",
       "      <td>0.000000</td>\n",
       "    </tr>\n",
       "    <tr>\n",
       "      <th>wpt.predicate.csv</th>\n",
       "      <td>0.0</td>\n",
       "      <td>0.0</td>\n",
       "      <td>0.0</td>\n",
       "      <td>20.0</td>\n",
       "      <td>0.000000</td>\n",
       "    </tr>\n",
       "    <tr>\n",
       "      <th>wpt.predicate.avro</th>\n",
       "      <td>0.0</td>\n",
       "      <td>0.0</td>\n",
       "      <td>0.0</td>\n",
       "      <td>20.0</td>\n",
       "      <td>0.000000</td>\n",
       "    </tr>\n",
       "    <tr>\n",
       "      <th>st.predicate.csv</th>\n",
       "      <td>0.0</td>\n",
       "      <td>0.0</td>\n",
       "      <td>0.0</td>\n",
       "      <td>20.0</td>\n",
       "      <td>0.000000</td>\n",
       "    </tr>\n",
       "    <tr>\n",
       "      <th>wpt.predicate.orc</th>\n",
       "      <td>0.0</td>\n",
       "      <td>0.0</td>\n",
       "      <td>0.0</td>\n",
       "      <td>20.0</td>\n",
       "      <td>0.000000</td>\n",
       "    </tr>\n",
       "    <tr>\n",
       "      <th>wpt.horizontal.csv</th>\n",
       "      <td>0.0</td>\n",
       "      <td>0.0</td>\n",
       "      <td>0.0</td>\n",
       "      <td>20.0</td>\n",
       "      <td>0.000000</td>\n",
       "    </tr>\n",
       "    <tr>\n",
       "      <th>st.subject.csv</th>\n",
       "      <td>0.0</td>\n",
       "      <td>0.0</td>\n",
       "      <td>0.0</td>\n",
       "      <td>20.0</td>\n",
       "      <td>0.000000</td>\n",
       "    </tr>\n",
       "    <tr>\n",
       "      <th>wpt.subject.csv</th>\n",
       "      <td>0.0</td>\n",
       "      <td>0.0</td>\n",
       "      <td>0.0</td>\n",
       "      <td>20.0</td>\n",
       "      <td>0.000000</td>\n",
       "    </tr>\n",
       "  </tbody>\n",
       "</table>\n",
       "</div>"
      ],
      "text/plain": [
       "                          Rank 1  Rank 2  Rank 3  Rank 4    Result\n",
       "st.subject.orc              19.0     1.0     0.0     0.0  0.983333\n",
       "st.horizontal.orc           16.0     4.0     0.0     0.0  0.933333\n",
       "vp.subject.csv              18.0     0.0     1.0     1.0  0.916667\n",
       "st.predicate.orc            13.0     7.0     0.0     0.0  0.883333\n",
       "vp.horizontal.csv           15.0     2.0     2.0     1.0  0.850000\n",
       "wpt.horizontal.parquet      16.0     1.0     0.0     3.0  0.833333\n",
       "wpt.subject.parquet         16.0     1.0     0.0     3.0  0.833333\n",
       "st.predicate.parquet         7.0    12.0     1.0     0.0  0.766667\n",
       "vp.predicate.csv            12.0     3.0     4.0     1.0  0.766667\n",
       "pt.horizontal.csv           12.0     4.0     1.0     3.0  0.750000\n",
       "st.horizontal.parquet        4.0    16.0     0.0     0.0  0.733333\n",
       "pt.subject.csv              13.0     1.0     3.0     3.0  0.733333\n",
       "st.subject.parquet           1.0    19.0     0.0     0.0  0.683333\n",
       "extvp.horizontal.csv        10.0     4.0     2.0     4.0  0.666667\n",
       "extvp.predicate.orc          8.0     4.0     6.0     2.0  0.633333\n",
       "extvp.horizontal.parquet     4.0     9.0     6.0     1.0  0.600000\n",
       "wpt.horizontal.orc           1.0    16.0     0.0     3.0  0.583333\n",
       "wpt.subject.orc              1.0    16.0     0.0     3.0  0.583333\n",
       "extvp.subject.parquet        7.0     5.0     4.0     4.0  0.583333\n",
       "pt.predicate.parquet         6.0     6.0     4.0     4.0  0.566667\n",
       "extvp.predicate.csv          7.0     5.0     3.0     5.0  0.566667\n",
       "pt.subject.avro              3.0     9.0     5.0     3.0  0.533333\n",
       "pt.predicate.csv            10.0     0.0     2.0     8.0  0.533333\n",
       "extvp.subject.csv            7.0     4.0     3.0     6.0  0.533333\n",
       "extvp.subject.avro           5.0     7.0     3.0     5.0  0.533333\n",
       "extvp.predicate.parquet      4.0     7.0     5.0     4.0  0.516667\n",
       "vp.predicate.orc             4.0     7.0     5.0     4.0  0.516667\n",
       "pt.horizontal.parquet        4.0     6.0     6.0     4.0  0.500000\n",
       "vp.horizontal.parquet        3.0     7.0     6.0     4.0  0.483333\n",
       "extvp.horizontal.avro        4.0     4.0     8.0     4.0  0.466667\n",
       "pt.predicate.avro            2.0     7.0     8.0     3.0  0.466667\n",
       "vp.predicate.parquet         3.0     5.0     7.0     5.0  0.433333\n",
       "vp.subject.avro              0.0    10.0     6.0     4.0  0.433333\n",
       "pt.predicate.orc             2.0     7.0     6.0     5.0  0.433333\n",
       "pt.subject.parquet           2.0     7.0     5.0     6.0  0.416667\n",
       "pt.horizontal.avro           1.0     6.0     8.0     5.0  0.383333\n",
       "pt.horizontal.orc            3.0     4.0     5.0     8.0  0.366667\n",
       "vp.subject.orc               1.0     7.0     5.0     7.0  0.366667\n",
       "extvp.subject.orc            1.0     4.0    10.0     5.0  0.350000\n",
       "vp.horizontal.avro           0.0     7.0     7.0     6.0  0.350000\n",
       "st.predicate.avro            0.0     1.0    19.0     0.0  0.350000\n",
       "st.subject.avro              0.0     0.0    20.0     0.0  0.333333\n",
       "st.horizontal.avro           0.0     0.0    20.0     0.0  0.333333\n",
       "vp.horizontal.orc            2.0     4.0     5.0     9.0  0.316667\n",
       "pt.subject.orc               2.0     3.0     7.0     8.0  0.316667\n",
       "vp.subject.parquet           1.0     3.0     8.0     8.0  0.283333\n",
       "extvp.predicate.avro         1.0     4.0     6.0     9.0  0.283333\n",
       "wpt.subject.avro             0.0     0.0    17.0     3.0  0.283333\n",
       "vp.predicate.avro            1.0     5.0     4.0    10.0  0.283333\n",
       "wpt.horizontal.avro          0.0     0.0    17.0     3.0  0.283333\n",
       "extvp.horizontal.orc         2.0     3.0     4.0    11.0  0.266667\n",
       "wpt.predicate.parquet        0.0     0.0     0.0    20.0  0.000000\n",
       "st.horizontal.csv            0.0     0.0     0.0    20.0  0.000000\n",
       "wpt.predicate.csv            0.0     0.0     0.0    20.0  0.000000\n",
       "wpt.predicate.avro           0.0     0.0     0.0    20.0  0.000000\n",
       "st.predicate.csv             0.0     0.0     0.0    20.0  0.000000\n",
       "wpt.predicate.orc            0.0     0.0     0.0    20.0  0.000000\n",
       "wpt.horizontal.csv           0.0     0.0     0.0    20.0  0.000000\n",
       "st.subject.csv               0.0     0.0     0.0    20.0  0.000000\n",
       "wpt.subject.csv              0.0     0.0     0.0    20.0  0.000000"
      ]
     },
     "execution_count": 6,
     "metadata": {},
     "output_type": "execute_result"
    }
   ],
   "source": [
    "# single dimension ranking by storage without excluding queries\n",
    "storageSDRank_100M.calculateRank()"
   ]
  },
  {
   "cell_type": "code",
   "execution_count": null,
   "metadata": {},
   "outputs": [],
   "source": [
    "# single dimension ranking by storage excluding query 7,8,and 9\n",
    "excludeQuery = [7,8,9]\n",
    "storageSDRank.calculateRank(excludeQuery)"
   ]
  },
  {
   "cell_type": "code",
   "execution_count": null,
   "metadata": {},
   "outputs": [],
   "source": [
    "# slicing partition single dimension ranking by predicate partitioning\n",
    "partitionSDRank.calculateRank('horizontal')"
   ]
  },
  {
   "cell_type": "code",
   "execution_count": null,
   "metadata": {},
   "outputs": [],
   "source": [
    "# slicing schema single dimension ranking by predicate partitioning and csv storage format while excluding some queries\n",
    "schemaSDRank.calculateRank('predicate', 'csv', [3,4,5])"
   ]
  },
  {
   "cell_type": "markdown",
   "metadata": {},
   "source": [
    "### Rank.SDRank.plotRadar"
   ]
  },
  {
   "cell_type": "markdown",
   "metadata": {},
   "source": [
    "#### SDRank.<b>plotRadar</b>()"
   ]
  },
  {
   "cell_type": "markdown",
   "metadata": {},
   "source": [
    "<small>Ranking over one dimension is insufficient when it counts multiple dimensions. The presence of trade-offs reduces the accuracy of single dimension ranking functions which could be seen in the radar plot below.</small><br><br>\n",
    "<small>This method returns a radar chart that shows the presence of trade-offs by using the single dimension ranking criterion that reduces the accuracy of the other dimensions</small>"
   ]
  },
  {
   "cell_type": "code",
   "execution_count": null,
   "metadata": {},
   "outputs": [],
   "source": [
    "# This example shows a figure of the top configuration of ranking by schema is optimized towards its dimension only, ignoring the other two dimension.\n",
    "from Rank import SDRank\n",
    "SDRank(config_watdiv, logs_watdiv, '100M', 'schemas').plotRadar()"
   ]
  },
  {
   "cell_type": "markdown",
   "metadata": {},
   "source": [
    "### Rank.SDRank.plot"
   ]
  },
  {
   "cell_type": "markdown",
   "metadata": {},
   "source": [
    "#### SDRank.<b>plot</b>(<i>view</i>)\n",
    "<small>In addition to radar plot, PAPyA also provides visualization that shows the performance of a single dimension parameters that user can choose in terms of their rank scores</small><br><br>\n",
    "<small>This method returns a bar chart that shows a particular dimension rankings, pivoting another dimension by user viewing projection</small><br><br>\n",
    "<i>Parameters:</i> <br>\n",
    "&emsp; <b>view : str</b><br>\n",
    "&emsp;&emsp;<small>This method takes a string of dimensional option that user choose to view as projection</small><br><br>\n",
    "<i>Example:</i><br>\n",
    "&emsp;&emsp;<small>_Schemas_ single dimensional ranking viewed from _Predicate Partitioning_ by pivoting over the _Storage_ dimension</small>\n"
   ]
  },
  {
   "cell_type": "code",
   "execution_count": null,
   "metadata": {},
   "outputs": [],
   "source": [
    "from Rank import SDRank\n",
    "\n",
    "# example of schema dimension plots\n",
    "SDRank(config_watdiv, logs_watdiv, '100M', 'schemas').plot('predicate')"
   ]
  },
  {
   "cell_type": "markdown",
   "metadata": {},
   "source": [
    "### Rank.SDRank.plotBox"
   ]
  },
  {
   "cell_type": "markdown",
   "metadata": {},
   "source": [
    "#### SDRank.<b>plotBox</b>(<i>q = None</i>)\n",
    "<small>In order to show the distributions of our query runtimes data, we need a box plot diagram to compare these data between queries in our experiment. Box plot can help provide information at a glance, giving us general information about our data</small><br><br>\n",
    "<small>This method returns a box plot diagram that shows both maximum and minimum runtimes of each individual queries for a particular single dimensional ranking</small><br><br>\n",
    "<i>Parameters:</i> <br>\n",
    "&emsp; <b>q : list</b><br>\n",
    "&emsp;&emsp;<small>This method can take a list of column names that user can specify to choose for plotting to have a more precise box plot diagram. i.e. list of [\"Q1\", \"Q2\", \"Q3\"] will output a <br>\n",
    "&emsp;&emsp;&ensp;box plot only for those queries </small>"
   ]
  },
  {
   "cell_type": "code",
   "execution_count": null,
   "metadata": {},
   "outputs": [],
   "source": [
    "from Rank import SDRank\n",
    "\n",
    "# Box plot example of all queries of schema ranking dimension\n",
    "SDRank(config_watdiv, logs_watdiv, '100M', 'schemas').plotBox()\n",
    "\n",
    "# Box plot example of query 1,2,3 of schema ranking dimension\n",
    "SDRank(config_watdiv, logs_watdiv, '100M', 'schemas').plotBox([\"Q1\", \"Q2\", \"Q3\"])"
   ]
  },
  {
   "cell_type": "markdown",
   "metadata": {},
   "source": [
    "### Multi Dimensional Ranking"
   ]
  },
  {
   "cell_type": "markdown",
   "metadata": {},
   "source": [
    "With the presence of the trade-offs introduced in the single dimensional ranking function, we propose an optimization technique that aims to find the non-dominated solutions or the configuration combinations by optimizing all dimensions at the same time which utilize the NSGA2 Algorithm.<br>\n",
    "In this experiment, we provide two ways to use the NSGA2 Algorithm:\n",
    "- The first method is _paretoAgg_ which operates on the single dimensional ranking criteria. This method aims to maximize performance of the three ranks altogether\n",
    "- The second method is _paretoQ_ which apply the algorithm considering the rank sets obtained by sorting each query results individually. This method aims at minimizing query runtimes of the ranked dimensions"
   ]
  },
  {
   "cell_type": "markdown",
   "metadata": {},
   "source": [
    "### PAPyA.Rank.MDRank"
   ]
  },
  {
   "cell_type": "markdown",
   "metadata": {},
   "source": [
    "#### <i>class</i> Rank.<b>SDRank</b>(<i>config_path, log_path, ranking_sets</i>)\n",
    "<i>Parameters:</i> <br>\n",
    "&emsp; <b>config_path : str</b><br>\n",
    "&emsp;&emsp;<small>Specify the path to your configuration file(s). <i>i.e ./UIModule/settings_watdiv.yaml</small></i><br>\n",
    "&emsp;<b>log_path : str</b><br>\n",
    "&emsp;&emsp;<small>Specify the path to your log file(s). <i>i.e ./UI Module/log_watdiv</small></i><br>\n",
    "&emsp;<b>ranking_sets : str</b><br>\n",
    "&emsp;&emsp;<small>Ranking sets of user choice. <i>i.e dataset sizes (100M)</small></i><br>"
   ]
  },
  {
   "cell_type": "code",
   "execution_count": null,
   "metadata": {},
   "outputs": [],
   "source": [
    "from Rank import MDRank\n",
    "\n",
    "# example of MDRank class with 100M dataset size as ranking set of the experiment\n",
    "multiDimensionRank = MDRank(config_watdiv, logs_watdiv, '100M')"
   ]
  },
  {
   "cell_type": "markdown",
   "metadata": {},
   "source": [
    "### Rank.MDRank.paretoQ"
   ]
  },
  {
   "cell_type": "markdown",
   "metadata": {},
   "source": [
    "#### MDRank.<b>paretoQ</b>()\n",
    "<small>This method returns a table of configuration solutions as well as their dominated ones, according to the Non-Dominated Sorting Algorithm II (NSGA2) that was applied to minimizing query runtimes of the ranked dimensions</small>"
   ]
  },
  {
   "cell_type": "code",
   "execution_count": null,
   "metadata": {},
   "outputs": [],
   "source": [
    "multiDimensionRank.paretoQ()"
   ]
  },
  {
   "cell_type": "markdown",
   "metadata": {},
   "source": [
    "### Rank.MDRank.paretoAgg"
   ]
  },
  {
   "cell_type": "markdown",
   "metadata": {},
   "source": [
    "#### MDRank.<b>paretoAgg</b>()\n",
    "<small>This method returns a table of configuration solutions as well as their dominated ones, according to the Non-Dominated Sorting Algorithm II (NSGA2) that was applied on the single dimensional ranking criteria which maximizes the performance of all ranking sets altogether</small>"
   ]
  },
  {
   "cell_type": "code",
   "execution_count": null,
   "metadata": {},
   "outputs": [],
   "source": [
    "multiDimensionRank.paretoAgg()"
   ]
  },
  {
   "cell_type": "markdown",
   "metadata": {},
   "source": [
    "### Rank.MDRank.plot"
   ]
  },
  {
   "cell_type": "markdown",
   "metadata": {},
   "source": [
    "#### MDRank.<b>plot</b>()\n",
    "<small>This method returns a plot for multi dimensional ranking solutions according to paretoAgg as shades of green projected in a three dimensional space</small>"
   ]
  },
  {
   "cell_type": "code",
   "execution_count": null,
   "metadata": {},
   "outputs": [],
   "source": [
    "multiDimensionRank.plot()"
   ]
  },
  {
   "cell_type": "markdown",
   "metadata": {},
   "source": [
    "### Ranking Criteria Validation"
   ]
  },
  {
   "cell_type": "markdown",
   "metadata": {},
   "source": [
    "This library provides two metrics of evaluation to evaluate the goodness of the ranking criteria the _conformance_ and _coherence_\n",
    "\n",
    "- Conformance measures the adherence of the top-ranked configurations according to the actual query positioning of thoses configurations. We calculate conformance according to the equation below:"
   ]
  },
  {
   "cell_type": "markdown",
   "metadata": {},
   "source": [
    "$$A(R^k) = 1 - \\sum \\limits _{i=0} ^{|Q|} \\sum \\limits _{j=0} ^{k} \\frac {\\bar{A}(i,j)}{|Q|*k}$$"
   ]
  },
  {
   "cell_type": "markdown",
   "metadata": {},
   "source": [
    "Consider $R_{s}$ ranking and the top-3 ranked configurations are ${c_{1},c_{2},c_{3}}$, that overlaps only with the bottom-3 ranked configuration in query $|Q|$. That is, ${c_{4},c_{2},c_{5}}$. For example, $c_{2}$ is in the $59^{th}$ position out of 60 positions. <br>\n",
    "Thus, $A(R^k) = 1- \\frac {1}{(11*3)}$, when $k = 3$ and $|Q| = 11$"
   ]
  },
  {
   "cell_type": "markdown",
   "metadata": {},
   "source": [
    "- Coherence is the measure agreement between two ranking sets that uses the same ranking criteria accross different experiments. We used Kendall's Index to calculate coherence, which counts the number of dis(agreements) between two ranking sets"
   ]
  },
  {
   "cell_type": "markdown",
   "metadata": {},
   "source": [
    "$$K(R_{1}, R_{2}) = \\sum \\limits _{{i,j} \\epsilon P} ^{} \\frac {\\bar{K}_{i,j}(R_{1}, R_{2})}{|P|}$$"
   ]
  },
  {
   "cell_type": "markdown",
   "metadata": {},
   "source": [
    "In this experiment, we assume that rank sets are the dataset sizes (i.e. 100M and 250M). Kendall’s distance between two rank sets $R_{1}$ and $R_{2}$, where $|P|$ represents the set of unique pairs of distinct elements in the two sets. For instance, the $K$ index between $R_{1}={c_{1},c_{2},c_{3}}$ and $R_{2}={c_{1},c_{2},c_{4}}$ for 100M and 250M is 0.33, i.e., one disagreement out of three pair comparisons."
   ]
  },
  {
   "cell_type": "markdown",
   "metadata": {},
   "source": [
    "### PAPyA.Ranker.Conformance"
   ]
  },
  {
   "cell_type": "markdown",
   "metadata": {},
   "source": [
    "#### <i>class</i> Ranker.<b>Conformance</b>(<i>config_path, log_path, ranking_sets, conformance_set, k, h</i>)\n",
    "<i>Parameters:</i> <br>\n",
    "&emsp; <b>config_path : str</b><br>\n",
    "&emsp;&emsp;<small>Specify the path to your configuration file(s). <i>i.e ./UIModule/settings_watdiv.yaml</small></i><br>\n",
    "&emsp;<b>log_path : str</b><br>\n",
    "&emsp;&emsp;<small>Specify the path to your log file(s). <i>i.e ./UI Module/log_watdiv</small></i><br>\n",
    "&emsp;<b>ranking_sets : str</b><br>\n",
    "&emsp;&emsp;<small>Ranking sets of user choice. <i>i.e dataset sizes (100M)</small></i><br>\n",
    "&emsp;<b>conformance_set : list</b><br>\n",
    "&emsp;&emsp;<small>List of ranking criterions to see the scores of their conformances.</small><br>\n",
    "&emsp;<b>k : int</b><br>\n",
    "&emsp;&emsp;<small>Value of the top k subset of the ranking criteria. <i>i.e. _k_ = 5, takes the top 5 value of each ranking criteria in the conformance set</small></i><br>\n",
    "&emsp;<b>h : int</b><br>\n",
    "&emsp;&emsp;<small>Value of the threshold that will be counted for the conformance score. <i>i.e. _h_ = 28, take queries that has a ranking below 28 out of all the configuration</small></i><br>"
   ]
  },
  {
   "cell_type": "code",
   "execution_count": null,
   "metadata": {},
   "outputs": [],
   "source": [
    "from Ranker import Conformance\n",
    "\n",
    "conformance_set = ['schemas', 'partition', 'storage', 'paretoQ', 'paretoAgg']\n",
    "conf = Conformance(config_watdiv, logs_watdiv, '250M', conformance_set, 5, 28)"
   ]
  },
  {
   "cell_type": "markdown",
   "metadata": {},
   "source": [
    "### Ranker.Conformance.run"
   ]
  },
  {
   "cell_type": "markdown",
   "metadata": {},
   "source": [
    "#### Conformance.<b>run</b>()\n",
    "<small>This method returns a table of conformance scores for each of the ranking criterion that user specify in the conformance_set along with the k and h values for the formula</small>"
   ]
  },
  {
   "cell_type": "code",
   "execution_count": null,
   "metadata": {},
   "outputs": [],
   "source": [
    "#conformance scores for all ranking criterions in 250M dataset size\n",
    "conf.run()"
   ]
  },
  {
   "cell_type": "markdown",
   "metadata": {},
   "source": [
    "### Ranker.Conformance.configurationQueryRanks"
   ]
  },
  {
   "cell_type": "markdown",
   "metadata": {},
   "source": [
    "#### Conformance.<b>configurationQueryRanks</b>(<i>dimension, mode</i>)\n",
    "<small>This method returns a criteria table of a choosen ranking dimension, criteria table is a table that shows rank values of each queries by the top-k configurations</small><br><br>\n",
    "<i>Parameters:</i> <br>\n",
    "&emsp; <b>dimension : str</b><br>\n",
    "&emsp;&emsp;<small>user's choosen dimension to view the criteria table</small><br><br>\n",
    "&emsp; <b>mode : 0 (default) or 1</b><br>\n",
    "&emsp;&emsp;<small>'0' show criteria table by their value</small><br>\n",
    "&emsp;&emsp;<small>'1' show criteria table with true and false of h value (true, if h value is higher than h)</small>\n"
   ]
  },
  {
   "cell_type": "code",
   "execution_count": null,
   "metadata": {},
   "outputs": [],
   "source": [
    "conf.configurationQueryRanks(dimension = 'schemas', mode = 1)"
   ]
  },
  {
   "cell_type": "markdown",
   "metadata": {},
   "source": [
    "### PAPyA.Ranker.Coherence"
   ]
  },
  {
   "cell_type": "markdown",
   "metadata": {},
   "source": [
    "#### <i>class</i> Ranker.<b>Coherence</b>(<i>config_path, log_path, conformance_set</i>)\n",
    "<i>Parameters:</i> <br>\n",
    "&emsp; <b>config_path : str</b><br>\n",
    "&emsp;&emsp;<small>Specify the path to your configuration file(s). <i>i.e ./UIModule/settings_watdiv.yaml</small></i><br>\n",
    "&emsp;<b>log_path : str</b><br>\n",
    "&emsp;&emsp;<small>Specify the path to your log file(s). <i>i.e ./UI Module/log_watdiv</small></i><br>\n",
    "&emsp;<b>conformance_set : list</b><br>\n",
    "&emsp;&emsp;<small>List of ranking criterions to see their kendall index's scores between ranking sets (i.e. dataset sizes).</small><br>"
   ]
  },
  {
   "cell_type": "code",
   "execution_count": null,
   "metadata": {},
   "outputs": [],
   "source": [
    "from Ranker import Coherence\n",
    "\n",
    "coherence_set = ['schemas', 'partition', 'storage', 'paretoQ', 'paretoAgg']\n",
    "coh = Coherence(config_watdiv, logs_watdiv,coherence_set)"
   ]
  },
  {
   "cell_type": "markdown",
   "metadata": {},
   "source": [
    "### Ranker.Coherence.run"
   ]
  },
  {
   "cell_type": "markdown",
   "metadata": {},
   "source": [
    "#### Coherence.<b>run</b>(<i>rankset1, rankset2</i>)\n",
    "<small>This method returns a table of coherence scores for each of the ranking criterion that user specify in the conformance_set by calculating the number of (dis)agreements between 2 ranking sets</small><br><br>\n",
    "<i>Parameters:</i> <br>\n",
    "&emsp; <b>rankset1 : str</b><br>\n",
    "&emsp;&emsp;<small>a string of the _first_ rankset that user wants to compare</small><br><br>\n",
    "&emsp; <b>rankset2 : str</b><br>\n",
    "&emsp;&emsp;<small>a string of the _second_ rankset that user wants to compare</small><br>"
   ]
  },
  {
   "cell_type": "code",
   "execution_count": null,
   "metadata": {},
   "outputs": [],
   "source": [
    "#example of coherence scores for all ranking criterions by comparing 100M ranking set with 250M ranking set\n",
    "coh.run('100M', '250M')"
   ]
  },
  {
   "cell_type": "markdown",
   "metadata": {},
   "source": [
    "### Ranker.Coherence.heatMap"
   ]
  },
  {
   "cell_type": "markdown",
   "metadata": {},
   "source": [
    "#### Coherence.<b>heatMap</b>(<i>rankset1, rankset2, dimension</i>)\n",
    "<small>This method returns a heat map table that shows the coherence between two particular ranking sets that user can choose, the heat map will be sorted by the best performing configurations of the first ranking set</small><br><br>\n",
    "<i>Parameters:</i> <br>\n",
    "&emsp; <b>rankset1 : str</b><br>\n",
    "&emsp;&emsp;<small>a string of the _first_ rankset that user wants to compare</small><br><br>\n",
    "&emsp; <b>rankset2 : str</b><br>\n",
    "&emsp;&emsp;<small>a string of the _second_ rankset that user wants to compare</small><br>\n",
    "&emsp; <b>dimension : str</b><br>\n",
    "&emsp;&emsp;<small>user's choosen dimension to view the heat map</small><br><br>"
   ]
  },
  {
   "cell_type": "code",
   "execution_count": null,
   "metadata": {},
   "outputs": [],
   "source": [
    "coh.heatMap('100M', \"250M\", dimension='paretoAgg')"
   ]
  },
  {
   "cell_type": "markdown",
   "metadata": {},
   "source": [
    "### Ranker.Coherence.heatMapSubtract"
   ]
  },
  {
   "cell_type": "markdown",
   "metadata": {},
   "source": [
    "#### Coherence.<b>heatMap</b>(<i>*args, dimension</i>)\n",
    "<small>This method shows the coherence differences between two particular ranking sets that user chooses, the first ranking sets will be the pivot point (between 100M-250M, and 100M-500M shown in the example). The heat map will be sorted by the best performing configurations of the first ranking set</small><br><br>\n",
    "<i>Parameters:</i> <br>\n",
    "&emsp; <b>*args : str</b><br>\n",
    "&emsp;&emsp;<small>takes an arbitrary number of ranking sets, the first ranking set will be the pivot point for all the other ranking sets</small><br><br>\n",
    "&emsp; <b>dimension : str</b><br>\n",
    "&emsp;&emsp;<small>user's choosen dimension to view the heat map</small><br><br>"
   ]
  },
  {
   "cell_type": "code",
   "execution_count": null,
   "metadata": {},
   "outputs": [],
   "source": [
    "coh.heatMapSubtract('100M', '250M', '500M', dimension='paretoAgg')"
   ]
  },
  {
   "cell_type": "code",
   "execution_count": null,
   "metadata": {},
   "outputs": [],
   "source": [
    "import ahpy\n",
    "\n",
    "query_comparison = {('Q1', 'Q2'): 1/7, ('Q1', 'Q3'): 1, ('Q1', 'Q4'): 1/9, ('Q1', 'Q5'): 1/3,\n",
    "                    ('Q1', 'Q6'): 1/5, ('Q1', 'Q7'): 1/7, ('Q1', 'Q8'): 1/9, ('Q1', 'Q9'): 1/3, ('Q1', 'Q10'): 1, ('Q1', 'Q11'): 1,\n",
    "                    ('Q2', 'Q3'): 7, ('Q2', 'Q4'): 1/9, ('Q2', 'Q5'): 3,\n",
    "                    ('Q2', 'Q6'): 5, ('Q2', 'Q7'): 1, ('Q2', 'Q8'): 1/9, ('Q2', 'Q9'): 3, ('Q2', 'Q10'): 7, ('Q2', 'Q11'): 7,\n",
    "                    ('Q3', 'Q4'): 1/9, ('Q3', 'Q5'): 1/3,\n",
    "                    ('Q3', 'Q6'): 1/5, ('Q3', 'Q7'): 1/7, ('Q3', 'Q8'): 1/9, ('Q3', 'Q9'): 1/3, ('Q3', 'Q10'): 1, ('Q3', 'Q11'): 1,\n",
    "                    ('Q4', 'Q5'): 3,\n",
    "                    ('Q4', 'Q6'): 5, ('Q4', 'Q7'): 7, ('Q4', 'Q8'): 1, ('Q4', 'Q9'): 3, ('Q4', 'Q10'): 9, ('Q4', 'Q11'): 9,\n",
    "                    ('Q5', 'Q6'): 1/5, ('Q5', 'Q7'): 1/7, ('Q5', 'Q8'): 1/9, ('Q5', 'Q9'): 1, ('Q5', 'Q10'): 3, ('Q5', 'Q11'): 3,\n",
    "                    ('Q6', 'Q7'): 1/7, ('Q6', 'Q8'): 1/9, ('Q6', 'Q9'): 3, ('Q6', 'Q10'): 5, ('Q6', 'Q11'): 5,\n",
    "                    ('Q7', 'Q8'): 1/9, ('Q7', 'Q9'): 3, ('Q7', 'Q10'): 7, ('Q7', 'Q11'): 7,\n",
    "                    ('Q8', 'Q9'): 3, ('Q8', 'Q10'): 9, ('Q8', 'Q11'): 9,\n",
    "                    ('Q9', 'Q10'): 3, ('Q9', 'Q11'): 3,\n",
    "                    ('Q10', 'Q11'): 1,}\n",
    "\n",
    "queries = ahpy.Compare(name='Queries', comparisons=query_comparison, precision=3, random_index='saaty')\n",
    "\n",
    "print(queries.target_weights)\n",
    "\n",
    "print(queries.consistency_ratio)"
   ]
  },
  {
   "cell_type": "code",
   "execution_count": null,
   "metadata": {},
   "outputs": [],
   "source": []
  }
 ],
 "metadata": {
  "kernelspec": {
   "display_name": "Python 3 (ipykernel)",
   "language": "python",
   "name": "python3"
  },
  "language_info": {
   "codemirror_mode": {
    "name": "ipython",
    "version": 3
   },
   "file_extension": ".py",
   "mimetype": "text/x-python",
   "name": "python",
   "nbconvert_exporter": "python",
   "pygments_lexer": "ipython3",
   "version": "3.10.0"
  },
  "vscode": {
   "interpreter": {
    "hash": "e41b15c1429a098af195db8ddc7e23165af5d7884fc53e33c8379c749ff89684"
   }
  }
 },
 "nbformat": 4,
 "nbformat_minor": 2
}
