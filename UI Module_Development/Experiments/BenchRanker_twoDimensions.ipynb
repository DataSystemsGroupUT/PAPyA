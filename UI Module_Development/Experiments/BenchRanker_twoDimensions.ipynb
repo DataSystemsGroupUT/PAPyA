{
 "cells": [
  {
   "cell_type": "markdown",
   "metadata": {},
   "source": [
    "### This is a library to find the best performing configuration from a set of dimensions (i.e. schemas, partition, storage) which can be specified inside the <b>settings.yaml</b> file in the resource"
   ]
  },
  {
   "cell_type": "code",
   "execution_count": null,
   "metadata": {},
   "outputs": [],
   "source": [
    "%pip install PAPyA==0.1.0"
   ]
  },
  {
   "cell_type": "markdown",
   "metadata": {},
   "source": [
    "### Load the configuration file and log files location for the experiment"
   ]
  },
  {
   "cell_type": "markdown",
   "metadata": {},
   "source": [
    "<p>Configurations for SP2Bench Data</p>"
   ]
  },
  {
   "cell_type": "code",
   "execution_count": 1,
   "metadata": {},
   "outputs": [],
   "source": [
    "config_sp2bench = \"settings.yaml\" # config file location\n",
    "logs_sp2bench = \"log_twoDimension\" # logs file location"
   ]
  },
  {
   "cell_type": "markdown",
   "metadata": {},
   "source": [
    "#### <u>Configuration file</u> <br>\n",
    "The configuration file is a yaml data-serialization language which has two main parts, the dimensions and the number of query experiments. You can add more dimensions here or change these existing dimensions to anything you need"
   ]
  },
  {
   "cell_type": "markdown",
   "metadata": {},
   "source": [
    "<i>Example :</i> \n",
    "```yaml\n",
    "dimensions:\n",
    "    storage: [\"csv\", \"avro\", \"parquet\", \"orc\"]\n",
    "    schemas: [\"st\", \"vt\", \"pt\"]\n",
    "    \n",
    "\n",
    "query: 11\n",
    "```"
   ]
  },
  {
   "cell_type": "markdown",
   "metadata": {},
   "source": [
    "#### <u>Log file structure</u> <br>\n",
    "the structure of the log files must follow the order of dimensions in the configuration file (i.e. {schemas}.{partition}.{storage}.txt) and the subfolders should be the ranking sets of the experiments (i.e. dataset sizes)"
   ]
  },
  {
   "cell_type": "markdown",
   "metadata": {},
   "source": [
    "<i>Example :</i>\n",
    "```\n",
    "UI Module\n",
    "└───log_twoDimension\n",
    "    │\n",
    "    |───10M\n",
    "    |    │   st.csv.txt\n",
    "    |    │   st.avro.txt\n",
    "    |    │   ...\n",
    "    │\n",
    "    └───100k\n",
    "        |   st.csv.txt\n",
    "        │   st.avro.txt\n",
    "        │   ...\n",
    "```"
   ]
  },
  {
   "cell_type": "markdown",
   "metadata": {},
   "source": [
    "### Single Dimensional Ranking"
   ]
  },
  {
   "cell_type": "markdown",
   "metadata": {},
   "source": [
    "<b>SDRank</b> is a class module from PAPyA library to calculate ranking score _R_ for each dimension independently that operates over a log-based structure that user specified on the configuration file.<br> \n",
    "The value of _R_ represents the performance of a particular configuration (higher value means better performing configuration). We used Ranking Function _R_ below to calculate the rank scores:"
   ]
  },
  {
   "cell_type": "markdown",
   "metadata": {},
   "source": [
    "$$R =\\sum \\limits _{r=1} ^{d} \\frac{O_{dim} * (d-r)}{|Q| * (d-1)}, 0<R<=1$$"
   ]
  },
  {
   "cell_type": "markdown",
   "metadata": {},
   "source": [
    "$d$         : total number of parameters (options) in a particular dimension<br>\n",
    "$O_{dim}$   : number of occurences of the dimension placed at rank $r$ (Rank 1, Rank 2, Rank 3, ...)<br>\n",
    "$|Q|$       : total number of queries"
   ]
  },
  {
   "cell_type": "markdown",
   "metadata": {},
   "source": [
    "### PAPyA.Rank.SDRank"
   ]
  },
  {
   "cell_type": "markdown",
   "metadata": {},
   "source": [
    "#### <i>class</i> Rank.<b>SDRank</b>(<i>config_path, log_path, ranking_sets, dimension</i>)\n",
    "<i>Parameters:</i> <br>\n",
    "&emsp; <b>config_path : str</b><br>\n",
    "&emsp;&emsp;<small>Specify the path to your configuration file(s). <i>i.e ./UIModule/settings_watdiv.yaml</small></i><br>\n",
    "&emsp;<b>log_path : str</b><br>\n",
    "&emsp;&emsp;<small>Specify the path to your log file(s). <i>i.e ./UI Module/log_watdiv</small></i><br>\n",
    "&emsp;<b>ranking_sets : str</b><br>\n",
    "&emsp;&emsp;<small>Ranking sets of user choice. <i>i.e dataset sizes (100M)</small></i><br>\n",
    "&emsp;<b>dimension : str</b><br>\n",
    "&emsp;&emsp;<small>A single dimension to be ranked. <i>i.e schemas</small></i><br>\n"
   ]
  },
  {
   "cell_type": "code",
   "execution_count": 3,
   "metadata": {},
   "outputs": [
    {
     "data": {
      "text/html": [
       "<div>\n",
       "<style scoped>\n",
       "    .dataframe tbody tr th:only-of-type {\n",
       "        vertical-align: middle;\n",
       "    }\n",
       "\n",
       "    .dataframe tbody tr th {\n",
       "        vertical-align: top;\n",
       "    }\n",
       "\n",
       "    .dataframe thead th {\n",
       "        text-align: right;\n",
       "    }\n",
       "</style>\n",
       "<table border=\"1\" class=\"dataframe\">\n",
       "  <thead>\n",
       "    <tr style=\"text-align: right;\">\n",
       "      <th></th>\n",
       "      <th>Q1</th>\n",
       "      <th>Q2</th>\n",
       "      <th>Q3</th>\n",
       "      <th>Q4</th>\n",
       "      <th>Q5</th>\n",
       "      <th>Q6</th>\n",
       "      <th>Q7</th>\n",
       "      <th>Q8</th>\n",
       "      <th>Q9</th>\n",
       "      <th>Q10</th>\n",
       "      <th>Q11</th>\n",
       "    </tr>\n",
       "  </thead>\n",
       "  <tbody>\n",
       "    <tr>\n",
       "      <th>csv.st</th>\n",
       "      <td>123248.2</td>\n",
       "      <td>451757.6</td>\n",
       "      <td>89441.0</td>\n",
       "      <td>535182.6</td>\n",
       "      <td>321688.2</td>\n",
       "      <td>299036.0</td>\n",
       "      <td>406003.40</td>\n",
       "      <td>206557.2</td>\n",
       "      <td>4900.80</td>\n",
       "      <td>42308.0</td>\n",
       "      <td>413887.0</td>\n",
       "    </tr>\n",
       "    <tr>\n",
       "      <th>csv.vt</th>\n",
       "      <td>15476.0</td>\n",
       "      <td>58124.8</td>\n",
       "      <td>14160.8</td>\n",
       "      <td>347332.6</td>\n",
       "      <td>87257.2</td>\n",
       "      <td>70167.2</td>\n",
       "      <td>186436.60</td>\n",
       "      <td>138586.0</td>\n",
       "      <td>5919.40</td>\n",
       "      <td>2191.8</td>\n",
       "      <td>44058.2</td>\n",
       "    </tr>\n",
       "    <tr>\n",
       "      <th>csv.pt</th>\n",
       "      <td>11031.4</td>\n",
       "      <td>85574.2</td>\n",
       "      <td>5823.4</td>\n",
       "      <td>306116.2</td>\n",
       "      <td>94804.4</td>\n",
       "      <td>50042.6</td>\n",
       "      <td>446603.74</td>\n",
       "      <td>46792.2</td>\n",
       "      <td>19565.92</td>\n",
       "      <td>35564.6</td>\n",
       "      <td>10383.6</td>\n",
       "    </tr>\n",
       "    <tr>\n",
       "      <th>avro.st</th>\n",
       "      <td>66243.6</td>\n",
       "      <td>213020.0</td>\n",
       "      <td>40276.6</td>\n",
       "      <td>372877.8</td>\n",
       "      <td>165472.0</td>\n",
       "      <td>150775.6</td>\n",
       "      <td>263349.60</td>\n",
       "      <td>108848.4</td>\n",
       "      <td>17787.20</td>\n",
       "      <td>14708.0</td>\n",
       "      <td>217210.0</td>\n",
       "    </tr>\n",
       "    <tr>\n",
       "      <th>avro.vt</th>\n",
       "      <td>11774.0</td>\n",
       "      <td>42061.2</td>\n",
       "      <td>5511.4</td>\n",
       "      <td>376007.4</td>\n",
       "      <td>48264.8</td>\n",
       "      <td>60752.8</td>\n",
       "      <td>174269.20</td>\n",
       "      <td>52103.0</td>\n",
       "      <td>2957.00</td>\n",
       "      <td>1037.0</td>\n",
       "      <td>30005.4</td>\n",
       "    </tr>\n",
       "    <tr>\n",
       "      <th>avro.pt</th>\n",
       "      <td>9071.0</td>\n",
       "      <td>69561.6</td>\n",
       "      <td>7706.8</td>\n",
       "      <td>374609.6</td>\n",
       "      <td>64704.0</td>\n",
       "      <td>123377.6</td>\n",
       "      <td>446603.74</td>\n",
       "      <td>38144.2</td>\n",
       "      <td>19565.92</td>\n",
       "      <td>20369.8</td>\n",
       "      <td>12211.4</td>\n",
       "    </tr>\n",
       "    <tr>\n",
       "      <th>orc.st</th>\n",
       "      <td>10564.4</td>\n",
       "      <td>36559.4</td>\n",
       "      <td>6937.4</td>\n",
       "      <td>231401.0</td>\n",
       "      <td>54636.4</td>\n",
       "      <td>39466.8</td>\n",
       "      <td>138915.80</td>\n",
       "      <td>49245.0</td>\n",
       "      <td>1152.40</td>\n",
       "      <td>1388.0</td>\n",
       "      <td>85494.4</td>\n",
       "    </tr>\n",
       "    <tr>\n",
       "      <th>orc.vt</th>\n",
       "      <td>4251.2</td>\n",
       "      <td>25417.6</td>\n",
       "      <td>1647.4</td>\n",
       "      <td>286004.6</td>\n",
       "      <td>28974.4</td>\n",
       "      <td>39877.2</td>\n",
       "      <td>133578.40</td>\n",
       "      <td>17078.0</td>\n",
       "      <td>670.40</td>\n",
       "      <td>401.6</td>\n",
       "      <td>17605.8</td>\n",
       "    </tr>\n",
       "    <tr>\n",
       "      <th>orc.pt</th>\n",
       "      <td>3068.2</td>\n",
       "      <td>43260.0</td>\n",
       "      <td>1980.8</td>\n",
       "      <td>276344.2</td>\n",
       "      <td>39733.6</td>\n",
       "      <td>24067.8</td>\n",
       "      <td>446603.74</td>\n",
       "      <td>20396.4</td>\n",
       "      <td>19565.92</td>\n",
       "      <td>4347.2</td>\n",
       "      <td>5422.6</td>\n",
       "    </tr>\n",
       "    <tr>\n",
       "      <th>parquet.st</th>\n",
       "      <td>11630.8</td>\n",
       "      <td>41387.0</td>\n",
       "      <td>8041.0</td>\n",
       "      <td>225791.8</td>\n",
       "      <td>57635.6</td>\n",
       "      <td>42156.4</td>\n",
       "      <td>138744.00</td>\n",
       "      <td>49655.6</td>\n",
       "      <td>1838.80</td>\n",
       "      <td>1534.2</td>\n",
       "      <td>87921.4</td>\n",
       "    </tr>\n",
       "    <tr>\n",
       "      <th>parquet.vt</th>\n",
       "      <td>3615.0</td>\n",
       "      <td>22227.0</td>\n",
       "      <td>1885.4</td>\n",
       "      <td>289627.2</td>\n",
       "      <td>29391.8</td>\n",
       "      <td>39967.0</td>\n",
       "      <td>133542.20</td>\n",
       "      <td>16743.6</td>\n",
       "      <td>653.20</td>\n",
       "      <td>398.0</td>\n",
       "      <td>18422.6</td>\n",
       "    </tr>\n",
       "    <tr>\n",
       "      <th>parquet.pt</th>\n",
       "      <td>2428.8</td>\n",
       "      <td>38486.6</td>\n",
       "      <td>1875.0</td>\n",
       "      <td>274734.4</td>\n",
       "      <td>39956.4</td>\n",
       "      <td>24372.0</td>\n",
       "      <td>446603.74</td>\n",
       "      <td>22489.6</td>\n",
       "      <td>19565.92</td>\n",
       "      <td>8378.6</td>\n",
       "      <td>5501.6</td>\n",
       "    </tr>\n",
       "  </tbody>\n",
       "</table>\n",
       "</div>"
      ],
      "text/plain": [
       "                  Q1        Q2       Q3        Q4        Q5        Q6  \\\n",
       "csv.st      123248.2  451757.6  89441.0  535182.6  321688.2  299036.0   \n",
       "csv.vt       15476.0   58124.8  14160.8  347332.6   87257.2   70167.2   \n",
       "csv.pt       11031.4   85574.2   5823.4  306116.2   94804.4   50042.6   \n",
       "avro.st      66243.6  213020.0  40276.6  372877.8  165472.0  150775.6   \n",
       "avro.vt      11774.0   42061.2   5511.4  376007.4   48264.8   60752.8   \n",
       "avro.pt       9071.0   69561.6   7706.8  374609.6   64704.0  123377.6   \n",
       "orc.st       10564.4   36559.4   6937.4  231401.0   54636.4   39466.8   \n",
       "orc.vt        4251.2   25417.6   1647.4  286004.6   28974.4   39877.2   \n",
       "orc.pt        3068.2   43260.0   1980.8  276344.2   39733.6   24067.8   \n",
       "parquet.st   11630.8   41387.0   8041.0  225791.8   57635.6   42156.4   \n",
       "parquet.vt    3615.0   22227.0   1885.4  289627.2   29391.8   39967.0   \n",
       "parquet.pt    2428.8   38486.6   1875.0  274734.4   39956.4   24372.0   \n",
       "\n",
       "                   Q7        Q8        Q9      Q10       Q11  \n",
       "csv.st      406003.40  206557.2   4900.80  42308.0  413887.0  \n",
       "csv.vt      186436.60  138586.0   5919.40   2191.8   44058.2  \n",
       "csv.pt      446603.74   46792.2  19565.92  35564.6   10383.6  \n",
       "avro.st     263349.60  108848.4  17787.20  14708.0  217210.0  \n",
       "avro.vt     174269.20   52103.0   2957.00   1037.0   30005.4  \n",
       "avro.pt     446603.74   38144.2  19565.92  20369.8   12211.4  \n",
       "orc.st      138915.80   49245.0   1152.40   1388.0   85494.4  \n",
       "orc.vt      133578.40   17078.0    670.40    401.6   17605.8  \n",
       "orc.pt      446603.74   20396.4  19565.92   4347.2    5422.6  \n",
       "parquet.st  138744.00   49655.6   1838.80   1534.2   87921.4  \n",
       "parquet.vt  133542.20   16743.6    653.20    398.0   18422.6  \n",
       "parquet.pt  446603.74   22489.6  19565.92   8378.6    5501.6  "
      ]
     },
     "execution_count": 3,
     "metadata": {},
     "output_type": "execute_result"
    }
   ],
   "source": [
    "from PAPyA.file_reader import FileReader\n",
    "FileReader(config_sp2bench, logs_sp2bench, '10M', 'schemas').file_reader()"
   ]
  },
  {
   "cell_type": "code",
   "execution_count": 4,
   "metadata": {},
   "outputs": [],
   "source": [
    "# this class takes single dimension and dataset sizes as parameters that user specified inside their log files\n",
    "from Rank import SDRank\n",
    "\n",
    "schemaSDRank_10M = SDRank(config_sp2bench, logs_sp2bench, '10M', 'schemas')\n",
    "schemaSDRank_100K = SDRank(config_sp2bench, logs_sp2bench, '100K', 'schemas')\n",
    "storageSDRank_10M = SDRank(config_sp2bench, logs_sp2bench, '10M', 'storage')\n",
    "storageSDRank_100K = SDRank(config_sp2bench, logs_sp2bench, '100K', 'storage')"
   ]
  },
  {
   "cell_type": "markdown",
   "metadata": {},
   "source": [
    "### Rank.SDRank.calculateRank"
   ]
  },
  {
   "cell_type": "markdown",
   "metadata": {},
   "source": [
    "#### SDRank.<b>calculateRank</b>(<i>*args</i>)\n",
    "<small>The function that automates calculating the rank scores of a single dimension using the Ranking Function above.</small><br><br>\n",
    "<small>Returns a table of configurations which is sorted based on the best performing configuration according to their Ranking Score along with number of occurences of the dimension being placed at the rank _r_ (1st, 2nd, 3rd, ...)</small><br><br>\n",
    "<i>Parameters:</i> <br>\n",
    "&emsp; <b>*args : str or list</b><br>\n",
    "&emsp;&emsp;<small>This method takes an arbitrary number of parameters of strings and lists.<br>\n",
    "&emsp;&emsp;&ensp;str -> slice the table according to string input. <i>i.e. \"predicate\" will slice the table by the <b>predicate</b> partitioning</i><br>\n",
    "&emsp;&emsp;&ensp;list -> remove some queries out of the ranking calculations. <i>i.e [7,8,9] will remove query <b>7, 8,and 9</b> from the calculation</small></i><br>\n"
   ]
  },
  {
   "cell_type": "code",
   "execution_count": 5,
   "metadata": {},
   "outputs": [
    {
     "data": {
      "text/html": [
       "<div>\n",
       "<style scoped>\n",
       "    .dataframe tbody tr th:only-of-type {\n",
       "        vertical-align: middle;\n",
       "    }\n",
       "\n",
       "    .dataframe tbody tr th {\n",
       "        vertical-align: top;\n",
       "    }\n",
       "\n",
       "    .dataframe thead th {\n",
       "        text-align: right;\n",
       "    }\n",
       "</style>\n",
       "<table border=\"1\" class=\"dataframe\">\n",
       "  <thead>\n",
       "    <tr style=\"text-align: right;\">\n",
       "      <th></th>\n",
       "      <th>Rank 1</th>\n",
       "      <th>Rank 2</th>\n",
       "      <th>Rank 3</th>\n",
       "      <th>Result</th>\n",
       "    </tr>\n",
       "  </thead>\n",
       "  <tbody>\n",
       "    <tr>\n",
       "      <th>avro.vt</th>\n",
       "      <td>7.0</td>\n",
       "      <td>3.0</td>\n",
       "      <td>1.0</td>\n",
       "      <td>0.772727</td>\n",
       "    </tr>\n",
       "    <tr>\n",
       "      <th>orc.vt</th>\n",
       "      <td>7.0</td>\n",
       "      <td>2.0</td>\n",
       "      <td>2.0</td>\n",
       "      <td>0.727273</td>\n",
       "    </tr>\n",
       "    <tr>\n",
       "      <th>parquet.vt</th>\n",
       "      <td>6.0</td>\n",
       "      <td>4.0</td>\n",
       "      <td>1.0</td>\n",
       "      <td>0.727273</td>\n",
       "    </tr>\n",
       "    <tr>\n",
       "      <th>csv.vt</th>\n",
       "      <td>4.0</td>\n",
       "      <td>7.0</td>\n",
       "      <td>0.0</td>\n",
       "      <td>0.681818</td>\n",
       "    </tr>\n",
       "    <tr>\n",
       "      <th>csv.pt</th>\n",
       "      <td>6.0</td>\n",
       "      <td>3.0</td>\n",
       "      <td>2.0</td>\n",
       "      <td>0.681818</td>\n",
       "    </tr>\n",
       "    <tr>\n",
       "      <th>parquet.pt</th>\n",
       "      <td>4.0</td>\n",
       "      <td>4.0</td>\n",
       "      <td>3.0</td>\n",
       "      <td>0.545455</td>\n",
       "    </tr>\n",
       "    <tr>\n",
       "      <th>avro.pt</th>\n",
       "      <td>3.0</td>\n",
       "      <td>5.0</td>\n",
       "      <td>3.0</td>\n",
       "      <td>0.500000</td>\n",
       "    </tr>\n",
       "    <tr>\n",
       "      <th>orc.pt</th>\n",
       "      <td>3.0</td>\n",
       "      <td>4.0</td>\n",
       "      <td>4.0</td>\n",
       "      <td>0.454545</td>\n",
       "    </tr>\n",
       "    <tr>\n",
       "      <th>orc.st</th>\n",
       "      <td>1.0</td>\n",
       "      <td>5.0</td>\n",
       "      <td>5.0</td>\n",
       "      <td>0.318182</td>\n",
       "    </tr>\n",
       "    <tr>\n",
       "      <th>avro.st</th>\n",
       "      <td>1.0</td>\n",
       "      <td>3.0</td>\n",
       "      <td>7.0</td>\n",
       "      <td>0.227273</td>\n",
       "    </tr>\n",
       "    <tr>\n",
       "      <th>parquet.st</th>\n",
       "      <td>1.0</td>\n",
       "      <td>3.0</td>\n",
       "      <td>7.0</td>\n",
       "      <td>0.227273</td>\n",
       "    </tr>\n",
       "    <tr>\n",
       "      <th>csv.st</th>\n",
       "      <td>1.0</td>\n",
       "      <td>1.0</td>\n",
       "      <td>9.0</td>\n",
       "      <td>0.136364</td>\n",
       "    </tr>\n",
       "  </tbody>\n",
       "</table>\n",
       "</div>"
      ],
      "text/plain": [
       "            Rank 1  Rank 2  Rank 3    Result\n",
       "avro.vt        7.0     3.0     1.0  0.772727\n",
       "orc.vt         7.0     2.0     2.0  0.727273\n",
       "parquet.vt     6.0     4.0     1.0  0.727273\n",
       "csv.vt         4.0     7.0     0.0  0.681818\n",
       "csv.pt         6.0     3.0     2.0  0.681818\n",
       "parquet.pt     4.0     4.0     3.0  0.545455\n",
       "avro.pt        3.0     5.0     3.0  0.500000\n",
       "orc.pt         3.0     4.0     4.0  0.454545\n",
       "orc.st         1.0     5.0     5.0  0.318182\n",
       "avro.st        1.0     3.0     7.0  0.227273\n",
       "parquet.st     1.0     3.0     7.0  0.227273\n",
       "csv.st         1.0     1.0     9.0  0.136364"
      ]
     },
     "execution_count": 5,
     "metadata": {},
     "output_type": "execute_result"
    }
   ],
   "source": [
    "# single dimension ranking by storage without excluding queries\n",
    "schemaSDRank_10M.calculateRank()"
   ]
  },
  {
   "cell_type": "code",
   "execution_count": 6,
   "metadata": {},
   "outputs": [
    {
     "data": {
      "text/html": [
       "<div>\n",
       "<style scoped>\n",
       "    .dataframe tbody tr th:only-of-type {\n",
       "        vertical-align: middle;\n",
       "    }\n",
       "\n",
       "    .dataframe tbody tr th {\n",
       "        vertical-align: top;\n",
       "    }\n",
       "\n",
       "    .dataframe thead th {\n",
       "        text-align: right;\n",
       "    }\n",
       "</style>\n",
       "<table border=\"1\" class=\"dataframe\">\n",
       "  <thead>\n",
       "    <tr style=\"text-align: right;\">\n",
       "      <th></th>\n",
       "      <th>Rank 1</th>\n",
       "      <th>Rank 2</th>\n",
       "      <th>Rank 3</th>\n",
       "      <th>Result</th>\n",
       "    </tr>\n",
       "  </thead>\n",
       "  <tbody>\n",
       "    <tr>\n",
       "      <th>csv.vt</th>\n",
       "      <td>7.0</td>\n",
       "      <td>3.0</td>\n",
       "      <td>1.0</td>\n",
       "      <td>0.772727</td>\n",
       "    </tr>\n",
       "    <tr>\n",
       "      <th>avro.vt</th>\n",
       "      <td>7.0</td>\n",
       "      <td>3.0</td>\n",
       "      <td>1.0</td>\n",
       "      <td>0.772727</td>\n",
       "    </tr>\n",
       "    <tr>\n",
       "      <th>csv.pt</th>\n",
       "      <td>4.0</td>\n",
       "      <td>5.0</td>\n",
       "      <td>2.0</td>\n",
       "      <td>0.590909</td>\n",
       "    </tr>\n",
       "    <tr>\n",
       "      <th>parquet.vt</th>\n",
       "      <td>4.0</td>\n",
       "      <td>5.0</td>\n",
       "      <td>2.0</td>\n",
       "      <td>0.590909</td>\n",
       "    </tr>\n",
       "    <tr>\n",
       "      <th>orc.pt</th>\n",
       "      <td>6.0</td>\n",
       "      <td>0.0</td>\n",
       "      <td>5.0</td>\n",
       "      <td>0.545455</td>\n",
       "    </tr>\n",
       "    <tr>\n",
       "      <th>orc.vt</th>\n",
       "      <td>2.0</td>\n",
       "      <td>7.0</td>\n",
       "      <td>2.0</td>\n",
       "      <td>0.500000</td>\n",
       "    </tr>\n",
       "    <tr>\n",
       "      <th>parquet.pt</th>\n",
       "      <td>5.0</td>\n",
       "      <td>1.0</td>\n",
       "      <td>5.0</td>\n",
       "      <td>0.500000</td>\n",
       "    </tr>\n",
       "    <tr>\n",
       "      <th>avro.pt</th>\n",
       "      <td>3.0</td>\n",
       "      <td>4.0</td>\n",
       "      <td>4.0</td>\n",
       "      <td>0.454545</td>\n",
       "    </tr>\n",
       "    <tr>\n",
       "      <th>orc.st</th>\n",
       "      <td>3.0</td>\n",
       "      <td>4.0</td>\n",
       "      <td>4.0</td>\n",
       "      <td>0.454545</td>\n",
       "    </tr>\n",
       "    <tr>\n",
       "      <th>parquet.st</th>\n",
       "      <td>2.0</td>\n",
       "      <td>5.0</td>\n",
       "      <td>4.0</td>\n",
       "      <td>0.409091</td>\n",
       "    </tr>\n",
       "    <tr>\n",
       "      <th>avro.st</th>\n",
       "      <td>1.0</td>\n",
       "      <td>4.0</td>\n",
       "      <td>6.0</td>\n",
       "      <td>0.272727</td>\n",
       "    </tr>\n",
       "    <tr>\n",
       "      <th>csv.st</th>\n",
       "      <td>0.0</td>\n",
       "      <td>3.0</td>\n",
       "      <td>8.0</td>\n",
       "      <td>0.136364</td>\n",
       "    </tr>\n",
       "  </tbody>\n",
       "</table>\n",
       "</div>"
      ],
      "text/plain": [
       "            Rank 1  Rank 2  Rank 3    Result\n",
       "csv.vt         7.0     3.0     1.0  0.772727\n",
       "avro.vt        7.0     3.0     1.0  0.772727\n",
       "csv.pt         4.0     5.0     2.0  0.590909\n",
       "parquet.vt     4.0     5.0     2.0  0.590909\n",
       "orc.pt         6.0     0.0     5.0  0.545455\n",
       "orc.vt         2.0     7.0     2.0  0.500000\n",
       "parquet.pt     5.0     1.0     5.0  0.500000\n",
       "avro.pt        3.0     4.0     4.0  0.454545\n",
       "orc.st         3.0     4.0     4.0  0.454545\n",
       "parquet.st     2.0     5.0     4.0  0.409091\n",
       "avro.st        1.0     4.0     6.0  0.272727\n",
       "csv.st         0.0     3.0     8.0  0.136364"
      ]
     },
     "execution_count": 6,
     "metadata": {},
     "output_type": "execute_result"
    }
   ],
   "source": [
    "schemaSDRank_100K.calculateRank()"
   ]
  },
  {
   "cell_type": "code",
   "execution_count": 9,
   "metadata": {},
   "outputs": [
    {
     "data": {
      "text/html": [
       "<div>\n",
       "<style scoped>\n",
       "    .dataframe tbody tr th:only-of-type {\n",
       "        vertical-align: middle;\n",
       "    }\n",
       "\n",
       "    .dataframe tbody tr th {\n",
       "        vertical-align: top;\n",
       "    }\n",
       "\n",
       "    .dataframe thead th {\n",
       "        text-align: right;\n",
       "    }\n",
       "</style>\n",
       "<table border=\"1\" class=\"dataframe\">\n",
       "  <thead>\n",
       "    <tr style=\"text-align: right;\">\n",
       "      <th></th>\n",
       "      <th>Rank 1</th>\n",
       "      <th>Rank 2</th>\n",
       "      <th>Rank 3</th>\n",
       "      <th>Rank 4</th>\n",
       "      <th>Result</th>\n",
       "    </tr>\n",
       "  </thead>\n",
       "  <tbody>\n",
       "    <tr>\n",
       "      <th>orc.st</th>\n",
       "      <td>9.0</td>\n",
       "      <td>2.0</td>\n",
       "      <td>0.0</td>\n",
       "      <td>0.0</td>\n",
       "      <td>0.939394</td>\n",
       "    </tr>\n",
       "    <tr>\n",
       "      <th>parquet.vt</th>\n",
       "      <td>6.0</td>\n",
       "      <td>5.0</td>\n",
       "      <td>0.0</td>\n",
       "      <td>0.0</td>\n",
       "      <td>0.848485</td>\n",
       "    </tr>\n",
       "    <tr>\n",
       "      <th>orc.vt</th>\n",
       "      <td>5.0</td>\n",
       "      <td>6.0</td>\n",
       "      <td>0.0</td>\n",
       "      <td>0.0</td>\n",
       "      <td>0.818182</td>\n",
       "    </tr>\n",
       "    <tr>\n",
       "      <th>parquet.st</th>\n",
       "      <td>2.0</td>\n",
       "      <td>9.0</td>\n",
       "      <td>0.0</td>\n",
       "      <td>0.0</td>\n",
       "      <td>0.727273</td>\n",
       "    </tr>\n",
       "    <tr>\n",
       "      <th>orc.pt</th>\n",
       "      <td>5.0</td>\n",
       "      <td>4.0</td>\n",
       "      <td>0.0</td>\n",
       "      <td>2.0</td>\n",
       "      <td>0.696970</td>\n",
       "    </tr>\n",
       "    <tr>\n",
       "      <th>parquet.pt</th>\n",
       "      <td>4.0</td>\n",
       "      <td>5.0</td>\n",
       "      <td>0.0</td>\n",
       "      <td>2.0</td>\n",
       "      <td>0.666667</td>\n",
       "    </tr>\n",
       "    <tr>\n",
       "      <th>avro.st</th>\n",
       "      <td>0.0</td>\n",
       "      <td>0.0</td>\n",
       "      <td>10.0</td>\n",
       "      <td>1.0</td>\n",
       "      <td>0.303030</td>\n",
       "    </tr>\n",
       "    <tr>\n",
       "      <th>avro.vt</th>\n",
       "      <td>0.0</td>\n",
       "      <td>0.0</td>\n",
       "      <td>10.0</td>\n",
       "      <td>1.0</td>\n",
       "      <td>0.303030</td>\n",
       "    </tr>\n",
       "    <tr>\n",
       "      <th>avro.pt</th>\n",
       "      <td>0.0</td>\n",
       "      <td>0.0</td>\n",
       "      <td>5.0</td>\n",
       "      <td>6.0</td>\n",
       "      <td>0.151515</td>\n",
       "    </tr>\n",
       "    <tr>\n",
       "      <th>csv.pt</th>\n",
       "      <td>0.0</td>\n",
       "      <td>0.0</td>\n",
       "      <td>4.0</td>\n",
       "      <td>7.0</td>\n",
       "      <td>0.121212</td>\n",
       "    </tr>\n",
       "    <tr>\n",
       "      <th>csv.st</th>\n",
       "      <td>0.0</td>\n",
       "      <td>0.0</td>\n",
       "      <td>1.0</td>\n",
       "      <td>10.0</td>\n",
       "      <td>0.030303</td>\n",
       "    </tr>\n",
       "    <tr>\n",
       "      <th>csv.vt</th>\n",
       "      <td>0.0</td>\n",
       "      <td>0.0</td>\n",
       "      <td>1.0</td>\n",
       "      <td>10.0</td>\n",
       "      <td>0.030303</td>\n",
       "    </tr>\n",
       "  </tbody>\n",
       "</table>\n",
       "</div>"
      ],
      "text/plain": [
       "            Rank 1  Rank 2  Rank 3  Rank 4    Result\n",
       "orc.st         9.0     2.0     0.0     0.0  0.939394\n",
       "parquet.vt     6.0     5.0     0.0     0.0  0.848485\n",
       "orc.vt         5.0     6.0     0.0     0.0  0.818182\n",
       "parquet.st     2.0     9.0     0.0     0.0  0.727273\n",
       "orc.pt         5.0     4.0     0.0     2.0  0.696970\n",
       "parquet.pt     4.0     5.0     0.0     2.0  0.666667\n",
       "avro.st        0.0     0.0    10.0     1.0  0.303030\n",
       "avro.vt        0.0     0.0    10.0     1.0  0.303030\n",
       "avro.pt        0.0     0.0     5.0     6.0  0.151515\n",
       "csv.pt         0.0     0.0     4.0     7.0  0.121212\n",
       "csv.st         0.0     0.0     1.0    10.0  0.030303\n",
       "csv.vt         0.0     0.0     1.0    10.0  0.030303"
      ]
     },
     "execution_count": 9,
     "metadata": {},
     "output_type": "execute_result"
    }
   ],
   "source": [
    "storageSDRank_10M.calculateRank()"
   ]
  },
  {
   "cell_type": "code",
   "execution_count": 10,
   "metadata": {},
   "outputs": [
    {
     "data": {
      "text/html": [
       "<div>\n",
       "<style scoped>\n",
       "    .dataframe tbody tr th:only-of-type {\n",
       "        vertical-align: middle;\n",
       "    }\n",
       "\n",
       "    .dataframe tbody tr th {\n",
       "        vertical-align: top;\n",
       "    }\n",
       "\n",
       "    .dataframe thead th {\n",
       "        text-align: right;\n",
       "    }\n",
       "</style>\n",
       "<table border=\"1\" class=\"dataframe\">\n",
       "  <thead>\n",
       "    <tr style=\"text-align: right;\">\n",
       "      <th></th>\n",
       "      <th>Rank 1</th>\n",
       "      <th>Rank 2</th>\n",
       "      <th>Rank 3</th>\n",
       "      <th>Rank 4</th>\n",
       "      <th>Result</th>\n",
       "    </tr>\n",
       "  </thead>\n",
       "  <tbody>\n",
       "    <tr>\n",
       "      <th>orc.st</th>\n",
       "      <td>8.0</td>\n",
       "      <td>2.0</td>\n",
       "      <td>1.0</td>\n",
       "      <td>0.0</td>\n",
       "      <td>0.878788</td>\n",
       "    </tr>\n",
       "    <tr>\n",
       "      <th>parquet.st</th>\n",
       "      <td>3.0</td>\n",
       "      <td>8.0</td>\n",
       "      <td>0.0</td>\n",
       "      <td>0.0</td>\n",
       "      <td>0.757576</td>\n",
       "    </tr>\n",
       "    <tr>\n",
       "      <th>avro.vt</th>\n",
       "      <td>6.0</td>\n",
       "      <td>1.0</td>\n",
       "      <td>1.0</td>\n",
       "      <td>3.0</td>\n",
       "      <td>0.636364</td>\n",
       "    </tr>\n",
       "    <tr>\n",
       "      <th>orc.pt</th>\n",
       "      <td>3.0</td>\n",
       "      <td>5.0</td>\n",
       "      <td>2.0</td>\n",
       "      <td>1.0</td>\n",
       "      <td>0.636364</td>\n",
       "    </tr>\n",
       "    <tr>\n",
       "      <th>parquet.vt</th>\n",
       "      <td>2.0</td>\n",
       "      <td>6.0</td>\n",
       "      <td>2.0</td>\n",
       "      <td>1.0</td>\n",
       "      <td>0.606061</td>\n",
       "    </tr>\n",
       "    <tr>\n",
       "      <th>csv.pt</th>\n",
       "      <td>4.0</td>\n",
       "      <td>3.0</td>\n",
       "      <td>2.0</td>\n",
       "      <td>2.0</td>\n",
       "      <td>0.606061</td>\n",
       "    </tr>\n",
       "    <tr>\n",
       "      <th>parquet.pt</th>\n",
       "      <td>3.0</td>\n",
       "      <td>1.0</td>\n",
       "      <td>6.0</td>\n",
       "      <td>1.0</td>\n",
       "      <td>0.515152</td>\n",
       "    </tr>\n",
       "    <tr>\n",
       "      <th>csv.vt</th>\n",
       "      <td>1.0</td>\n",
       "      <td>4.0</td>\n",
       "      <td>5.0</td>\n",
       "      <td>1.0</td>\n",
       "      <td>0.484848</td>\n",
       "    </tr>\n",
       "    <tr>\n",
       "      <th>avro.st</th>\n",
       "      <td>0.0</td>\n",
       "      <td>0.0</td>\n",
       "      <td>10.0</td>\n",
       "      <td>1.0</td>\n",
       "      <td>0.303030</td>\n",
       "    </tr>\n",
       "    <tr>\n",
       "      <th>orc.vt</th>\n",
       "      <td>2.0</td>\n",
       "      <td>0.0</td>\n",
       "      <td>3.0</td>\n",
       "      <td>6.0</td>\n",
       "      <td>0.272727</td>\n",
       "    </tr>\n",
       "    <tr>\n",
       "      <th>csv.st</th>\n",
       "      <td>0.0</td>\n",
       "      <td>1.0</td>\n",
       "      <td>0.0</td>\n",
       "      <td>10.0</td>\n",
       "      <td>0.060606</td>\n",
       "    </tr>\n",
       "    <tr>\n",
       "      <th>avro.pt</th>\n",
       "      <td>0.0</td>\n",
       "      <td>1.0</td>\n",
       "      <td>0.0</td>\n",
       "      <td>10.0</td>\n",
       "      <td>0.060606</td>\n",
       "    </tr>\n",
       "  </tbody>\n",
       "</table>\n",
       "</div>"
      ],
      "text/plain": [
       "            Rank 1  Rank 2  Rank 3  Rank 4    Result\n",
       "orc.st         8.0     2.0     1.0     0.0  0.878788\n",
       "parquet.st     3.0     8.0     0.0     0.0  0.757576\n",
       "avro.vt        6.0     1.0     1.0     3.0  0.636364\n",
       "orc.pt         3.0     5.0     2.0     1.0  0.636364\n",
       "parquet.vt     2.0     6.0     2.0     1.0  0.606061\n",
       "csv.pt         4.0     3.0     2.0     2.0  0.606061\n",
       "parquet.pt     3.0     1.0     6.0     1.0  0.515152\n",
       "csv.vt         1.0     4.0     5.0     1.0  0.484848\n",
       "avro.st        0.0     0.0    10.0     1.0  0.303030\n",
       "orc.vt         2.0     0.0     3.0     6.0  0.272727\n",
       "csv.st         0.0     1.0     0.0    10.0  0.060606\n",
       "avro.pt        0.0     1.0     0.0    10.0  0.060606"
      ]
     },
     "execution_count": 10,
     "metadata": {},
     "output_type": "execute_result"
    }
   ],
   "source": [
    "# single dimension ranking by storage excluding query 7,8,and 9\n",
    "storageSDRank_100K.calculateRank()"
   ]
  },
  {
   "cell_type": "markdown",
   "metadata": {},
   "source": [
    "### Rank.SDRank.plotRadar"
   ]
  },
  {
   "cell_type": "markdown",
   "metadata": {},
   "source": [
    "#### SDRank.<b>plotRadar</b>()"
   ]
  },
  {
   "cell_type": "markdown",
   "metadata": {},
   "source": [
    "<small>Ranking over one dimension is insufficient when it counts multiple dimensions. The presence of trade-offs reduces the accuracy of single dimension ranking functions which could be seen in the radar plot below.</small><br><br>\n",
    "<small>This method returns a radar chart that shows the presence of trade-offs by using the single dimension ranking criterion that reduces the accuracy of the other dimensions</small>"
   ]
  },
  {
   "cell_type": "markdown",
   "metadata": {},
   "source": [
    "### Rank.SDRank.plot"
   ]
  },
  {
   "cell_type": "markdown",
   "metadata": {},
   "source": [
    "#### SDRank.<b>plot</b>(<i>view</i>)\n",
    "<small>In addition to radar plot, PAPyA also provides visualization that shows the performance of a single dimension parameters that user can choose in terms of their rank scores</small><br><br>\n",
    "<small>This method returns a bar chart that shows a particular dimension rankings, pivoting another dimension by user viewing projection</small><br><br>\n",
    "<i>Parameters:</i> <br>\n",
    "&emsp; <b>view : str</b><br>\n",
    "&emsp;&emsp;<small>This method takes a string of dimensional option that user choose to view as projection</small><br><br>\n",
    "<i>Example:</i><br>\n",
    "&emsp;&emsp;<small>_Schemas_ single dimensional ranking viewed from _Predicate Partitioning_ by pivoting over the _Storage_ dimension</small>\n"
   ]
  },
  {
   "cell_type": "code",
   "execution_count": 10,
   "metadata": {},
   "outputs": [
    {
     "ename": "TypeError",
     "evalue": "SDRank.plot() missing 1 required positional argument: 'view'",
     "output_type": "error",
     "traceback": [
      "\u001b[1;31m---------------------------------------------------------------------------\u001b[0m",
      "\u001b[1;31mTypeError\u001b[0m                                 Traceback (most recent call last)",
      "\u001b[1;32md:\\Work\\coding\\PAPyA\\UI Module_Development\\BenchRanker_twoDimensions.ipynb Cell 31\u001b[0m in \u001b[0;36m<cell line: 4>\u001b[1;34m()\u001b[0m\n\u001b[0;32m      <a href='vscode-notebook-cell:/d%3A/Work/coding/PAPyA/UI%20Module_Development/BenchRanker_twoDimensions.ipynb#X41sZmlsZQ%3D%3D?line=0'>1</a>\u001b[0m \u001b[39mfrom\u001b[39;00m \u001b[39mRank\u001b[39;00m \u001b[39mimport\u001b[39;00m SDRank\n\u001b[0;32m      <a href='vscode-notebook-cell:/d%3A/Work/coding/PAPyA/UI%20Module_Development/BenchRanker_twoDimensions.ipynb#X41sZmlsZQ%3D%3D?line=2'>3</a>\u001b[0m \u001b[39m# example of schema dimension plots\u001b[39;00m\n\u001b[1;32m----> <a href='vscode-notebook-cell:/d%3A/Work/coding/PAPyA/UI%20Module_Development/BenchRanker_twoDimensions.ipynb#X41sZmlsZQ%3D%3D?line=3'>4</a>\u001b[0m SDRank(config_sp2bench, logs_sp2bench, \u001b[39m'\u001b[39;49m\u001b[39m10M\u001b[39;49m\u001b[39m'\u001b[39;49m, \u001b[39m'\u001b[39;49m\u001b[39mschemas\u001b[39;49m\u001b[39m'\u001b[39;49m)\u001b[39m.\u001b[39;49mplot()\n",
      "\u001b[1;31mTypeError\u001b[0m: SDRank.plot() missing 1 required positional argument: 'view'"
     ]
    }
   ],
   "source": [
    "from Rank import SDRank\n",
    "\n",
    "# example of schema dimension plots\n",
    "SDRank(config_sp2bench, logs_sp2bench, '10M', 'schemas').plot()"
   ]
  },
  {
   "cell_type": "markdown",
   "metadata": {},
   "source": [
    "### Rank.SDRank.plotBox"
   ]
  },
  {
   "cell_type": "markdown",
   "metadata": {},
   "source": [
    "#### SDRank.<b>plotBox</b>(<i>q = None</i>)\n",
    "<small>In order to show the distributions of our query runtimes data, we need a box plot diagram to compare these data between queries in our experiment. Box plot can help provide information at a glance, giving us general information about our data</small><br><br>\n",
    "<small>This method returns a box plot diagram that shows both maximum and minimum runtimes of each individual queries for a particular single dimensional ranking</small><br><br>\n",
    "<i>Parameters:</i> <br>\n",
    "&emsp; <b>q : list</b><br>\n",
    "&emsp;&emsp;<small>This method can take a list of column names that user can specify to choose for plotting to have a more precise box plot diagram. i.e. list of [\"Q1\", \"Q2\", \"Q3\"] will output a <br>\n",
    "&emsp;&emsp;&ensp;box plot only for those queries </small>"
   ]
  },
  {
   "cell_type": "code",
   "execution_count": null,
   "metadata": {},
   "outputs": [],
   "source": [
    "from Rank import SDRank\n",
    "\n",
    "# Box plot example of all queries of schema ranking dimension\n",
    "SDRank(config_watdiv, logs_watdiv, '100M', 'schemas').plotBox()\n",
    "\n",
    "# Box plot example of query 1,2,3 of schema ranking dimension\n",
    "SDRank(config_watdiv, logs_watdiv, '100M', 'schemas').plotBox([\"Q1\", \"Q2\", \"Q3\"])"
   ]
  },
  {
   "cell_type": "markdown",
   "metadata": {},
   "source": [
    "### Multi Dimensional Ranking"
   ]
  },
  {
   "cell_type": "markdown",
   "metadata": {},
   "source": [
    "With the presence of the trade-offs introduced in the single dimensional ranking function, we propose an optimization technique that aims to find the non-dominated solutions or the configuration combinations by optimizing all dimensions at the same time which utilize the NSGA2 Algorithm.<br>\n",
    "In this experiment, we provide two ways to use the NSGA2 Algorithm:\n",
    "- The first method is _paretoAgg_ which operates on the single dimensional ranking criteria. This method aims to maximize performance of the three ranks altogether\n",
    "- The second method is _paretoQ_ which apply the algorithm considering the rank sets obtained by sorting each query results individually. This method aims at minimizing query runtimes of the ranked dimensions"
   ]
  },
  {
   "cell_type": "markdown",
   "metadata": {},
   "source": [
    "### PAPyA.Rank.MDRank"
   ]
  },
  {
   "cell_type": "markdown",
   "metadata": {},
   "source": [
    "#### <i>class</i> Rank.<b>MDRank</b>(<i>config_path, log_path, ranking_sets</i>)\n",
    "<i>Parameters:</i> <br>\n",
    "&emsp; <b>config_path : str</b><br>\n",
    "&emsp;&emsp;<small>Specify the path to your configuration file(s). <i>i.e ./UIModule/settings_watdiv.yaml</small></i><br>\n",
    "&emsp;<b>log_path : str</b><br>\n",
    "&emsp;&emsp;<small>Specify the path to your log file(s). <i>i.e ./UI Module/log_watdiv</small></i><br>\n",
    "&emsp;<b>ranking_sets : str</b><br>\n",
    "&emsp;&emsp;<small>Ranking sets of user choice. <i>i.e dataset sizes (100M)</small></i><br>"
   ]
  },
  {
   "cell_type": "code",
   "execution_count": 7,
   "metadata": {},
   "outputs": [],
   "source": [
    "from Rank import MDRank\n",
    "\n",
    "config = 'settings.yaml'\n",
    "log = 'log_twoDimension'\n",
    "\n",
    "# example of MDRank class with 100M dataset size as ranking set of the experiment\n",
    "multiDimensionRank_10M = MDRank(config, log, '10M')\n",
    "multiDimensionRank_100K = MDRank(config, log, \"100K\")"
   ]
  },
  {
   "cell_type": "markdown",
   "metadata": {},
   "source": [
    "### Rank.MDRank.paretoQ"
   ]
  },
  {
   "cell_type": "markdown",
   "metadata": {},
   "source": [
    "#### MDRank.<b>paretoQ</b>(<i>q</i>)\n",
    "<small>This method returns a table of configuration solutions as well as their dominated ones, according to the Non-Dominated Sorting Algorithm II (NSGA2) that was applied to minimizing query runtimes of the ranked dimensions</small><br><br>\n",
    "<i>Parameters:</i> <br>\n",
    "&emsp; <b>q : list</b><br>\n",
    "&emsp;&emsp;<small>remove some queries out of the ranking calculations. <i>i.e [7,8,9] will remove query <b>7, 8,and 9</b> from the calculation</small></i>"
   ]
  },
  {
   "cell_type": "code",
   "execution_count": 8,
   "metadata": {},
   "outputs": [
    {
     "data": {
      "text/html": [
       "<div>\n",
       "<style scoped>\n",
       "    .dataframe tbody tr th:only-of-type {\n",
       "        vertical-align: middle;\n",
       "    }\n",
       "\n",
       "    .dataframe tbody tr th {\n",
       "        vertical-align: top;\n",
       "    }\n",
       "\n",
       "    .dataframe thead th {\n",
       "        text-align: right;\n",
       "    }\n",
       "</style>\n",
       "<table border=\"1\" class=\"dataframe\">\n",
       "  <thead>\n",
       "    <tr style=\"text-align: right;\">\n",
       "      <th></th>\n",
       "      <th>Solution</th>\n",
       "      <th>Dominated</th>\n",
       "    </tr>\n",
       "  </thead>\n",
       "  <tbody>\n",
       "    <tr>\n",
       "      <th>0</th>\n",
       "      <td>orc.vt</td>\n",
       "      <td>avro.vt</td>\n",
       "    </tr>\n",
       "    <tr>\n",
       "      <th>1</th>\n",
       "      <td>parquet.vt</td>\n",
       "      <td>csv.pt</td>\n",
       "    </tr>\n",
       "    <tr>\n",
       "      <th>2</th>\n",
       "      <td>orc.st</td>\n",
       "      <td>csv.vt</td>\n",
       "    </tr>\n",
       "    <tr>\n",
       "      <th>3</th>\n",
       "      <td>parquet.pt</td>\n",
       "      <td>avro.pt</td>\n",
       "    </tr>\n",
       "    <tr>\n",
       "      <th>4</th>\n",
       "      <td>orc.pt</td>\n",
       "      <td>avro.st</td>\n",
       "    </tr>\n",
       "    <tr>\n",
       "      <th>5</th>\n",
       "      <td>parquet.st</td>\n",
       "      <td>csv.st</td>\n",
       "    </tr>\n",
       "  </tbody>\n",
       "</table>\n",
       "</div>"
      ],
      "text/plain": [
       "     Solution Dominated\n",
       "0      orc.vt   avro.vt\n",
       "1  parquet.vt    csv.pt\n",
       "2      orc.st    csv.vt\n",
       "3  parquet.pt   avro.pt\n",
       "4      orc.pt   avro.st\n",
       "5  parquet.st    csv.st"
      ]
     },
     "execution_count": 8,
     "metadata": {},
     "output_type": "execute_result"
    }
   ],
   "source": [
    "multiDimensionRank_10M.paretoQ()"
   ]
  },
  {
   "cell_type": "code",
   "execution_count": 9,
   "metadata": {},
   "outputs": [
    {
     "data": {
      "text/html": [
       "<div>\n",
       "<style scoped>\n",
       "    .dataframe tbody tr th:only-of-type {\n",
       "        vertical-align: middle;\n",
       "    }\n",
       "\n",
       "    .dataframe tbody tr th {\n",
       "        vertical-align: top;\n",
       "    }\n",
       "\n",
       "    .dataframe thead th {\n",
       "        text-align: right;\n",
       "    }\n",
       "</style>\n",
       "<table border=\"1\" class=\"dataframe\">\n",
       "  <thead>\n",
       "    <tr style=\"text-align: right;\">\n",
       "      <th></th>\n",
       "      <th>Solution</th>\n",
       "      <th>Dominated</th>\n",
       "    </tr>\n",
       "  </thead>\n",
       "  <tbody>\n",
       "    <tr>\n",
       "      <th>0</th>\n",
       "      <td>parquet.vt</td>\n",
       "      <td>avro.pt</td>\n",
       "    </tr>\n",
       "    <tr>\n",
       "      <th>1</th>\n",
       "      <td>avro.vt</td>\n",
       "      <td>avro.st</td>\n",
       "    </tr>\n",
       "    <tr>\n",
       "      <th>2</th>\n",
       "      <td>csv.vt</td>\n",
       "      <td>csv.st</td>\n",
       "    </tr>\n",
       "    <tr>\n",
       "      <th>3</th>\n",
       "      <td>csv.pt</td>\n",
       "      <td></td>\n",
       "    </tr>\n",
       "    <tr>\n",
       "      <th>4</th>\n",
       "      <td>orc.st</td>\n",
       "      <td></td>\n",
       "    </tr>\n",
       "    <tr>\n",
       "      <th>5</th>\n",
       "      <td>orc.pt</td>\n",
       "      <td></td>\n",
       "    </tr>\n",
       "    <tr>\n",
       "      <th>6</th>\n",
       "      <td>parquet.st</td>\n",
       "      <td></td>\n",
       "    </tr>\n",
       "    <tr>\n",
       "      <th>7</th>\n",
       "      <td>parquet.pt</td>\n",
       "      <td></td>\n",
       "    </tr>\n",
       "    <tr>\n",
       "      <th>8</th>\n",
       "      <td>orc.vt</td>\n",
       "      <td></td>\n",
       "    </tr>\n",
       "  </tbody>\n",
       "</table>\n",
       "</div>"
      ],
      "text/plain": [
       "     Solution Dominated\n",
       "0  parquet.vt   avro.pt\n",
       "1     avro.vt   avro.st\n",
       "2      csv.vt    csv.st\n",
       "3      csv.pt          \n",
       "4      orc.st          \n",
       "5      orc.pt          \n",
       "6  parquet.st          \n",
       "7  parquet.pt          \n",
       "8      orc.vt          "
      ]
     },
     "execution_count": 9,
     "metadata": {},
     "output_type": "execute_result"
    }
   ],
   "source": [
    "multiDimensionRank_100K.paretoQ()"
   ]
  },
  {
   "cell_type": "markdown",
   "metadata": {},
   "source": [
    "### Rank.MDRank.paretoAgg"
   ]
  },
  {
   "cell_type": "markdown",
   "metadata": {},
   "source": [
    "#### MDRank.<b>paretoAgg</b>(<i>q</i>)\n",
    "<small>This method returns a table of configuration solutions as well as their dominated ones, according to the Non-Dominated Sorting Algorithm II (NSGA2) that was applied on the single dimensional ranking criteria which maximizes the performance of all ranking sets altogether</small><br><br>\n",
    "<i>Parameters:</i> <br>\n",
    "&emsp; <b>q : list</b><br>\n",
    "&emsp;&emsp;<small>remove some queries out of the ranking calculations. <i>i.e [7,8,9] will remove query <b>7, 8,and 9</b> from the calculation</small></i>"
   ]
  },
  {
   "cell_type": "code",
   "execution_count": 10,
   "metadata": {},
   "outputs": [
    {
     "data": {
      "text/html": [
       "<div>\n",
       "<style scoped>\n",
       "    .dataframe tbody tr th:only-of-type {\n",
       "        vertical-align: middle;\n",
       "    }\n",
       "\n",
       "    .dataframe tbody tr th {\n",
       "        vertical-align: top;\n",
       "    }\n",
       "\n",
       "    .dataframe thead th {\n",
       "        text-align: right;\n",
       "    }\n",
       "</style>\n",
       "<table border=\"1\" class=\"dataframe\">\n",
       "  <thead>\n",
       "    <tr style=\"text-align: right;\">\n",
       "      <th></th>\n",
       "      <th>Solution</th>\n",
       "      <th>Dominated</th>\n",
       "    </tr>\n",
       "  </thead>\n",
       "  <tbody>\n",
       "    <tr>\n",
       "      <th>0</th>\n",
       "      <td>parquet.vt</td>\n",
       "      <td>orc.vt</td>\n",
       "    </tr>\n",
       "    <tr>\n",
       "      <th>1</th>\n",
       "      <td>orc.st</td>\n",
       "      <td>parquet.pt</td>\n",
       "    </tr>\n",
       "    <tr>\n",
       "      <th>2</th>\n",
       "      <td>avro.vt</td>\n",
       "      <td>orc.pt</td>\n",
       "    </tr>\n",
       "    <tr>\n",
       "      <th>3</th>\n",
       "      <td></td>\n",
       "      <td>parquet.st</td>\n",
       "    </tr>\n",
       "    <tr>\n",
       "      <th>4</th>\n",
       "      <td></td>\n",
       "      <td>csv.pt</td>\n",
       "    </tr>\n",
       "    <tr>\n",
       "      <th>5</th>\n",
       "      <td></td>\n",
       "      <td>csv.vt</td>\n",
       "    </tr>\n",
       "    <tr>\n",
       "      <th>6</th>\n",
       "      <td></td>\n",
       "      <td>avro.pt</td>\n",
       "    </tr>\n",
       "    <tr>\n",
       "      <th>7</th>\n",
       "      <td></td>\n",
       "      <td>avro.st</td>\n",
       "    </tr>\n",
       "    <tr>\n",
       "      <th>8</th>\n",
       "      <td></td>\n",
       "      <td>csv.st</td>\n",
       "    </tr>\n",
       "  </tbody>\n",
       "</table>\n",
       "</div>"
      ],
      "text/plain": [
       "     Solution   Dominated\n",
       "0  parquet.vt      orc.vt\n",
       "1      orc.st  parquet.pt\n",
       "2     avro.vt      orc.pt\n",
       "3              parquet.st\n",
       "4                  csv.pt\n",
       "5                  csv.vt\n",
       "6                 avro.pt\n",
       "7                 avro.st\n",
       "8                  csv.st"
      ]
     },
     "execution_count": 10,
     "metadata": {},
     "output_type": "execute_result"
    }
   ],
   "source": [
    "multiDimensionRank_10M.paretoAgg()"
   ]
  },
  {
   "cell_type": "code",
   "execution_count": 11,
   "metadata": {},
   "outputs": [
    {
     "data": {
      "text/html": [
       "<div>\n",
       "<style scoped>\n",
       "    .dataframe tbody tr th:only-of-type {\n",
       "        vertical-align: middle;\n",
       "    }\n",
       "\n",
       "    .dataframe tbody tr th {\n",
       "        vertical-align: top;\n",
       "    }\n",
       "\n",
       "    .dataframe thead th {\n",
       "        text-align: right;\n",
       "    }\n",
       "</style>\n",
       "<table border=\"1\" class=\"dataframe\">\n",
       "  <thead>\n",
       "    <tr style=\"text-align: right;\">\n",
       "      <th></th>\n",
       "      <th>Solution</th>\n",
       "      <th>Dominated</th>\n",
       "    </tr>\n",
       "  </thead>\n",
       "  <tbody>\n",
       "    <tr>\n",
       "      <th>0</th>\n",
       "      <td>avro.vt</td>\n",
       "      <td>csv.vt</td>\n",
       "    </tr>\n",
       "    <tr>\n",
       "      <th>1</th>\n",
       "      <td>orc.st</td>\n",
       "      <td>csv.pt</td>\n",
       "    </tr>\n",
       "    <tr>\n",
       "      <th>2</th>\n",
       "      <td></td>\n",
       "      <td>orc.pt</td>\n",
       "    </tr>\n",
       "    <tr>\n",
       "      <th>3</th>\n",
       "      <td></td>\n",
       "      <td>parquet.st</td>\n",
       "    </tr>\n",
       "    <tr>\n",
       "      <th>4</th>\n",
       "      <td></td>\n",
       "      <td>parquet.pt</td>\n",
       "    </tr>\n",
       "    <tr>\n",
       "      <th>5</th>\n",
       "      <td></td>\n",
       "      <td>orc.vt</td>\n",
       "    </tr>\n",
       "    <tr>\n",
       "      <th>6</th>\n",
       "      <td></td>\n",
       "      <td>avro.st</td>\n",
       "    </tr>\n",
       "    <tr>\n",
       "      <th>7</th>\n",
       "      <td></td>\n",
       "      <td>avro.pt</td>\n",
       "    </tr>\n",
       "    <tr>\n",
       "      <th>8</th>\n",
       "      <td></td>\n",
       "      <td>csv.st</td>\n",
       "    </tr>\n",
       "  </tbody>\n",
       "</table>\n",
       "</div>"
      ],
      "text/plain": [
       "  Solution   Dominated\n",
       "0  avro.vt      csv.vt\n",
       "1   orc.st      csv.pt\n",
       "2               orc.pt\n",
       "3           parquet.st\n",
       "4           parquet.pt\n",
       "5               orc.vt\n",
       "6              avro.st\n",
       "7              avro.pt\n",
       "8               csv.st"
      ]
     },
     "execution_count": 11,
     "metadata": {},
     "output_type": "execute_result"
    }
   ],
   "source": [
    "multiDimensionRank_100K.paretoAgg()"
   ]
  },
  {
   "cell_type": "markdown",
   "metadata": {},
   "source": [
    "### Rank.MDRank.plot"
   ]
  },
  {
   "cell_type": "markdown",
   "metadata": {},
   "source": [
    "#### MDRank.<b>plot</b>()\n",
    "<small>This method returns a plot for multi dimensional ranking solutions according to paretoAgg as shades of green projected in a three dimensional space</small>"
   ]
  },
  {
   "cell_type": "code",
   "execution_count": 9,
   "metadata": {},
   "outputs": [
    {
     "name": "stdout",
     "output_type": "stream",
     "text": [
      "(3, 2) (9, 2)\n"
     ]
    },
    {
     "ename": "IndexError",
     "evalue": "index 2 is out of bounds for axis 1 with size 2",
     "output_type": "error",
     "traceback": [
      "\u001b[1;31m---------------------------------------------------------------------------\u001b[0m",
      "\u001b[1;31mIndexError\u001b[0m                                Traceback (most recent call last)",
      "\u001b[1;32md:\\Work\\coding\\PAPyA\\UI Module_Development\\BenchRanker_twoDimensions.ipynb Cell 49\u001b[0m in \u001b[0;36m<cell line: 1>\u001b[1;34m()\u001b[0m\n\u001b[1;32m----> <a href='vscode-notebook-cell:/d%3A/Work/coding/PAPyA/UI%20Module_Development/BenchRanker_twoDimensions.ipynb#X65sZmlsZQ%3D%3D?line=0'>1</a>\u001b[0m multiDimensionRank\u001b[39m.\u001b[39;49mplot()\n",
      "File \u001b[1;32md:\\Work\\coding\\PAPyA\\UI Module_Development\\Rank.py:589\u001b[0m, in \u001b[0;36mMDRank.plot\u001b[1;34m(self)\u001b[0m\n\u001b[0;32m    586\u001b[0m pp \u001b[39m=\u001b[39m np\u001b[39m.\u001b[39marray(\u001b[39mlist\u001b[39m(paretoPoints))\n\u001b[0;32m    588\u001b[0m \u001b[39mprint\u001b[39m(pp\u001b[39m.\u001b[39mshape, dp\u001b[39m.\u001b[39mshape)\n\u001b[1;32m--> 589\u001b[0m ax\u001b[39m.\u001b[39mscatter(dp[:, \u001b[39m0\u001b[39m], dp[:, \u001b[39m1\u001b[39m], dp[:, \u001b[39m2\u001b[39;49m])\n\u001b[0;32m    590\u001b[0m ax\u001b[39m.\u001b[39mscatter(pp[:, \u001b[39m0\u001b[39m], pp[:, \u001b[39m1\u001b[39m], pp[:, \u001b[39m2\u001b[39m], color\u001b[39m=\u001b[39m\u001b[39m'\u001b[39m\u001b[39mgreen\u001b[39m\u001b[39m'\u001b[39m)\n\u001b[0;32m    592\u001b[0m ax\u001b[39m.\u001b[39mset_xlabel(\u001b[39m'\u001b[39m\u001b[39mRf\u001b[39m\u001b[39m'\u001b[39m)\n",
      "\u001b[1;31mIndexError\u001b[0m: index 2 is out of bounds for axis 1 with size 2"
     ]
    },
    {
     "data": {
      "image/png": "[encoded data removed]",
      "text/plain": [
       "<Figure size 1080x1080 with 1 Axes>"
      ]
     },
     "metadata": {
      "needs_background": "light"
     },
     "output_type": "display_data"
    }
   ],
   "source": [
    "multiDimensionRank.plot()"
   ]
  },
  {
   "cell_type": "markdown",
   "metadata": {},
   "source": [
    "### Ranking Criteria Validation"
   ]
  },
  {
   "cell_type": "markdown",
   "metadata": {},
   "source": [
    "This library provides two metrics of evaluation to evaluate the goodness of the ranking criteria the _conformance_ and _coherence_\n",
    "\n",
    "- Conformance measures the adherence of the top-ranked configurations according to the actual query positioning of thoses configurations. We calculate conformance according to the equation below:"
   ]
  },
  {
   "cell_type": "markdown",
   "metadata": {},
   "source": [
    "$$A(R^k) = 1 - \\sum \\limits _{i=0} ^{|Q|} \\sum \\limits _{j=0} ^{k} \\frac {\\bar{A}(i,j)}{|Q|*k}$$"
   ]
  },
  {
   "cell_type": "markdown",
   "metadata": {},
   "source": [
    "Consider $R_{s}$ ranking and the top-3 ranked configurations are ${c_{1},c_{2},c_{3}}$, that overlaps only with the bottom-3 ranked configuration in query $|Q|$. That is, ${c_{4},c_{2},c_{5}}$. For example, $c_{2}$ is in the $59^{th}$ position out of 60 positions. <br>\n",
    "Thus, $A(R^k) = 1- \\frac {1}{(11*3)}$, when $k = 3$ and $|Q| = 11$"
   ]
  },
  {
   "cell_type": "markdown",
   "metadata": {},
   "source": [
    "- Coherence is the measure agreement between two ranking sets that uses the same ranking criteria accross different experiments. We used Kendall's Index to calculate coherence, which counts the number of dis(agreements) between two ranking sets"
   ]
  },
  {
   "cell_type": "markdown",
   "metadata": {},
   "source": [
    "$$K(R_{1}, R_{2}) = \\sum \\limits _{{i,j} \\epsilon P} ^{} \\frac {\\bar{K}_{i,j}(R_{1}, R_{2})}{|P|}$$"
   ]
  },
  {
   "cell_type": "markdown",
   "metadata": {},
   "source": [
    "In this experiment, we assume that rank sets are the dataset sizes (i.e. 100M and 250M). Kendall’s distance between two rank sets $R_{1}$ and $R_{2}$, where $|P|$ represents the set of unique pairs of distinct elements in the two sets. For instance, the $K$ index between $R_{1}={c_{1},c_{2},c_{3}}$ and $R_{2}={c_{1},c_{2},c_{4}}$ for 100M and 250M is 0.33, i.e., one disagreement out of three pair comparisons."
   ]
  },
  {
   "cell_type": "markdown",
   "metadata": {},
   "source": [
    "### PAPyA.Ranker.Conformance"
   ]
  },
  {
   "cell_type": "markdown",
   "metadata": {},
   "source": [
    "#### <i>class</i> Ranker.<b>Conformance</b>(<i>config_path, log_path, ranking_sets, conformance_set, k, h</i>)\n",
    "<i>Parameters:</i> <br>\n",
    "&emsp; <b>config_path : str</b><br>\n",
    "&emsp;&emsp;<small>Specify the path to your configuration file(s). <i>i.e ./UIModule/settings_watdiv.yaml</small></i><br>\n",
    "&emsp;<b>log_path : str</b><br>\n",
    "&emsp;&emsp;<small>Specify the path to your log file(s). <i>i.e ./UI Module/log_watdiv</small></i><br>\n",
    "&emsp;<b>ranking_sets : str</b><br>\n",
    "&emsp;&emsp;<small>Ranking sets of user choice. <i>i.e dataset sizes (100M)</small></i><br>\n",
    "&emsp;<b>conformance_set : list</b><br>\n",
    "&emsp;&emsp;<small>List of ranking criterions to see the scores of their conformances.</small><br>\n",
    "&emsp;<b>k : int</b><br>\n",
    "&emsp;&emsp;<small>Value of the top k subset of the ranking criteria. <i>i.e. _k_ = 5, takes the top 5 value of each ranking criteria in the conformance set</small></i><br>\n",
    "&emsp;<b>h : int</b><br>\n",
    "&emsp;&emsp;<small>Value of the threshold that will be counted for the conformance score. <i>i.e. _h_ = 28, take queries that has a ranking below 28 out of all the configuration</small></i><br>"
   ]
  },
  {
   "cell_type": "code",
   "execution_count": 26,
   "metadata": {},
   "outputs": [],
   "source": [
    "from Ranker import Conformance\n",
    "\n",
    "conformance_set = ['schemas', 'storage', 'paretoQ', 'paretoAgg']\n",
    "conf_10M = Conformance(config_sp2bench, logs_sp2bench, '10M', conformance_set, 2, 7)\n",
    "conf_100K = Conformance(config_sp2bench, logs_sp2bench, '100K', conformance_set, 2, 7)"
   ]
  },
  {
   "cell_type": "markdown",
   "metadata": {},
   "source": [
    "### Ranker.Conformance.run"
   ]
  },
  {
   "cell_type": "markdown",
   "metadata": {},
   "source": [
    "#### Conformance.<b>run</b>()\n",
    "<small>This method returns a table of conformance scores for each of the ranking criterion that user specify in the conformance_set along with the k and h values for the formula</small>"
   ]
  },
  {
   "cell_type": "code",
   "execution_count": 24,
   "metadata": {},
   "outputs": [
    {
     "data": {
      "text/html": [
       "<div>\n",
       "<style scoped>\n",
       "    .dataframe tbody tr th:only-of-type {\n",
       "        vertical-align: middle;\n",
       "    }\n",
       "\n",
       "    .dataframe tbody tr th {\n",
       "        vertical-align: top;\n",
       "    }\n",
       "\n",
       "    .dataframe thead th {\n",
       "        text-align: right;\n",
       "    }\n",
       "</style>\n",
       "<table border=\"1\" class=\"dataframe\">\n",
       "  <thead>\n",
       "    <tr style=\"text-align: right;\">\n",
       "      <th></th>\n",
       "      <th>10M</th>\n",
       "    </tr>\n",
       "  </thead>\n",
       "  <tbody>\n",
       "    <tr>\n",
       "      <th>schemas</th>\n",
       "      <td>0.818182</td>\n",
       "    </tr>\n",
       "    <tr>\n",
       "      <th>storage</th>\n",
       "      <td>0.954545</td>\n",
       "    </tr>\n",
       "    <tr>\n",
       "      <th>paretoQ</th>\n",
       "      <td>1.000000</td>\n",
       "    </tr>\n",
       "    <tr>\n",
       "      <th>paretoAgg</th>\n",
       "      <td>0.954545</td>\n",
       "    </tr>\n",
       "  </tbody>\n",
       "</table>\n",
       "</div>"
      ],
      "text/plain": [
       "                10M\n",
       "schemas    0.818182\n",
       "storage    0.954545\n",
       "paretoQ    1.000000\n",
       "paretoAgg  0.954545"
      ]
     },
     "execution_count": 24,
     "metadata": {},
     "output_type": "execute_result"
    }
   ],
   "source": [
    "#conformance scores for all ranking criterions in 250M dataset size\n",
    "conf_10M.run()"
   ]
  },
  {
   "cell_type": "code",
   "execution_count": 27,
   "metadata": {},
   "outputs": [
    {
     "data": {
      "text/html": [
       "<div>\n",
       "<style scoped>\n",
       "    .dataframe tbody tr th:only-of-type {\n",
       "        vertical-align: middle;\n",
       "    }\n",
       "\n",
       "    .dataframe tbody tr th {\n",
       "        vertical-align: top;\n",
       "    }\n",
       "\n",
       "    .dataframe thead th {\n",
       "        text-align: right;\n",
       "    }\n",
       "</style>\n",
       "<table border=\"1\" class=\"dataframe\">\n",
       "  <thead>\n",
       "    <tr style=\"text-align: right;\">\n",
       "      <th></th>\n",
       "      <th>100K</th>\n",
       "    </tr>\n",
       "  </thead>\n",
       "  <tbody>\n",
       "    <tr>\n",
       "      <th>schemas</th>\n",
       "      <td>0.818182</td>\n",
       "    </tr>\n",
       "    <tr>\n",
       "      <th>storage</th>\n",
       "      <td>0.681818</td>\n",
       "    </tr>\n",
       "    <tr>\n",
       "      <th>paretoQ</th>\n",
       "      <td>0.772727</td>\n",
       "    </tr>\n",
       "    <tr>\n",
       "      <th>paretoAgg</th>\n",
       "      <td>0.727273</td>\n",
       "    </tr>\n",
       "  </tbody>\n",
       "</table>\n",
       "</div>"
      ],
      "text/plain": [
       "               100K\n",
       "schemas    0.818182\n",
       "storage    0.681818\n",
       "paretoQ    0.772727\n",
       "paretoAgg  0.727273"
      ]
     },
     "execution_count": 27,
     "metadata": {},
     "output_type": "execute_result"
    }
   ],
   "source": [
    "conf_100K.run()"
   ]
  },
  {
   "cell_type": "markdown",
   "metadata": {},
   "source": [
    "### Ranker.Conformance.configurationQueryRanks"
   ]
  },
  {
   "cell_type": "markdown",
   "metadata": {},
   "source": [
    "#### Conformance.<b>configurationQueryRanks</b>(<i>dimension, mode</i>)\n",
    "<small>This method returns a criteria table of a choosen ranking dimension, criteria table is a table that shows rank values of each queries by the top-k configurations</small><br><br>\n",
    "<i>Parameters:</i> <br>\n",
    "&emsp; <b>dimension : str</b><br>\n",
    "&emsp;&emsp;<small>user's choosen dimension to view the criteria table</small><br><br>\n",
    "&emsp; <b>mode : 0 (default) or 1</b><br>\n",
    "&emsp;&emsp;<small>'0' show criteria table by their value</small><br>\n",
    "&emsp;&emsp;<small>'1' show criteria table with true and false of h value (true, if h value is higher than h)</small>\n"
   ]
  },
  {
   "cell_type": "code",
   "execution_count": 17,
   "metadata": {},
   "outputs": [
    {
     "name": "stdout",
     "output_type": "stream",
     "text": [
      "[0.6363636363636364, 1.0, 1.0] [0.36363636363636365, 0.0, 0.0]\n"
     ]
    },
    {
     "data": {
      "image/png": "[encoded data removed]",
      "text/plain": [
       "<Figure size 720x432 with 1 Axes>"
      ]
     },
     "metadata": {},
     "output_type": "display_data"
    },
    {
     "name": "stdout",
     "output_type": "stream",
     "text": [
      "[0.9090909090909091, 1.0, 1.0] [0.09090909090909094, 0.0, 0.0]\n"
     ]
    },
    {
     "data": {
      "image/png": "[encoded data removed]",
      "text/plain": [
       "<Figure size 720x432 with 1 Axes>"
      ]
     },
     "metadata": {},
     "output_type": "display_data"
    },
    {
     "name": "stdout",
     "output_type": "stream",
     "text": [
      "[1.0, 1.0, 0.9090909090909091] [0.0, 0.0, 0.09090909090909094]\n"
     ]
    },
    {
     "data": {
      "image/png": "[encoded data removed]",
      "text/plain": [
       "<Figure size 720x432 with 1 Axes>"
      ]
     },
     "metadata": {},
     "output_type": "display_data"
    },
    {
     "name": "stdout",
     "output_type": "stream",
     "text": [
      "[1.0, 0.9090909090909091, 0.6363636363636364] [0.0, 0.09090909090909094, 0.36363636363636365]\n"
     ]
    },
    {
     "data": {
      "image/png": "[encoded data removed]",
      "text/plain": [
       "<Figure size 720x432 with 1 Axes>"
      ]
     },
     "metadata": {},
     "output_type": "display_data"
    }
   ],
   "source": [
    "conf.plot(1)"
   ]
  },
  {
   "cell_type": "code",
   "execution_count": 13,
   "metadata": {},
   "outputs": [
    {
     "data": {
      "text/html": [
       "<style type=\"text/css\">\n",
       "#T_8f2e8_row0_col0, #T_8f2e8_row0_col1, #T_8f2e8_row0_col2, #T_8f2e8_row0_col3, #T_8f2e8_row0_col4, #T_8f2e8_row0_col5, #T_8f2e8_row0_col6, #T_8f2e8_row0_col7, #T_8f2e8_row0_col8, #T_8f2e8_row0_col9, #T_8f2e8_row0_col10, #T_8f2e8_row1_col0, #T_8f2e8_row1_col1, #T_8f2e8_row1_col2, #T_8f2e8_row1_col3, #T_8f2e8_row1_col4, #T_8f2e8_row1_col5, #T_8f2e8_row1_col6, #T_8f2e8_row1_col7, #T_8f2e8_row1_col8, #T_8f2e8_row1_col9, #T_8f2e8_row1_col10, #T_8f2e8_row2_col1, #T_8f2e8_row2_col2, #T_8f2e8_row2_col4, #T_8f2e8_row2_col6, #T_8f2e8_row2_col8, #T_8f2e8_row2_col9, #T_8f2e8_row2_col10 {\n",
       "  color: green;\n",
       "}\n",
       "#T_8f2e8_row2_col0, #T_8f2e8_row2_col3, #T_8f2e8_row2_col5, #T_8f2e8_row2_col7 {\n",
       "  color: red;\n",
       "}\n",
       "</style>\n",
       "<table id=\"T_8f2e8\">\n",
       "  <thead>\n",
       "    <tr>\n",
       "      <th class=\"blank level0\" >&nbsp;</th>\n",
       "      <th id=\"T_8f2e8_level0_col0\" class=\"col_heading level0 col0\" >1</th>\n",
       "      <th id=\"T_8f2e8_level0_col1\" class=\"col_heading level0 col1\" >2</th>\n",
       "      <th id=\"T_8f2e8_level0_col2\" class=\"col_heading level0 col2\" >3</th>\n",
       "      <th id=\"T_8f2e8_level0_col3\" class=\"col_heading level0 col3\" >4</th>\n",
       "      <th id=\"T_8f2e8_level0_col4\" class=\"col_heading level0 col4\" >5</th>\n",
       "      <th id=\"T_8f2e8_level0_col5\" class=\"col_heading level0 col5\" >6</th>\n",
       "      <th id=\"T_8f2e8_level0_col6\" class=\"col_heading level0 col6\" >7</th>\n",
       "      <th id=\"T_8f2e8_level0_col7\" class=\"col_heading level0 col7\" >8</th>\n",
       "      <th id=\"T_8f2e8_level0_col8\" class=\"col_heading level0 col8\" >9</th>\n",
       "      <th id=\"T_8f2e8_level0_col9\" class=\"col_heading level0 col9\" >10</th>\n",
       "      <th id=\"T_8f2e8_level0_col10\" class=\"col_heading level0 col10\" >11</th>\n",
       "    </tr>\n",
       "  </thead>\n",
       "  <tbody>\n",
       "    <tr>\n",
       "      <th id=\"T_8f2e8_level0_row0\" class=\"row_heading level0 row0\" >orc.vt</th>\n",
       "      <td id=\"T_8f2e8_row0_col0\" class=\"data row0 col0\" >False</td>\n",
       "      <td id=\"T_8f2e8_row0_col1\" class=\"data row0 col1\" >False</td>\n",
       "      <td id=\"T_8f2e8_row0_col2\" class=\"data row0 col2\" >False</td>\n",
       "      <td id=\"T_8f2e8_row0_col3\" class=\"data row0 col3\" >False</td>\n",
       "      <td id=\"T_8f2e8_row0_col4\" class=\"data row0 col4\" >False</td>\n",
       "      <td id=\"T_8f2e8_row0_col5\" class=\"data row0 col5\" >False</td>\n",
       "      <td id=\"T_8f2e8_row0_col6\" class=\"data row0 col6\" >False</td>\n",
       "      <td id=\"T_8f2e8_row0_col7\" class=\"data row0 col7\" >False</td>\n",
       "      <td id=\"T_8f2e8_row0_col8\" class=\"data row0 col8\" >False</td>\n",
       "      <td id=\"T_8f2e8_row0_col9\" class=\"data row0 col9\" >False</td>\n",
       "      <td id=\"T_8f2e8_row0_col10\" class=\"data row0 col10\" >False</td>\n",
       "    </tr>\n",
       "    <tr>\n",
       "      <th id=\"T_8f2e8_level0_row1\" class=\"row_heading level0 row1\" >parquet.vt</th>\n",
       "      <td id=\"T_8f2e8_row1_col0\" class=\"data row1 col0\" >False</td>\n",
       "      <td id=\"T_8f2e8_row1_col1\" class=\"data row1 col1\" >False</td>\n",
       "      <td id=\"T_8f2e8_row1_col2\" class=\"data row1 col2\" >False</td>\n",
       "      <td id=\"T_8f2e8_row1_col3\" class=\"data row1 col3\" >False</td>\n",
       "      <td id=\"T_8f2e8_row1_col4\" class=\"data row1 col4\" >False</td>\n",
       "      <td id=\"T_8f2e8_row1_col5\" class=\"data row1 col5\" >False</td>\n",
       "      <td id=\"T_8f2e8_row1_col6\" class=\"data row1 col6\" >False</td>\n",
       "      <td id=\"T_8f2e8_row1_col7\" class=\"data row1 col7\" >False</td>\n",
       "      <td id=\"T_8f2e8_row1_col8\" class=\"data row1 col8\" >False</td>\n",
       "      <td id=\"T_8f2e8_row1_col9\" class=\"data row1 col9\" >False</td>\n",
       "      <td id=\"T_8f2e8_row1_col10\" class=\"data row1 col10\" >False</td>\n",
       "    </tr>\n",
       "    <tr>\n",
       "      <th id=\"T_8f2e8_level0_row2\" class=\"row_heading level0 row2\" >avro.vt</th>\n",
       "      <td id=\"T_8f2e8_row2_col0\" class=\"data row2 col0\" >True</td>\n",
       "      <td id=\"T_8f2e8_row2_col1\" class=\"data row2 col1\" >False</td>\n",
       "      <td id=\"T_8f2e8_row2_col2\" class=\"data row2 col2\" >False</td>\n",
       "      <td id=\"T_8f2e8_row2_col3\" class=\"data row2 col3\" >True</td>\n",
       "      <td id=\"T_8f2e8_row2_col4\" class=\"data row2 col4\" >False</td>\n",
       "      <td id=\"T_8f2e8_row2_col5\" class=\"data row2 col5\" >True</td>\n",
       "      <td id=\"T_8f2e8_row2_col6\" class=\"data row2 col6\" >False</td>\n",
       "      <td id=\"T_8f2e8_row2_col7\" class=\"data row2 col7\" >True</td>\n",
       "      <td id=\"T_8f2e8_row2_col8\" class=\"data row2 col8\" >False</td>\n",
       "      <td id=\"T_8f2e8_row2_col9\" class=\"data row2 col9\" >False</td>\n",
       "      <td id=\"T_8f2e8_row2_col10\" class=\"data row2 col10\" >False</td>\n",
       "    </tr>\n",
       "  </tbody>\n",
       "</table>\n"
      ],
      "text/plain": [
       "<pandas.io.formats.style.Styler at 0x261d7e5d930>"
      ]
     },
     "execution_count": 13,
     "metadata": {},
     "output_type": "execute_result"
    }
   ],
   "source": [
    "conf.configurationQueryRanks(dimension = 'schemas', mode = 1)"
   ]
  },
  {
   "cell_type": "markdown",
   "metadata": {},
   "source": [
    "### PAPyA.Ranker.Coherence"
   ]
  },
  {
   "cell_type": "markdown",
   "metadata": {},
   "source": [
    "#### <i>class</i> Ranker.<b>Coherence</b>(<i>config_path, log_path, conformance_set</i>)\n",
    "<i>Parameters:</i> <br>\n",
    "&emsp; <b>config_path : str</b><br>\n",
    "&emsp;&emsp;<small>Specify the path to your configuration file(s). <i>i.e ./UIModule/settings_watdiv.yaml</small></i><br>\n",
    "&emsp;<b>log_path : str</b><br>\n",
    "&emsp;&emsp;<small>Specify the path to your log file(s). <i>i.e ./UI Module/log_watdiv</small></i><br>\n",
    "&emsp;<b>conformance_set : list</b><br>\n",
    "&emsp;&emsp;<small>List of ranking criterions to see their kendall index's scores between ranking sets (i.e. dataset sizes).</small><br>"
   ]
  },
  {
   "cell_type": "code",
   "execution_count": 28,
   "metadata": {},
   "outputs": [],
   "source": [
    "from Ranker import Coherence\n",
    "\n",
    "coherence_set = ['schemas', 'storage', 'paretoQ', 'paretoAgg']\n",
    "coh = Coherence(config_sp2bench, logs_sp2bench,coherence_set)"
   ]
  },
  {
   "cell_type": "markdown",
   "metadata": {},
   "source": [
    "### Ranker.Coherence.run"
   ]
  },
  {
   "cell_type": "markdown",
   "metadata": {},
   "source": [
    "#### Coherence.<b>run</b>(<i>rankset1, rankset2</i>)\n",
    "<small>This method returns a table of coherence scores for each of the ranking criterion that user specify in the conformance_set by calculating the number of (dis)agreements between 2 ranking sets</small><br><br>\n",
    "<i>Parameters:</i> <br>\n",
    "&emsp; <b>rankset1 : str</b><br>\n",
    "&emsp;&emsp;<small>a string of the _first_ rankset that user wants to compare</small><br><br>\n",
    "&emsp; <b>rankset2 : str</b><br>\n",
    "&emsp;&emsp;<small>a string of the _second_ rankset that user wants to compare</small><br>"
   ]
  },
  {
   "cell_type": "code",
   "execution_count": 29,
   "metadata": {},
   "outputs": [
    {
     "data": {
      "text/html": [
       "<div>\n",
       "<style scoped>\n",
       "    .dataframe tbody tr th:only-of-type {\n",
       "        vertical-align: middle;\n",
       "    }\n",
       "\n",
       "    .dataframe tbody tr th {\n",
       "        vertical-align: top;\n",
       "    }\n",
       "\n",
       "    .dataframe thead th {\n",
       "        text-align: right;\n",
       "    }\n",
       "</style>\n",
       "<table border=\"1\" class=\"dataframe\">\n",
       "  <thead>\n",
       "    <tr style=\"text-align: right;\">\n",
       "      <th></th>\n",
       "      <th>Kendall's Index</th>\n",
       "    </tr>\n",
       "  </thead>\n",
       "  <tbody>\n",
       "    <tr>\n",
       "      <th>schemas</th>\n",
       "      <td>0.439394</td>\n",
       "    </tr>\n",
       "    <tr>\n",
       "      <th>storage</th>\n",
       "      <td>0.469697</td>\n",
       "    </tr>\n",
       "    <tr>\n",
       "      <th>paretoQ</th>\n",
       "      <td>0.250000</td>\n",
       "    </tr>\n",
       "    <tr>\n",
       "      <th>paretoAgg</th>\n",
       "      <td>1.000000</td>\n",
       "    </tr>\n",
       "  </tbody>\n",
       "</table>\n",
       "</div>"
      ],
      "text/plain": [
       "           Kendall's Index\n",
       "schemas           0.439394\n",
       "storage           0.469697\n",
       "paretoQ           0.250000\n",
       "paretoAgg         1.000000"
      ]
     },
     "execution_count": 29,
     "metadata": {},
     "output_type": "execute_result"
    }
   ],
   "source": [
    "#example of coherence scores for all ranking criterions by comparing 100M ranking set with 250M ranking set\n",
    "coh.run('10M', '100K')"
   ]
  },
  {
   "cell_type": "markdown",
   "metadata": {},
   "source": [
    "### Ranker.Coherence.heatMap"
   ]
  },
  {
   "cell_type": "markdown",
   "metadata": {},
   "source": [
    "#### Coherence.<b>heatMap</b>(<i>rankset1, rankset2, dimension</i>)\n",
    "<small>This method returns a heat map table that shows the coherence between two particular ranking sets that user can choose, the heat map will be sorted by the best performing configurations of the first ranking set</small><br><br>\n",
    "<i>Parameters:</i> <br>\n",
    "&emsp; <b>rankset1 : str</b><br>\n",
    "&emsp;&emsp;<small>a string of the _first_ rankset that user wants to compare</small><br><br>\n",
    "&emsp; <b>rankset2 : str</b><br>\n",
    "&emsp;&emsp;<small>a string of the _second_ rankset that user wants to compare</small><br>\n",
    "&emsp; <b>dimension : str</b><br>\n",
    "&emsp;&emsp;<small>user's choosen dimension to view the heat map</small><br><br>"
   ]
  },
  {
   "cell_type": "code",
   "execution_count": 31,
   "metadata": {},
   "outputs": [
    {
     "data": {
      "image/png": "[encoded data removed]",
      "text/plain": [
       "<Figure size 1584x360 with 2 Axes>"
      ]
     },
     "metadata": {
      "needs_background": "light"
     },
     "output_type": "display_data"
    }
   ],
   "source": [
    "coh.heatMap('10M', \"100K\", dimension='schemas')"
   ]
  },
  {
   "cell_type": "markdown",
   "metadata": {},
   "source": [
    "### Ranker.Coherence.heatMapSubtract"
   ]
  },
  {
   "cell_type": "markdown",
   "metadata": {},
   "source": [
    "#### Coherence.<b>heatMap</b>(<i>*args, dimension</i>)\n",
    "<small>This method shows the coherence differences between two particular ranking sets that user chooses, the first ranking sets will be the pivot point (between 100M-250M, and 100M-500M shown in the example). The heat map will be sorted by the best performing configurations of the first ranking set</small><br><br>\n",
    "<i>Parameters:</i> <br>\n",
    "&emsp; <b>*args : str</b><br>\n",
    "&emsp;&emsp;<small>takes an arbitrary number of ranking sets, the first ranking set will be the pivot point for all the other ranking sets</small><br><br>\n",
    "&emsp; <b>dimension : str</b><br>\n",
    "&emsp;&emsp;<small>user's choosen dimension to view the heat map</small><br><br>"
   ]
  },
  {
   "cell_type": "code",
   "execution_count": null,
   "metadata": {},
   "outputs": [],
   "source": [
    "coh.heatMapSubtract('100M', '250M', '500M', dimension='paretoAgg')"
   ]
  }
 ],
 "metadata": {
  "kernelspec": {
   "display_name": "Python 3 (ipykernel)",
   "language": "python",
   "name": "python3"
  },
  "language_info": {
   "codemirror_mode": {
    "name": "ipython",
    "version": 3
   },
   "file_extension": ".py",
   "mimetype": "text/x-python",
   "name": "python",
   "nbconvert_exporter": "python",
   "pygments_lexer": "ipython3",
   "version": "3.10.0"
  },
  "vscode": {
   "interpreter": {
    "hash": "e41b15c1429a098af195db8ddc7e23165af5d7884fc53e33c8379c749ff89684"
   }
  }
 },
 "nbformat": 4,
 "nbformat_minor": 2
}
