{
 "cells": [
  {
   "cell_type": "markdown",
   "metadata": {},
   "source": [
    "# This is a library to find the best performing configuration from a set of dimensions (i.e. schemas, partition, storage) which can be specified inside the <b>settings.yaml</b> file in the resource"
   ]
  },
  {
   "cell_type": "code",
   "execution_count": null,
   "metadata": {},
   "outputs": [],
   "source": [
    "%pip install PAPyA==0.1.0"
   ]
  },
  {
   "cell_type": "code",
   "execution_count": 2,
   "metadata": {},
   "outputs": [
    {
     "data": {
      "text/html": [
       "<div>\n",
       "<style scoped>\n",
       "    .dataframe tbody tr th:only-of-type {\n",
       "        vertical-align: middle;\n",
       "    }\n",
       "\n",
       "    .dataframe tbody tr th {\n",
       "        vertical-align: top;\n",
       "    }\n",
       "\n",
       "    .dataframe thead th {\n",
       "        text-align: right;\n",
       "    }\n",
       "</style>\n",
       "<table border=\"1\" class=\"dataframe\">\n",
       "  <thead>\n",
       "    <tr style=\"text-align: right;\">\n",
       "      <th></th>\n",
       "      <th>Q1</th>\n",
       "      <th>Q2</th>\n",
       "      <th>Q3</th>\n",
       "      <th>Q4</th>\n",
       "      <th>Q5</th>\n",
       "      <th>Q6</th>\n",
       "      <th>Q7</th>\n",
       "      <th>Q8</th>\n",
       "      <th>Q9</th>\n",
       "      <th>Q10</th>\n",
       "      <th>Q11</th>\n",
       "      <th>Q12</th>\n",
       "      <th>Q13</th>\n",
       "      <th>Q14</th>\n",
       "      <th>Q15</th>\n",
       "      <th>Q16</th>\n",
       "      <th>Q17</th>\n",
       "      <th>Q18</th>\n",
       "      <th>Q19</th>\n",
       "      <th>Q20</th>\n",
       "    </tr>\n",
       "  </thead>\n",
       "  <tbody>\n",
       "    <tr>\n",
       "      <th>wpt.horizontal.orc</th>\n",
       "      <td>205.284760</td>\n",
       "      <td>162.349280</td>\n",
       "      <td>107.103639</td>\n",
       "      <td>49.960609</td>\n",
       "      <td>4.897310</td>\n",
       "      <td>137.597456</td>\n",
       "      <td>123.489869</td>\n",
       "      <td>126.356856</td>\n",
       "      <td>51.734231</td>\n",
       "      <td>2.021613</td>\n",
       "      <td>1.485276</td>\n",
       "      <td>1.475116</td>\n",
       "      <td>1.179094</td>\n",
       "      <td>96.953134</td>\n",
       "      <td>1.635209</td>\n",
       "      <td>1.798740</td>\n",
       "      <td>1.689067</td>\n",
       "      <td>1.583253</td>\n",
       "      <td>1.537363</td>\n",
       "      <td>88.555925</td>\n",
       "    </tr>\n",
       "    <tr>\n",
       "      <th>wpt.subject.orc</th>\n",
       "      <td>205.284760</td>\n",
       "      <td>162.349280</td>\n",
       "      <td>107.103639</td>\n",
       "      <td>46.538501</td>\n",
       "      <td>4.792330</td>\n",
       "      <td>137.141939</td>\n",
       "      <td>122.830371</td>\n",
       "      <td>120.770813</td>\n",
       "      <td>51.044675</td>\n",
       "      <td>1.941470</td>\n",
       "      <td>1.585538</td>\n",
       "      <td>1.500106</td>\n",
       "      <td>1.301714</td>\n",
       "      <td>95.324892</td>\n",
       "      <td>1.611576</td>\n",
       "      <td>1.806495</td>\n",
       "      <td>1.586672</td>\n",
       "      <td>1.535757</td>\n",
       "      <td>1.498826</td>\n",
       "      <td>87.609701</td>\n",
       "    </tr>\n",
       "    <tr>\n",
       "      <th>extvp.horizontal.orc</th>\n",
       "      <td>28.317974</td>\n",
       "      <td>8.380679</td>\n",
       "      <td>16.356181</td>\n",
       "      <td>3.699681</td>\n",
       "      <td>3.849585</td>\n",
       "      <td>6.759247</td>\n",
       "      <td>7.037816</td>\n",
       "      <td>8.952976</td>\n",
       "      <td>2.713537</td>\n",
       "      <td>2.034422</td>\n",
       "      <td>2.774800</td>\n",
       "      <td>1.886937</td>\n",
       "      <td>2.354927</td>\n",
       "      <td>7.321082</td>\n",
       "      <td>3.143353</td>\n",
       "      <td>3.761165</td>\n",
       "      <td>4.081184</td>\n",
       "      <td>3.824393</td>\n",
       "      <td>2.925221</td>\n",
       "      <td>3.211407</td>\n",
       "    </tr>\n",
       "    <tr>\n",
       "      <th>extvp.subject.orc</th>\n",
       "      <td>26.222651</td>\n",
       "      <td>8.085237</td>\n",
       "      <td>13.784482</td>\n",
       "      <td>3.599803</td>\n",
       "      <td>4.964006</td>\n",
       "      <td>6.786540</td>\n",
       "      <td>6.106795</td>\n",
       "      <td>9.201700</td>\n",
       "      <td>2.988024</td>\n",
       "      <td>2.276728</td>\n",
       "      <td>1.880820</td>\n",
       "      <td>1.592739</td>\n",
       "      <td>3.056882</td>\n",
       "      <td>7.205297</td>\n",
       "      <td>3.512296</td>\n",
       "      <td>2.727579</td>\n",
       "      <td>2.538742</td>\n",
       "      <td>3.149827</td>\n",
       "      <td>2.906339</td>\n",
       "      <td>3.257666</td>\n",
       "    </tr>\n",
       "    <tr>\n",
       "      <th>pt.predicate.orc</th>\n",
       "      <td>145.596942</td>\n",
       "      <td>70.085727</td>\n",
       "      <td>56.553928</td>\n",
       "      <td>58.319764</td>\n",
       "      <td>60.215598</td>\n",
       "      <td>64.575442</td>\n",
       "      <td>63.202007</td>\n",
       "      <td>50.897337</td>\n",
       "      <td>50.568666</td>\n",
       "      <td>35.846661</td>\n",
       "      <td>5.386345</td>\n",
       "      <td>50.430773</td>\n",
       "      <td>35.848949</td>\n",
       "      <td>16.894680</td>\n",
       "      <td>39.391232</td>\n",
       "      <td>49.426256</td>\n",
       "      <td>86.099177</td>\n",
       "      <td>56.488256</td>\n",
       "      <td>64.709584</td>\n",
       "      <td>54.107631</td>\n",
       "    </tr>\n",
       "  </tbody>\n",
       "</table>\n",
       "</div>"
      ],
      "text/plain": [
       "                              Q1          Q2          Q3         Q4  \\\n",
       "wpt.horizontal.orc    205.284760  162.349280  107.103639  49.960609   \n",
       "wpt.subject.orc       205.284760  162.349280  107.103639  46.538501   \n",
       "extvp.horizontal.orc   28.317974    8.380679   16.356181   3.699681   \n",
       "extvp.subject.orc      26.222651    8.085237   13.784482   3.599803   \n",
       "pt.predicate.orc      145.596942   70.085727   56.553928  58.319764   \n",
       "\n",
       "                             Q5          Q6          Q7          Q8  \\\n",
       "wpt.horizontal.orc     4.897310  137.597456  123.489869  126.356856   \n",
       "wpt.subject.orc        4.792330  137.141939  122.830371  120.770813   \n",
       "extvp.horizontal.orc   3.849585    6.759247    7.037816    8.952976   \n",
       "extvp.subject.orc      4.964006    6.786540    6.106795    9.201700   \n",
       "pt.predicate.orc      60.215598   64.575442   63.202007   50.897337   \n",
       "\n",
       "                             Q9        Q10       Q11        Q12        Q13  \\\n",
       "wpt.horizontal.orc    51.734231   2.021613  1.485276   1.475116   1.179094   \n",
       "wpt.subject.orc       51.044675   1.941470  1.585538   1.500106   1.301714   \n",
       "extvp.horizontal.orc   2.713537   2.034422  2.774800   1.886937   2.354927   \n",
       "extvp.subject.orc      2.988024   2.276728  1.880820   1.592739   3.056882   \n",
       "pt.predicate.orc      50.568666  35.846661  5.386345  50.430773  35.848949   \n",
       "\n",
       "                            Q14        Q15        Q16        Q17        Q18  \\\n",
       "wpt.horizontal.orc    96.953134   1.635209   1.798740   1.689067   1.583253   \n",
       "wpt.subject.orc       95.324892   1.611576   1.806495   1.586672   1.535757   \n",
       "extvp.horizontal.orc   7.321082   3.143353   3.761165   4.081184   3.824393   \n",
       "extvp.subject.orc      7.205297   3.512296   2.727579   2.538742   3.149827   \n",
       "pt.predicate.orc      16.894680  39.391232  49.426256  86.099177  56.488256   \n",
       "\n",
       "                            Q19        Q20  \n",
       "wpt.horizontal.orc     1.537363  88.555925  \n",
       "wpt.subject.orc        1.498826  87.609701  \n",
       "extvp.horizontal.orc   2.925221   3.211407  \n",
       "extvp.subject.orc      2.906339   3.257666  \n",
       "pt.predicate.orc      64.709584  54.107631  "
      ]
     },
     "execution_count": 2,
     "metadata": {},
     "output_type": "execute_result"
    }
   ],
   "source": [
    "from PAPyA.file_reader import FileReader\n",
    "\n",
    "config = \"settings_watdiv.yaml\" # config file location\n",
    "logs = \"log_watdiv\" # logs file location\n",
    "\n",
    "data = FileReader(config, logs, \"100M\", \"partition\")\n",
    "data.file_reader().head()"
   ]
  },
  {
   "cell_type": "code",
   "execution_count": 4,
   "metadata": {},
   "outputs": [],
   "source": [
    "# this class takes single dimension and dataset sizes as parameters that user specified inside their log files\n",
    "from Rank import SDRank\n",
    "\n",
    "config = \"settings_watdiv.yaml\" # config file location\n",
    "logs = \"log_watdiv\" # logs file location\n",
    "\n",
    "schemaSDRank = SDRank(config, logs, '100M', 'schemas')\n",
    "partitionSDRank = SDRank(config, logs, '100M', 'partition')\n",
    "storageSDRank = SDRank(config, logs, '100M', 'storage')"
   ]
  },
  {
   "cell_type": "code",
   "execution_count": 5,
   "metadata": {},
   "outputs": [
    {
     "data": {
      "text/html": [
       "<div>\n",
       "<style scoped>\n",
       "    .dataframe tbody tr th:only-of-type {\n",
       "        vertical-align: middle;\n",
       "    }\n",
       "\n",
       "    .dataframe tbody tr th {\n",
       "        vertical-align: top;\n",
       "    }\n",
       "\n",
       "    .dataframe thead th {\n",
       "        text-align: right;\n",
       "    }\n",
       "</style>\n",
       "<table border=\"1\" class=\"dataframe\">\n",
       "  <thead>\n",
       "    <tr style=\"text-align: right;\">\n",
       "      <th></th>\n",
       "      <th>Rank 1</th>\n",
       "      <th>Rank 2</th>\n",
       "      <th>Rank 3</th>\n",
       "      <th>Rank 4</th>\n",
       "      <th>Rank 5</th>\n",
       "      <th>Result</th>\n",
       "    </tr>\n",
       "  </thead>\n",
       "  <tbody>\n",
       "    <tr>\n",
       "      <th>extvp.predicate.parquet</th>\n",
       "      <td>18.0</td>\n",
       "      <td>2.0</td>\n",
       "      <td>0.0</td>\n",
       "      <td>0.0</td>\n",
       "      <td>0.0</td>\n",
       "      <td>0.9750</td>\n",
       "    </tr>\n",
       "    <tr>\n",
       "      <th>extvp.predicate.csv</th>\n",
       "      <td>15.0</td>\n",
       "      <td>4.0</td>\n",
       "      <td>1.0</td>\n",
       "      <td>0.0</td>\n",
       "      <td>0.0</td>\n",
       "      <td>0.9250</td>\n",
       "    </tr>\n",
       "    <tr>\n",
       "      <th>extvp.predicate.avro</th>\n",
       "      <td>13.0</td>\n",
       "      <td>7.0</td>\n",
       "      <td>0.0</td>\n",
       "      <td>0.0</td>\n",
       "      <td>0.0</td>\n",
       "      <td>0.9125</td>\n",
       "    </tr>\n",
       "    <tr>\n",
       "      <th>extvp.horizontal.avro</th>\n",
       "      <td>12.0</td>\n",
       "      <td>8.0</td>\n",
       "      <td>0.0</td>\n",
       "      <td>0.0</td>\n",
       "      <td>0.0</td>\n",
       "      <td>0.9000</td>\n",
       "    </tr>\n",
       "    <tr>\n",
       "      <th>extvp.subject.avro</th>\n",
       "      <td>12.0</td>\n",
       "      <td>7.0</td>\n",
       "      <td>1.0</td>\n",
       "      <td>0.0</td>\n",
       "      <td>0.0</td>\n",
       "      <td>0.8875</td>\n",
       "    </tr>\n",
       "  </tbody>\n",
       "</table>\n",
       "</div>"
      ],
      "text/plain": [
       "                         Rank 1  Rank 2  Rank 3  Rank 4  Rank 5  Result\n",
       "extvp.predicate.parquet    18.0     2.0     0.0     0.0     0.0  0.9750\n",
       "extvp.predicate.csv        15.0     4.0     1.0     0.0     0.0  0.9250\n",
       "extvp.predicate.avro       13.0     7.0     0.0     0.0     0.0  0.9125\n",
       "extvp.horizontal.avro      12.0     8.0     0.0     0.0     0.0  0.9000\n",
       "extvp.subject.avro         12.0     7.0     1.0     0.0     0.0  0.8875"
      ]
     },
     "execution_count": 5,
     "metadata": {},
     "output_type": "execute_result"
    }
   ],
   "source": [
    "# calculateRank method comes with parameters to sort the result and exclude queries that we want\n",
    "excludeQuery = [1,2,5]\n",
    "schemaSDRank.calculateRank().head()"
   ]
  },
  {
   "cell_type": "code",
   "execution_count": 6,
   "metadata": {},
   "outputs": [
    {
     "data": {
      "text/html": [
       "<div>\n",
       "<style scoped>\n",
       "    .dataframe tbody tr th:only-of-type {\n",
       "        vertical-align: middle;\n",
       "    }\n",
       "\n",
       "    .dataframe tbody tr th {\n",
       "        vertical-align: top;\n",
       "    }\n",
       "\n",
       "    .dataframe thead th {\n",
       "        text-align: right;\n",
       "    }\n",
       "</style>\n",
       "<table border=\"1\" class=\"dataframe\">\n",
       "  <thead>\n",
       "    <tr style=\"text-align: right;\">\n",
       "      <th></th>\n",
       "      <th>Rank 1</th>\n",
       "      <th>Rank 2</th>\n",
       "      <th>Rank 3</th>\n",
       "      <th>Result</th>\n",
       "    </tr>\n",
       "  </thead>\n",
       "  <tbody>\n",
       "    <tr>\n",
       "      <th>wpt.horizontal.parquet</th>\n",
       "      <td>16.0</td>\n",
       "      <td>0.0</td>\n",
       "      <td>1.0</td>\n",
       "      <td>0.941176</td>\n",
       "    </tr>\n",
       "    <tr>\n",
       "      <th>extvp.horizontal.csv</th>\n",
       "      <td>9.0</td>\n",
       "      <td>8.0</td>\n",
       "      <td>0.0</td>\n",
       "      <td>0.764706</td>\n",
       "    </tr>\n",
       "    <tr>\n",
       "      <th>pt.horizontal.orc</th>\n",
       "      <td>9.0</td>\n",
       "      <td>7.0</td>\n",
       "      <td>1.0</td>\n",
       "      <td>0.735294</td>\n",
       "    </tr>\n",
       "    <tr>\n",
       "      <th>pt.horizontal.parquet</th>\n",
       "      <td>8.0</td>\n",
       "      <td>9.0</td>\n",
       "      <td>0.0</td>\n",
       "      <td>0.735294</td>\n",
       "    </tr>\n",
       "    <tr>\n",
       "      <th>vp.horizontal.csv</th>\n",
       "      <td>7.0</td>\n",
       "      <td>10.0</td>\n",
       "      <td>0.0</td>\n",
       "      <td>0.705882</td>\n",
       "    </tr>\n",
       "    <tr>\n",
       "      <th>pt.horizontal.avro</th>\n",
       "      <td>5.0</td>\n",
       "      <td>11.0</td>\n",
       "      <td>1.0</td>\n",
       "      <td>0.617647</td>\n",
       "    </tr>\n",
       "    <tr>\n",
       "      <th>extvp.horizontal.orc</th>\n",
       "      <td>8.0</td>\n",
       "      <td>0.0</td>\n",
       "      <td>9.0</td>\n",
       "      <td>0.470588</td>\n",
       "    </tr>\n",
       "    <tr>\n",
       "      <th>pt.horizontal.csv</th>\n",
       "      <td>3.0</td>\n",
       "      <td>9.0</td>\n",
       "      <td>5.0</td>\n",
       "      <td>0.441176</td>\n",
       "    </tr>\n",
       "    <tr>\n",
       "      <th>wpt.horizontal.csv</th>\n",
       "      <td>0.0</td>\n",
       "      <td>14.0</td>\n",
       "      <td>3.0</td>\n",
       "      <td>0.411765</td>\n",
       "    </tr>\n",
       "    <tr>\n",
       "      <th>st.horizontal.parquet</th>\n",
       "      <td>2.0</td>\n",
       "      <td>10.0</td>\n",
       "      <td>5.0</td>\n",
       "      <td>0.411765</td>\n",
       "    </tr>\n",
       "    <tr>\n",
       "      <th>st.horizontal.orc</th>\n",
       "      <td>3.0</td>\n",
       "      <td>7.0</td>\n",
       "      <td>7.0</td>\n",
       "      <td>0.382353</td>\n",
       "    </tr>\n",
       "    <tr>\n",
       "      <th>wpt.horizontal.orc</th>\n",
       "      <td>4.0</td>\n",
       "      <td>5.0</td>\n",
       "      <td>8.0</td>\n",
       "      <td>0.382353</td>\n",
       "    </tr>\n",
       "    <tr>\n",
       "      <th>vp.horizontal.avro</th>\n",
       "      <td>2.0</td>\n",
       "      <td>8.0</td>\n",
       "      <td>7.0</td>\n",
       "      <td>0.352941</td>\n",
       "    </tr>\n",
       "    <tr>\n",
       "      <th>extvp.horizontal.parquet</th>\n",
       "      <td>3.0</td>\n",
       "      <td>5.0</td>\n",
       "      <td>9.0</td>\n",
       "      <td>0.323529</td>\n",
       "    </tr>\n",
       "    <tr>\n",
       "      <th>st.horizontal.avro</th>\n",
       "      <td>0.0</td>\n",
       "      <td>7.0</td>\n",
       "      <td>10.0</td>\n",
       "      <td>0.205882</td>\n",
       "    </tr>\n",
       "    <tr>\n",
       "      <th>extvp.horizontal.avro</th>\n",
       "      <td>1.0</td>\n",
       "      <td>5.0</td>\n",
       "      <td>11.0</td>\n",
       "      <td>0.205882</td>\n",
       "    </tr>\n",
       "    <tr>\n",
       "      <th>wpt.horizontal.avro</th>\n",
       "      <td>1.0</td>\n",
       "      <td>4.0</td>\n",
       "      <td>12.0</td>\n",
       "      <td>0.176471</td>\n",
       "    </tr>\n",
       "    <tr>\n",
       "      <th>vp.horizontal.parquet</th>\n",
       "      <td>1.0</td>\n",
       "      <td>4.0</td>\n",
       "      <td>12.0</td>\n",
       "      <td>0.176471</td>\n",
       "    </tr>\n",
       "    <tr>\n",
       "      <th>vp.horizontal.orc</th>\n",
       "      <td>1.0</td>\n",
       "      <td>3.0</td>\n",
       "      <td>13.0</td>\n",
       "      <td>0.147059</td>\n",
       "    </tr>\n",
       "    <tr>\n",
       "      <th>st.horizontal.csv</th>\n",
       "      <td>0.0</td>\n",
       "      <td>4.0</td>\n",
       "      <td>13.0</td>\n",
       "      <td>0.117647</td>\n",
       "    </tr>\n",
       "  </tbody>\n",
       "</table>\n",
       "</div>"
      ],
      "text/plain": [
       "                          Rank 1  Rank 2  Rank 3    Result\n",
       "wpt.horizontal.parquet      16.0     0.0     1.0  0.941176\n",
       "extvp.horizontal.csv         9.0     8.0     0.0  0.764706\n",
       "pt.horizontal.orc            9.0     7.0     1.0  0.735294\n",
       "pt.horizontal.parquet        8.0     9.0     0.0  0.735294\n",
       "vp.horizontal.csv            7.0    10.0     0.0  0.705882\n",
       "pt.horizontal.avro           5.0    11.0     1.0  0.617647\n",
       "extvp.horizontal.orc         8.0     0.0     9.0  0.470588\n",
       "pt.horizontal.csv            3.0     9.0     5.0  0.441176\n",
       "wpt.horizontal.csv           0.0    14.0     3.0  0.411765\n",
       "st.horizontal.parquet        2.0    10.0     5.0  0.411765\n",
       "st.horizontal.orc            3.0     7.0     7.0  0.382353\n",
       "wpt.horizontal.orc           4.0     5.0     8.0  0.382353\n",
       "vp.horizontal.avro           2.0     8.0     7.0  0.352941\n",
       "extvp.horizontal.parquet     3.0     5.0     9.0  0.323529\n",
       "st.horizontal.avro           0.0     7.0    10.0  0.205882\n",
       "extvp.horizontal.avro        1.0     5.0    11.0  0.205882\n",
       "wpt.horizontal.avro          1.0     4.0    12.0  0.176471\n",
       "vp.horizontal.parquet        1.0     4.0    12.0  0.176471\n",
       "vp.horizontal.orc            1.0     3.0    13.0  0.147059\n",
       "st.horizontal.csv            0.0     4.0    13.0  0.117647"
      ]
     },
     "execution_count": 6,
     "metadata": {},
     "output_type": "execute_result"
    }
   ],
   "source": [
    "excludeQuery = [1,2,5]\n",
    "partitionSDRank.calculateRank('horizontal', excludeQuery)"
   ]
  },
  {
   "cell_type": "code",
   "execution_count": 4,
   "metadata": {},
   "outputs": [
    {
     "data": {
      "text/html": [
       "<div>\n",
       "<style scoped>\n",
       "    .dataframe tbody tr th:only-of-type {\n",
       "        vertical-align: middle;\n",
       "    }\n",
       "\n",
       "    .dataframe tbody tr th {\n",
       "        vertical-align: top;\n",
       "    }\n",
       "\n",
       "    .dataframe thead th {\n",
       "        text-align: right;\n",
       "    }\n",
       "</style>\n",
       "<table border=\"1\" class=\"dataframe\">\n",
       "  <thead>\n",
       "    <tr style=\"text-align: right;\">\n",
       "      <th></th>\n",
       "      <th>Rank 1</th>\n",
       "      <th>Rank 2</th>\n",
       "      <th>Rank 3</th>\n",
       "      <th>Rank 4</th>\n",
       "      <th>Result</th>\n",
       "    </tr>\n",
       "  </thead>\n",
       "  <tbody>\n",
       "    <tr>\n",
       "      <th>st.subject.orc</th>\n",
       "      <td>19.0</td>\n",
       "      <td>1.0</td>\n",
       "      <td>0.0</td>\n",
       "      <td>0.0</td>\n",
       "      <td>0.983333</td>\n",
       "    </tr>\n",
       "    <tr>\n",
       "      <th>pt.horizontal.orc</th>\n",
       "      <td>18.0</td>\n",
       "      <td>0.0</td>\n",
       "      <td>1.0</td>\n",
       "      <td>1.0</td>\n",
       "      <td>0.916667</td>\n",
       "    </tr>\n",
       "    <tr>\n",
       "      <th>vp.subject.csv</th>\n",
       "      <td>17.0</td>\n",
       "      <td>1.0</td>\n",
       "      <td>1.0</td>\n",
       "      <td>1.0</td>\n",
       "      <td>0.900000</td>\n",
       "    </tr>\n",
       "    <tr>\n",
       "      <th>vp.horizontal.csv</th>\n",
       "      <td>15.0</td>\n",
       "      <td>4.0</td>\n",
       "      <td>0.0</td>\n",
       "      <td>1.0</td>\n",
       "      <td>0.883333</td>\n",
       "    </tr>\n",
       "    <tr>\n",
       "      <th>wpt.horizontal.parquet</th>\n",
       "      <td>16.0</td>\n",
       "      <td>1.0</td>\n",
       "      <td>0.0</td>\n",
       "      <td>3.0</td>\n",
       "      <td>0.833333</td>\n",
       "    </tr>\n",
       "  </tbody>\n",
       "</table>\n",
       "</div>"
      ],
      "text/plain": [
       "                        Rank 1  Rank 2  Rank 3  Rank 4    Result\n",
       "st.subject.orc            19.0     1.0     0.0     0.0  0.983333\n",
       "pt.horizontal.orc         18.0     0.0     1.0     1.0  0.916667\n",
       "vp.subject.csv            17.0     1.0     1.0     1.0  0.900000\n",
       "vp.horizontal.csv         15.0     4.0     0.0     1.0  0.883333\n",
       "wpt.horizontal.parquet    16.0     1.0     0.0     3.0  0.833333"
      ]
     },
     "execution_count": 4,
     "metadata": {},
     "output_type": "execute_result"
    }
   ],
   "source": [
    "storageSDRank.calculateRank().head()"
   ]
  },
  {
   "cell_type": "code",
   "execution_count": 43,
   "metadata": {},
   "outputs": [
    {
     "data": {
      "application/vnd.plotly.v1+json": {
       "config": {
        "plotlyServerURL": "https://plot.ly"
       },
       "data": [
        {
         "hovertemplate": "r=%{r}<br>theta=%{theta}<extra></extra>",
         "legendgroup": "",
         "line": {
          "color": "#636efa",
          "dash": "solid"
         },
         "marker": {
          "symbol": "circle"
         },
         "mode": "lines",
         "name": "",
         "r": [
          0.8625,
          0.875,
          0.7333333333333334,
          0.8625
         ],
         "showlegend": false,
         "subplot": "polar",
         "theta": [
          "schemas: pt",
          "partition: subject",
          "storage: csv",
          "schemas: pt"
         ],
         "type": "scatterpolar"
        }
       ],
       "layout": {
        "legend": {
         "tracegroupgap": 0
        },
        "margin": {
         "t": 60
        },
        "polar": {
         "angularaxis": {
          "direction": "clockwise",
          "rotation": 90
         },
         "domain": {
          "x": [
           0,
           1
          ],
          "y": [
           0,
           1
          ]
         }
        },
        "template": {
         "data": {
          "bar": [
           {
            "error_x": {
             "color": "#2a3f5f"
            },
            "error_y": {
             "color": "#2a3f5f"
            },
            "marker": {
             "line": {
              "color": "#E5ECF6",
              "width": 0.5
             },
             "pattern": {
              "fillmode": "overlay",
              "size": 10,
              "solidity": 0.2
             }
            },
            "type": "bar"
           }
          ],
          "barpolar": [
           {
            "marker": {
             "line": {
              "color": "#E5ECF6",
              "width": 0.5
             },
             "pattern": {
              "fillmode": "overlay",
              "size": 10,
              "solidity": 0.2
             }
            },
            "type": "barpolar"
           }
          ],
          "carpet": [
           {
            "aaxis": {
             "endlinecolor": "#2a3f5f",
             "gridcolor": "white",
             "linecolor": "white",
             "minorgridcolor": "white",
             "startlinecolor": "#2a3f5f"
            },
            "baxis": {
             "endlinecolor": "#2a3f5f",
             "gridcolor": "white",
             "linecolor": "white",
             "minorgridcolor": "white",
             "startlinecolor": "#2a3f5f"
            },
            "type": "carpet"
           }
          ],
          "choropleth": [
           {
            "colorbar": {
             "outlinewidth": 0,
             "ticks": ""
            },
            "type": "choropleth"
           }
          ],
          "contour": [
           {
            "colorbar": {
             "outlinewidth": 0,
             "ticks": ""
            },
            "colorscale": [
             [
              0,
              "#0d0887"
             ],
             [
              0.1111111111111111,
              "#46039f"
             ],
             [
              0.2222222222222222,
              "#7201a8"
             ],
             [
              0.3333333333333333,
              "#9c179e"
             ],
             [
              0.4444444444444444,
              "#bd3786"
             ],
             [
              0.5555555555555556,
              "#d8576b"
             ],
             [
              0.6666666666666666,
              "#ed7953"
             ],
             [
              0.7777777777777778,
              "#fb9f3a"
             ],
             [
              0.8888888888888888,
              "#fdca26"
             ],
             [
              1,
              "#f0f921"
             ]
            ],
            "type": "contour"
           }
          ],
          "contourcarpet": [
           {
            "colorbar": {
             "outlinewidth": 0,
             "ticks": ""
            },
            "type": "contourcarpet"
           }
          ],
          "heatmap": [
           {
            "colorbar": {
             "outlinewidth": 0,
             "ticks": ""
            },
            "colorscale": [
             [
              0,
              "#0d0887"
             ],
             [
              0.1111111111111111,
              "#46039f"
             ],
             [
              0.2222222222222222,
              "#7201a8"
             ],
             [
              0.3333333333333333,
              "#9c179e"
             ],
             [
              0.4444444444444444,
              "#bd3786"
             ],
             [
              0.5555555555555556,
              "#d8576b"
             ],
             [
              0.6666666666666666,
              "#ed7953"
             ],
             [
              0.7777777777777778,
              "#fb9f3a"
             ],
             [
              0.8888888888888888,
              "#fdca26"
             ],
             [
              1,
              "#f0f921"
             ]
            ],
            "type": "heatmap"
           }
          ],
          "heatmapgl": [
           {
            "colorbar": {
             "outlinewidth": 0,
             "ticks": ""
            },
            "colorscale": [
             [
              0,
              "#0d0887"
             ],
             [
              0.1111111111111111,
              "#46039f"
             ],
             [
              0.2222222222222222,
              "#7201a8"
             ],
             [
              0.3333333333333333,
              "#9c179e"
             ],
             [
              0.4444444444444444,
              "#bd3786"
             ],
             [
              0.5555555555555556,
              "#d8576b"
             ],
             [
              0.6666666666666666,
              "#ed7953"
             ],
             [
              0.7777777777777778,
              "#fb9f3a"
             ],
             [
              0.8888888888888888,
              "#fdca26"
             ],
             [
              1,
              "#f0f921"
             ]
            ],
            "type": "heatmapgl"
           }
          ],
          "histogram": [
           {
            "marker": {
             "pattern": {
              "fillmode": "overlay",
              "size": 10,
              "solidity": 0.2
             }
            },
            "type": "histogram"
           }
          ],
          "histogram2d": [
           {
            "colorbar": {
             "outlinewidth": 0,
             "ticks": ""
            },
            "colorscale": [
             [
              0,
              "#0d0887"
             ],
             [
              0.1111111111111111,
              "#46039f"
             ],
             [
              0.2222222222222222,
              "#7201a8"
             ],
             [
              0.3333333333333333,
              "#9c179e"
             ],
             [
              0.4444444444444444,
              "#bd3786"
             ],
             [
              0.5555555555555556,
              "#d8576b"
             ],
             [
              0.6666666666666666,
              "#ed7953"
             ],
             [
              0.7777777777777778,
              "#fb9f3a"
             ],
             [
              0.8888888888888888,
              "#fdca26"
             ],
             [
              1,
              "#f0f921"
             ]
            ],
            "type": "histogram2d"
           }
          ],
          "histogram2dcontour": [
           {
            "colorbar": {
             "outlinewidth": 0,
             "ticks": ""
            },
            "colorscale": [
             [
              0,
              "#0d0887"
             ],
             [
              0.1111111111111111,
              "#46039f"
             ],
             [
              0.2222222222222222,
              "#7201a8"
             ],
             [
              0.3333333333333333,
              "#9c179e"
             ],
             [
              0.4444444444444444,
              "#bd3786"
             ],
             [
              0.5555555555555556,
              "#d8576b"
             ],
             [
              0.6666666666666666,
              "#ed7953"
             ],
             [
              0.7777777777777778,
              "#fb9f3a"
             ],
             [
              0.8888888888888888,
              "#fdca26"
             ],
             [
              1,
              "#f0f921"
             ]
            ],
            "type": "histogram2dcontour"
           }
          ],
          "mesh3d": [
           {
            "colorbar": {
             "outlinewidth": 0,
             "ticks": ""
            },
            "type": "mesh3d"
           }
          ],
          "parcoords": [
           {
            "line": {
             "colorbar": {
              "outlinewidth": 0,
              "ticks": ""
             }
            },
            "type": "parcoords"
           }
          ],
          "pie": [
           {
            "automargin": true,
            "type": "pie"
           }
          ],
          "scatter": [
           {
            "marker": {
             "colorbar": {
              "outlinewidth": 0,
              "ticks": ""
             }
            },
            "type": "scatter"
           }
          ],
          "scatter3d": [
           {
            "line": {
             "colorbar": {
              "outlinewidth": 0,
              "ticks": ""
             }
            },
            "marker": {
             "colorbar": {
              "outlinewidth": 0,
              "ticks": ""
             }
            },
            "type": "scatter3d"
           }
          ],
          "scattercarpet": [
           {
            "marker": {
             "colorbar": {
              "outlinewidth": 0,
              "ticks": ""
             }
            },
            "type": "scattercarpet"
           }
          ],
          "scattergeo": [
           {
            "marker": {
             "colorbar": {
              "outlinewidth": 0,
              "ticks": ""
             }
            },
            "type": "scattergeo"
           }
          ],
          "scattergl": [
           {
            "marker": {
             "colorbar": {
              "outlinewidth": 0,
              "ticks": ""
             }
            },
            "type": "scattergl"
           }
          ],
          "scattermapbox": [
           {
            "marker": {
             "colorbar": {
              "outlinewidth": 0,
              "ticks": ""
             }
            },
            "type": "scattermapbox"
           }
          ],
          "scatterpolar": [
           {
            "marker": {
             "colorbar": {
              "outlinewidth": 0,
              "ticks": ""
             }
            },
            "type": "scatterpolar"
           }
          ],
          "scatterpolargl": [
           {
            "marker": {
             "colorbar": {
              "outlinewidth": 0,
              "ticks": ""
             }
            },
            "type": "scatterpolargl"
           }
          ],
          "scatterternary": [
           {
            "marker": {
             "colorbar": {
              "outlinewidth": 0,
              "ticks": ""
             }
            },
            "type": "scatterternary"
           }
          ],
          "surface": [
           {
            "colorbar": {
             "outlinewidth": 0,
             "ticks": ""
            },
            "colorscale": [
             [
              0,
              "#0d0887"
             ],
             [
              0.1111111111111111,
              "#46039f"
             ],
             [
              0.2222222222222222,
              "#7201a8"
             ],
             [
              0.3333333333333333,
              "#9c179e"
             ],
             [
              0.4444444444444444,
              "#bd3786"
             ],
             [
              0.5555555555555556,
              "#d8576b"
             ],
             [
              0.6666666666666666,
              "#ed7953"
             ],
             [
              0.7777777777777778,
              "#fb9f3a"
             ],
             [
              0.8888888888888888,
              "#fdca26"
             ],
             [
              1,
              "#f0f921"
             ]
            ],
            "type": "surface"
           }
          ],
          "table": [
           {
            "cells": {
             "fill": {
              "color": "#EBF0F8"
             },
             "line": {
              "color": "white"
             }
            },
            "header": {
             "fill": {
              "color": "#C8D4E3"
             },
             "line": {
              "color": "white"
             }
            },
            "type": "table"
           }
          ]
         },
         "layout": {
          "annotationdefaults": {
           "arrowcolor": "#2a3f5f",
           "arrowhead": 0,
           "arrowwidth": 1
          },
          "autotypenumbers": "strict",
          "coloraxis": {
           "colorbar": {
            "outlinewidth": 0,
            "ticks": ""
           }
          },
          "colorscale": {
           "diverging": [
            [
             0,
             "#8e0152"
            ],
            [
             0.1,
             "#c51b7d"
            ],
            [
             0.2,
             "#de77ae"
            ],
            [
             0.3,
             "#f1b6da"
            ],
            [
             0.4,
             "#fde0ef"
            ],
            [
             0.5,
             "#f7f7f7"
            ],
            [
             0.6,
             "#e6f5d0"
            ],
            [
             0.7,
             "#b8e186"
            ],
            [
             0.8,
             "#7fbc41"
            ],
            [
             0.9,
             "#4d9221"
            ],
            [
             1,
             "#276419"
            ]
           ],
           "sequential": [
            [
             0,
             "#0d0887"
            ],
            [
             0.1111111111111111,
             "#46039f"
            ],
            [
             0.2222222222222222,
             "#7201a8"
            ],
            [
             0.3333333333333333,
             "#9c179e"
            ],
            [
             0.4444444444444444,
             "#bd3786"
            ],
            [
             0.5555555555555556,
             "#d8576b"
            ],
            [
             0.6666666666666666,
             "#ed7953"
            ],
            [
             0.7777777777777778,
             "#fb9f3a"
            ],
            [
             0.8888888888888888,
             "#fdca26"
            ],
            [
             1,
             "#f0f921"
            ]
           ],
           "sequentialminus": [
            [
             0,
             "#0d0887"
            ],
            [
             0.1111111111111111,
             "#46039f"
            ],
            [
             0.2222222222222222,
             "#7201a8"
            ],
            [
             0.3333333333333333,
             "#9c179e"
            ],
            [
             0.4444444444444444,
             "#bd3786"
            ],
            [
             0.5555555555555556,
             "#d8576b"
            ],
            [
             0.6666666666666666,
             "#ed7953"
            ],
            [
             0.7777777777777778,
             "#fb9f3a"
            ],
            [
             0.8888888888888888,
             "#fdca26"
            ],
            [
             1,
             "#f0f921"
            ]
           ]
          },
          "colorway": [
           "#636efa",
           "#EF553B",
           "#00cc96",
           "#ab63fa",
           "#FFA15A",
           "#19d3f3",
           "#FF6692",
           "#B6E880",
           "#FF97FF",
           "#FECB52"
          ],
          "font": {
           "color": "#2a3f5f"
          },
          "geo": {
           "bgcolor": "white",
           "lakecolor": "white",
           "landcolor": "#E5ECF6",
           "showlakes": true,
           "showland": true,
           "subunitcolor": "white"
          },
          "hoverlabel": {
           "align": "left"
          },
          "hovermode": "closest",
          "mapbox": {
           "style": "light"
          },
          "paper_bgcolor": "white",
          "plot_bgcolor": "#E5ECF6",
          "polar": {
           "angularaxis": {
            "gridcolor": "white",
            "linecolor": "white",
            "ticks": ""
           },
           "bgcolor": "#E5ECF6",
           "radialaxis": {
            "gridcolor": "white",
            "linecolor": "white",
            "ticks": ""
           }
          },
          "scene": {
           "xaxis": {
            "backgroundcolor": "#E5ECF6",
            "gridcolor": "white",
            "gridwidth": 2,
            "linecolor": "white",
            "showbackground": true,
            "ticks": "",
            "zerolinecolor": "white"
           },
           "yaxis": {
            "backgroundcolor": "#E5ECF6",
            "gridcolor": "white",
            "gridwidth": 2,
            "linecolor": "white",
            "showbackground": true,
            "ticks": "",
            "zerolinecolor": "white"
           },
           "zaxis": {
            "backgroundcolor": "#E5ECF6",
            "gridcolor": "white",
            "gridwidth": 2,
            "linecolor": "white",
            "showbackground": true,
            "ticks": "",
            "zerolinecolor": "white"
           }
          },
          "shapedefaults": {
           "line": {
            "color": "#2a3f5f"
           }
          },
          "ternary": {
           "aaxis": {
            "gridcolor": "white",
            "linecolor": "white",
            "ticks": ""
           },
           "baxis": {
            "gridcolor": "white",
            "linecolor": "white",
            "ticks": ""
           },
           "bgcolor": "#E5ECF6",
           "caxis": {
            "gridcolor": "white",
            "linecolor": "white",
            "ticks": ""
           }
          },
          "title": {
           "x": 0.05
          },
          "xaxis": {
           "automargin": true,
           "gridcolor": "white",
           "linecolor": "white",
           "ticks": "",
           "title": {
            "standoff": 15
           },
           "zerolinecolor": "white",
           "zerolinewidth": 2
          },
          "yaxis": {
           "automargin": true,
           "gridcolor": "white",
           "linecolor": "white",
           "ticks": "",
           "title": {
            "standoff": 15
           },
           "zerolinecolor": "white",
           "zerolinewidth": 2
          }
         }
        }
       }
      }
     },
     "metadata": {},
     "output_type": "display_data"
    }
   ],
   "source": [
    "from Rank import SDRank\n",
    "config = \"settings_watdiv.yaml\"\n",
    "logs = \"log_watdiv\"\n",
    "\n",
    "schemaSDRank = SDRank(config, logs, '100M', 'schemas')\n",
    "storageSDRank = SDRank(config, logs, '100M', 'storage')\n",
    "partitionSDRank = SDRank(config, logs, '100M', 'partition')\n",
    "\n",
    "partitionSDRank.plotRadar()"
   ]
  },
  {
   "cell_type": "markdown",
   "metadata": {},
   "source": [
    "In addition to radar plot, PAPyA also provides visualization that shows the performance of a single dimension parameters that user can choose in terms of their rank scores<br>\n",
    "This <b>plot</b> method takes a single argument which is the view projection option that user can specify"
   ]
  },
  {
   "cell_type": "code",
   "execution_count": 52,
   "metadata": {},
   "outputs": [
    {
     "data": {
      "text/plain": [
       "<AxesSubplot:title={'center':'orc'}>"
      ]
     },
     "execution_count": 52,
     "metadata": {},
     "output_type": "execute_result"
    },
    {
     "data": {
      "image/png": "[encoded data removed]",
      "text/plain": [
       "<Figure size 720x720 with 1 Axes>"
      ]
     },
     "metadata": {
      "needs_background": "light"
     },
     "output_type": "display_data"
    },
    {
     "data": {
      "image/png": "[encoded data removed]",
      "text/plain": [
       "<Figure size 720x720 with 1 Axes>"
      ]
     },
     "metadata": {
      "needs_background": "light"
     },
     "output_type": "display_data"
    },
    {
     "data": {
      "image/png": "[encoded data removed]",
      "text/plain": [
       "<Figure size 720x720 with 1 Axes>"
      ]
     },
     "metadata": {
      "needs_background": "light"
     },
     "output_type": "display_data"
    }
   ],
   "source": [
    "# example of schema dimension plots\n",
    "config = \"settings.yaml\"\n",
    "logs = \"log\"\n",
    "\n",
    "SDRank(config, logs, '100M', 'schemas').plot('predicate')\n",
    "SDRank(config, logs, '100M', 'storage').plot('pt')\n",
    "SDRank(config, logs, '100M', 'partition').plot('orc')"
   ]
  },
  {
   "cell_type": "code",
   "execution_count": 58,
   "metadata": {},
   "outputs": [
    {
     "data": {
      "image/png": "[encoded data removed]",
      "text/plain": [
       "<Figure size 1080x720 with 1 Axes>"
      ]
     },
     "metadata": {
      "needs_background": "light"
     },
     "output_type": "display_data"
    }
   ],
   "source": [
    "config = \"settings_watdiv.yaml\" # config file location\n",
    "logs = \"log_watdiv\" # logs file location\n",
    "\n",
    "from Rank import SDRank\n",
    "\n",
    "query = ['Q1', 'Q2', 'Q3']\n",
    "schemaSDRank = SDRank(config, logs, '100M', 'schemas').plotBox(query)"
   ]
  },
  {
   "cell_type": "code",
   "execution_count": 7,
   "metadata": {},
   "outputs": [],
   "source": [
    "# example of MDRank class with 100M dataset size as ranking set of the experiment\n",
    "from Rank import MDRank\n",
    "\n",
    "config = \"settings_watdiv.yaml\"\n",
    "logs = \"log_watdiv\"\n",
    "\n",
    "multiDimensionRank = MDRank(config, logs, '100M')"
   ]
  },
  {
   "cell_type": "code",
   "execution_count": 8,
   "metadata": {},
   "outputs": [
    {
     "data": {
      "text/html": [
       "<div>\n",
       "<style scoped>\n",
       "    .dataframe tbody tr th:only-of-type {\n",
       "        vertical-align: middle;\n",
       "    }\n",
       "\n",
       "    .dataframe tbody tr th {\n",
       "        vertical-align: top;\n",
       "    }\n",
       "\n",
       "    .dataframe thead th {\n",
       "        text-align: right;\n",
       "    }\n",
       "</style>\n",
       "<table border=\"1\" class=\"dataframe\">\n",
       "  <thead>\n",
       "    <tr style=\"text-align: right;\">\n",
       "      <th></th>\n",
       "      <th>Solution</th>\n",
       "      <th>Dominated</th>\n",
       "    </tr>\n",
       "  </thead>\n",
       "  <tbody>\n",
       "    <tr>\n",
       "      <th>0</th>\n",
       "      <td>extvp.predicate.csv</td>\n",
       "      <td>st.predicate.orc</td>\n",
       "    </tr>\n",
       "    <tr>\n",
       "      <th>1</th>\n",
       "      <td>extvp.predicate.parquet</td>\n",
       "      <td>st.predicate.parquet</td>\n",
       "    </tr>\n",
       "    <tr>\n",
       "      <th>2</th>\n",
       "      <td>pt.subject.csv</td>\n",
       "      <td>vp.subject.avro</td>\n",
       "    </tr>\n",
       "    <tr>\n",
       "      <th>3</th>\n",
       "      <td>pt.horizontal.csv</td>\n",
       "      <td>st.subject.parquet</td>\n",
       "    </tr>\n",
       "    <tr>\n",
       "      <th>4</th>\n",
       "      <td>extvp.predicate.avro</td>\n",
       "      <td>vp.horizontal.avro</td>\n",
       "    </tr>\n",
       "  </tbody>\n",
       "</table>\n",
       "</div>"
      ],
      "text/plain": [
       "                  Solution             Dominated\n",
       "0      extvp.predicate.csv      st.predicate.orc\n",
       "1  extvp.predicate.parquet  st.predicate.parquet\n",
       "2           pt.subject.csv       vp.subject.avro\n",
       "3        pt.horizontal.csv    st.subject.parquet\n",
       "4     extvp.predicate.avro    vp.horizontal.avro"
      ]
     },
     "execution_count": 8,
     "metadata": {},
     "output_type": "execute_result"
    }
   ],
   "source": [
    "# this is the top 5 configurations according to paretoQ method sorted from best to worst\n",
    "multiDimensionRank.paretoQ().head()"
   ]
  },
  {
   "cell_type": "code",
   "execution_count": 17,
   "metadata": {},
   "outputs": [
    {
     "data": {
      "text/html": [
       "<div>\n",
       "<style scoped>\n",
       "    .dataframe tbody tr th:only-of-type {\n",
       "        vertical-align: middle;\n",
       "    }\n",
       "\n",
       "    .dataframe tbody tr th {\n",
       "        vertical-align: top;\n",
       "    }\n",
       "\n",
       "    .dataframe thead th {\n",
       "        text-align: right;\n",
       "    }\n",
       "</style>\n",
       "<table border=\"1\" class=\"dataframe\">\n",
       "  <thead>\n",
       "    <tr style=\"text-align: right;\">\n",
       "      <th></th>\n",
       "      <th>Solution</th>\n",
       "      <th>Dominated</th>\n",
       "    </tr>\n",
       "  </thead>\n",
       "  <tbody>\n",
       "    <tr>\n",
       "      <th>0</th>\n",
       "      <td>vp.predicate.csv</td>\n",
       "      <td>st.predicate.csv</td>\n",
       "    </tr>\n",
       "    <tr>\n",
       "      <th>1</th>\n",
       "      <td>pt.subject.csv</td>\n",
       "      <td>pt.predicate.orc</td>\n",
       "    </tr>\n",
       "    <tr>\n",
       "      <th>2</th>\n",
       "      <td>extvp.predicate.parquet</td>\n",
       "      <td>wpt.subject.csv</td>\n",
       "    </tr>\n",
       "    <tr>\n",
       "      <th>3</th>\n",
       "      <td>pt.horizontal.orc</td>\n",
       "      <td>st.horizontal.csv</td>\n",
       "    </tr>\n",
       "    <tr>\n",
       "      <th>4</th>\n",
       "      <td>st.subject.orc</td>\n",
       "      <td>pt.predicate.csv</td>\n",
       "    </tr>\n",
       "    <tr>\n",
       "      <th>5</th>\n",
       "      <td>vp.subject.csv</td>\n",
       "      <td>wpt.horizontal.csv</td>\n",
       "    </tr>\n",
       "    <tr>\n",
       "      <th>6</th>\n",
       "      <td>extvp.predicate.csv</td>\n",
       "      <td>pt.predicate.avro</td>\n",
       "    </tr>\n",
       "    <tr>\n",
       "      <th>7</th>\n",
       "      <td></td>\n",
       "      <td>pt.predicate.parquet</td>\n",
       "    </tr>\n",
       "    <tr>\n",
       "      <th>8</th>\n",
       "      <td></td>\n",
       "      <td>wpt.horizontal.avro</td>\n",
       "    </tr>\n",
       "    <tr>\n",
       "      <th>9</th>\n",
       "      <td></td>\n",
       "      <td>st.horizontal.avro</td>\n",
       "    </tr>\n",
       "    <tr>\n",
       "      <th>10</th>\n",
       "      <td></td>\n",
       "      <td>vp.horizontal.orc</td>\n",
       "    </tr>\n",
       "    <tr>\n",
       "      <th>11</th>\n",
       "      <td></td>\n",
       "      <td>wpt.subject.avro</td>\n",
       "    </tr>\n",
       "    <tr>\n",
       "      <th>12</th>\n",
       "      <td></td>\n",
       "      <td>vp.subject.orc</td>\n",
       "    </tr>\n",
       "    <tr>\n",
       "      <th>13</th>\n",
       "      <td></td>\n",
       "      <td>vp.subject.parquet</td>\n",
       "    </tr>\n",
       "    <tr>\n",
       "      <th>14</th>\n",
       "      <td></td>\n",
       "      <td>vp.horizontal.parquet</td>\n",
       "    </tr>\n",
       "    <tr>\n",
       "      <th>15</th>\n",
       "      <td></td>\n",
       "      <td>st.predicate.avro</td>\n",
       "    </tr>\n",
       "    <tr>\n",
       "      <th>16</th>\n",
       "      <td></td>\n",
       "      <td>st.horizontal.parquet</td>\n",
       "    </tr>\n",
       "    <tr>\n",
       "      <th>17</th>\n",
       "      <td></td>\n",
       "      <td>vp.horizontal.avro</td>\n",
       "    </tr>\n",
       "    <tr>\n",
       "      <th>18</th>\n",
       "      <td></td>\n",
       "      <td>wpt.horizontal.orc</td>\n",
       "    </tr>\n",
       "    <tr>\n",
       "      <th>19</th>\n",
       "      <td></td>\n",
       "      <td>vp.subject.avro</td>\n",
       "    </tr>\n",
       "    <tr>\n",
       "      <th>20</th>\n",
       "      <td></td>\n",
       "      <td>extvp.horizontal.orc</td>\n",
       "    </tr>\n",
       "    <tr>\n",
       "      <th>21</th>\n",
       "      <td></td>\n",
       "      <td>st.horizontal.orc</td>\n",
       "    </tr>\n",
       "    <tr>\n",
       "      <th>22</th>\n",
       "      <td></td>\n",
       "      <td>wpt.subject.orc</td>\n",
       "    </tr>\n",
       "    <tr>\n",
       "      <th>23</th>\n",
       "      <td></td>\n",
       "      <td>pt.subject.orc</td>\n",
       "    </tr>\n",
       "    <tr>\n",
       "      <th>24</th>\n",
       "      <td></td>\n",
       "      <td>extvp.horizontal.avro</td>\n",
       "    </tr>\n",
       "    <tr>\n",
       "      <th>25</th>\n",
       "      <td></td>\n",
       "      <td>vp.predicate.orc</td>\n",
       "    </tr>\n",
       "    <tr>\n",
       "      <th>26</th>\n",
       "      <td></td>\n",
       "      <td>vp.predicate.avro</td>\n",
       "    </tr>\n",
       "    <tr>\n",
       "      <th>27</th>\n",
       "      <td></td>\n",
       "      <td>extvp.horizontal.parquet</td>\n",
       "    </tr>\n",
       "    <tr>\n",
       "      <th>28</th>\n",
       "      <td></td>\n",
       "      <td>wpt.subject.parquet</td>\n",
       "    </tr>\n",
       "    <tr>\n",
       "      <th>29</th>\n",
       "      <td></td>\n",
       "      <td>pt.horizontal.avro</td>\n",
       "    </tr>\n",
       "    <tr>\n",
       "      <th>30</th>\n",
       "      <td></td>\n",
       "      <td>extvp.subject.orc</td>\n",
       "    </tr>\n",
       "    <tr>\n",
       "      <th>31</th>\n",
       "      <td></td>\n",
       "      <td>vp.predicate.parquet</td>\n",
       "    </tr>\n",
       "    <tr>\n",
       "      <th>32</th>\n",
       "      <td></td>\n",
       "      <td>pt.subject.parquet</td>\n",
       "    </tr>\n",
       "    <tr>\n",
       "      <th>33</th>\n",
       "      <td></td>\n",
       "      <td>st.predicate.orc</td>\n",
       "    </tr>\n",
       "    <tr>\n",
       "      <th>34</th>\n",
       "      <td></td>\n",
       "      <td>pt.horizontal.csv</td>\n",
       "    </tr>\n",
       "    <tr>\n",
       "      <th>35</th>\n",
       "      <td></td>\n",
       "      <td>st.predicate.parquet</td>\n",
       "    </tr>\n",
       "    <tr>\n",
       "      <th>36</th>\n",
       "      <td></td>\n",
       "      <td>pt.horizontal.parquet</td>\n",
       "    </tr>\n",
       "    <tr>\n",
       "      <th>37</th>\n",
       "      <td></td>\n",
       "      <td>extvp.subject.csv</td>\n",
       "    </tr>\n",
       "    <tr>\n",
       "      <th>38</th>\n",
       "      <td></td>\n",
       "      <td>extvp.predicate.avro</td>\n",
       "    </tr>\n",
       "    <tr>\n",
       "      <th>39</th>\n",
       "      <td></td>\n",
       "      <td>extvp.subject.avro</td>\n",
       "    </tr>\n",
       "    <tr>\n",
       "      <th>40</th>\n",
       "      <td></td>\n",
       "      <td>pt.subject.avro</td>\n",
       "    </tr>\n",
       "    <tr>\n",
       "      <th>41</th>\n",
       "      <td></td>\n",
       "      <td>wpt.horizontal.parquet</td>\n",
       "    </tr>\n",
       "    <tr>\n",
       "      <th>42</th>\n",
       "      <td></td>\n",
       "      <td>extvp.horizontal.csv</td>\n",
       "    </tr>\n",
       "    <tr>\n",
       "      <th>43</th>\n",
       "      <td></td>\n",
       "      <td>extvp.subject.parquet</td>\n",
       "    </tr>\n",
       "    <tr>\n",
       "      <th>44</th>\n",
       "      <td></td>\n",
       "      <td>vp.horizontal.csv</td>\n",
       "    </tr>\n",
       "  </tbody>\n",
       "</table>\n",
       "</div>"
      ],
      "text/plain": [
       "                   Solution                 Dominated\n",
       "0          vp.predicate.csv          st.predicate.csv\n",
       "1            pt.subject.csv          pt.predicate.orc\n",
       "2   extvp.predicate.parquet           wpt.subject.csv\n",
       "3         pt.horizontal.orc         st.horizontal.csv\n",
       "4            st.subject.orc          pt.predicate.csv\n",
       "5            vp.subject.csv        wpt.horizontal.csv\n",
       "6       extvp.predicate.csv         pt.predicate.avro\n",
       "7                                pt.predicate.parquet\n",
       "8                                 wpt.horizontal.avro\n",
       "9                                  st.horizontal.avro\n",
       "10                                  vp.horizontal.orc\n",
       "11                                   wpt.subject.avro\n",
       "12                                     vp.subject.orc\n",
       "13                                 vp.subject.parquet\n",
       "14                              vp.horizontal.parquet\n",
       "15                                  st.predicate.avro\n",
       "16                              st.horizontal.parquet\n",
       "17                                 vp.horizontal.avro\n",
       "18                                 wpt.horizontal.orc\n",
       "19                                    vp.subject.avro\n",
       "20                               extvp.horizontal.orc\n",
       "21                                  st.horizontal.orc\n",
       "22                                    wpt.subject.orc\n",
       "23                                     pt.subject.orc\n",
       "24                              extvp.horizontal.avro\n",
       "25                                   vp.predicate.orc\n",
       "26                                  vp.predicate.avro\n",
       "27                           extvp.horizontal.parquet\n",
       "28                                wpt.subject.parquet\n",
       "29                                 pt.horizontal.avro\n",
       "30                                  extvp.subject.orc\n",
       "31                               vp.predicate.parquet\n",
       "32                                 pt.subject.parquet\n",
       "33                                   st.predicate.orc\n",
       "34                                  pt.horizontal.csv\n",
       "35                               st.predicate.parquet\n",
       "36                              pt.horizontal.parquet\n",
       "37                                  extvp.subject.csv\n",
       "38                               extvp.predicate.avro\n",
       "39                                 extvp.subject.avro\n",
       "40                                    pt.subject.avro\n",
       "41                             wpt.horizontal.parquet\n",
       "42                               extvp.horizontal.csv\n",
       "43                              extvp.subject.parquet\n",
       "44                                  vp.horizontal.csv"
      ]
     },
     "execution_count": 17,
     "metadata": {},
     "output_type": "execute_result"
    }
   ],
   "source": [
    "# this is the top 5 configurations according to paretoAgg method sorted from best to worst\n",
    "multiDimensionRank.paretoAgg()"
   ]
  },
  {
   "cell_type": "markdown",
   "metadata": {},
   "source": [
    "The <b>plot</b> method shows the solutions for _paretoAgg_ as shades of green areas projected in a three dimensional space"
   ]
  },
  {
   "cell_type": "code",
   "execution_count": 69,
   "metadata": {},
   "outputs": [
    {
     "name": "stdout",
     "output_type": "stream",
     "text": [
      "(7, 3) (49, 3)\n"
     ]
    },
    {
     "data": {
      "image/png": "[encoded data removed]",
      "text/plain": [
       "<Figure size 1080x1080 with 1 Axes>"
      ]
     },
     "metadata": {
      "needs_background": "light"
     },
     "output_type": "display_data"
    }
   ],
   "source": [
    "multiDimensionRank.plot()"
   ]
  },
  {
   "cell_type": "code",
   "execution_count": 1,
   "metadata": {},
   "outputs": [],
   "source": [
    "# both conformance and coherence classes takes a list of ranking criterion that the user can specify\n",
    "from Ranker import Conformance, Coherence\n",
    "\n",
    "config = 'settings_watdiv.yaml'\n",
    "logs = 'log_watdiv'\n",
    "\n",
    "conformance_set = ['schemas', 'partition', 'storage', 'paretoQ', 'paretoAgg']\n",
    "coherence_set = ['schemas', 'partition', 'storage', 'paretoQ', 'paretoAgg']\n",
    "\n",
    "conf = Conformance(config, logs, '100M', conformance_set, 3, 8)\n",
    "coh = Coherence(config, logs,coherence_set)"
   ]
  },
  {
   "cell_type": "code",
   "execution_count": 6,
   "metadata": {},
   "outputs": [
    {
     "data": {
      "text/html": [
       "<div>\n",
       "<style scoped>\n",
       "    .dataframe tbody tr th:only-of-type {\n",
       "        vertical-align: middle;\n",
       "    }\n",
       "\n",
       "    .dataframe tbody tr th {\n",
       "        vertical-align: top;\n",
       "    }\n",
       "\n",
       "    .dataframe thead th {\n",
       "        text-align: right;\n",
       "    }\n",
       "</style>\n",
       "<table border=\"1\" class=\"dataframe\">\n",
       "  <thead>\n",
       "    <tr style=\"text-align: right;\">\n",
       "      <th></th>\n",
       "      <th>100M</th>\n",
       "    </tr>\n",
       "  </thead>\n",
       "  <tbody>\n",
       "    <tr>\n",
       "      <th>schemas</th>\n",
       "      <td>0.566667</td>\n",
       "    </tr>\n",
       "    <tr>\n",
       "      <th>partition</th>\n",
       "      <td>0.383333</td>\n",
       "    </tr>\n",
       "    <tr>\n",
       "      <th>storage</th>\n",
       "      <td>0.183333</td>\n",
       "    </tr>\n",
       "    <tr>\n",
       "      <th>paretoQ</th>\n",
       "      <td>0.616667</td>\n",
       "    </tr>\n",
       "    <tr>\n",
       "      <th>paretoAgg</th>\n",
       "      <td>0.466667</td>\n",
       "    </tr>\n",
       "  </tbody>\n",
       "</table>\n",
       "</div>"
      ],
      "text/plain": [
       "               100M\n",
       "schemas    0.566667\n",
       "partition  0.383333\n",
       "storage    0.183333\n",
       "paretoQ    0.616667\n",
       "paretoAgg  0.466667"
      ]
     },
     "execution_count": 6,
     "metadata": {},
     "output_type": "execute_result"
    }
   ],
   "source": [
    "conf.run()"
   ]
  },
  {
   "cell_type": "code",
   "execution_count": 14,
   "metadata": {},
   "outputs": [
    {
     "data": {
      "text/html": [
       "<div>\n",
       "<style scoped>\n",
       "    .dataframe tbody tr th:only-of-type {\n",
       "        vertical-align: middle;\n",
       "    }\n",
       "\n",
       "    .dataframe tbody tr th {\n",
       "        vertical-align: top;\n",
       "    }\n",
       "\n",
       "    .dataframe thead th {\n",
       "        text-align: right;\n",
       "    }\n",
       "</style>\n",
       "<table border=\"1\" class=\"dataframe\">\n",
       "  <thead>\n",
       "    <tr style=\"text-align: right;\">\n",
       "      <th></th>\n",
       "      <th>1</th>\n",
       "      <th>2</th>\n",
       "      <th>3</th>\n",
       "      <th>4</th>\n",
       "      <th>5</th>\n",
       "      <th>6</th>\n",
       "      <th>7</th>\n",
       "      <th>8</th>\n",
       "      <th>9</th>\n",
       "      <th>10</th>\n",
       "      <th>11</th>\n",
       "      <th>12</th>\n",
       "      <th>13</th>\n",
       "      <th>14</th>\n",
       "      <th>15</th>\n",
       "      <th>16</th>\n",
       "      <th>17</th>\n",
       "      <th>18</th>\n",
       "      <th>19</th>\n",
       "      <th>20</th>\n",
       "    </tr>\n",
       "  </thead>\n",
       "  <tbody>\n",
       "    <tr>\n",
       "      <th>extvp.predicate.csv</th>\n",
       "      <td>8</td>\n",
       "      <td>9</td>\n",
       "      <td>2</td>\n",
       "      <td>1</td>\n",
       "      <td>9</td>\n",
       "      <td>3</td>\n",
       "      <td>1</td>\n",
       "      <td>6</td>\n",
       "      <td>20</td>\n",
       "      <td>20</td>\n",
       "      <td>12</td>\n",
       "      <td>6</td>\n",
       "      <td>3</td>\n",
       "      <td>4</td>\n",
       "      <td>7</td>\n",
       "      <td>2</td>\n",
       "      <td>5</td>\n",
       "      <td>11</td>\n",
       "      <td>3</td>\n",
       "      <td>14</td>\n",
       "    </tr>\n",
       "    <tr>\n",
       "      <th>extvp.predicate.parquet</th>\n",
       "      <td>2</td>\n",
       "      <td>10</td>\n",
       "      <td>19</td>\n",
       "      <td>6</td>\n",
       "      <td>29</td>\n",
       "      <td>5</td>\n",
       "      <td>4</td>\n",
       "      <td>19</td>\n",
       "      <td>6</td>\n",
       "      <td>5</td>\n",
       "      <td>14</td>\n",
       "      <td>5</td>\n",
       "      <td>23</td>\n",
       "      <td>3</td>\n",
       "      <td>5</td>\n",
       "      <td>7</td>\n",
       "      <td>1</td>\n",
       "      <td>6</td>\n",
       "      <td>1</td>\n",
       "      <td>30</td>\n",
       "    </tr>\n",
       "    <tr>\n",
       "      <th>pt.subject.csv</th>\n",
       "      <td>6</td>\n",
       "      <td>19</td>\n",
       "      <td>26</td>\n",
       "      <td>2</td>\n",
       "      <td>3</td>\n",
       "      <td>6</td>\n",
       "      <td>3</td>\n",
       "      <td>2</td>\n",
       "      <td>15</td>\n",
       "      <td>31</td>\n",
       "      <td>8</td>\n",
       "      <td>29</td>\n",
       "      <td>4</td>\n",
       "      <td>1</td>\n",
       "      <td>23</td>\n",
       "      <td>4</td>\n",
       "      <td>10</td>\n",
       "      <td>12</td>\n",
       "      <td>9</td>\n",
       "      <td>1</td>\n",
       "    </tr>\n",
       "  </tbody>\n",
       "</table>\n",
       "</div>"
      ],
      "text/plain": [
       "                         1   2   3   4   5   6   7   8   9   10  11  12  13  \\\n",
       "extvp.predicate.csv       8   9   2   1   9   3   1   6  20  20  12   6   3   \n",
       "extvp.predicate.parquet   2  10  19   6  29   5   4  19   6   5  14   5  23   \n",
       "pt.subject.csv            6  19  26   2   3   6   3   2  15  31   8  29   4   \n",
       "\n",
       "                         14  15  16  17  18  19  20  \n",
       "extvp.predicate.csv       4   7   2   5  11   3  14  \n",
       "extvp.predicate.parquet   3   5   7   1   6   1  30  \n",
       "pt.subject.csv            1  23   4  10  12   9   1  "
      ]
     },
     "execution_count": 14,
     "metadata": {},
     "output_type": "execute_result"
    }
   ],
   "source": [
    "conf.showCriteriaTable(dimension = 'paretoQ')"
   ]
  },
  {
   "cell_type": "code",
   "execution_count": 3,
   "metadata": {},
   "outputs": [
    {
     "data": {
      "text/html": [
       "<style type=\"text/css\">\n",
       "#T_d8ff0_row0_col0, #T_d8ff0_row0_col1, #T_d8ff0_row0_col2, #T_d8ff0_row0_col3, #T_d8ff0_row0_col4, #T_d8ff0_row0_col5, #T_d8ff0_row0_col6, #T_d8ff0_row0_col7, #T_d8ff0_row0_col8, #T_d8ff0_row0_col9, #T_d8ff0_row0_col10, #T_d8ff0_row0_col11, #T_d8ff0_row0_col12, #T_d8ff0_row0_col13, #T_d8ff0_row0_col14, #T_d8ff0_row0_col15, #T_d8ff0_row0_col16, #T_d8ff0_row0_col17, #T_d8ff0_row0_col18, #T_d8ff0_row1_col0, #T_d8ff0_row1_col1, #T_d8ff0_row1_col3, #T_d8ff0_row1_col5, #T_d8ff0_row1_col6, #T_d8ff0_row1_col8, #T_d8ff0_row1_col10, #T_d8ff0_row1_col11, #T_d8ff0_row1_col12, #T_d8ff0_row1_col13, #T_d8ff0_row1_col14, #T_d8ff0_row1_col15, #T_d8ff0_row1_col16, #T_d8ff0_row1_col18, #T_d8ff0_row1_col19, #T_d8ff0_row2_col0, #T_d8ff0_row2_col1, #T_d8ff0_row2_col2, #T_d8ff0_row2_col3, #T_d8ff0_row2_col4, #T_d8ff0_row2_col6, #T_d8ff0_row2_col9, #T_d8ff0_row2_col12, #T_d8ff0_row2_col13, #T_d8ff0_row2_col14, #T_d8ff0_row2_col15, #T_d8ff0_row2_col16, #T_d8ff0_row2_col17, #T_d8ff0_row2_col18, #T_d8ff0_row2_col19 {\n",
       "  color: red;\n",
       "}\n",
       "#T_d8ff0_row0_col19, #T_d8ff0_row1_col2, #T_d8ff0_row1_col4, #T_d8ff0_row1_col7, #T_d8ff0_row1_col9, #T_d8ff0_row1_col17, #T_d8ff0_row2_col5, #T_d8ff0_row2_col7, #T_d8ff0_row2_col8, #T_d8ff0_row2_col10, #T_d8ff0_row2_col11 {\n",
       "  color: green;\n",
       "}\n",
       "</style>\n",
       "<table id=\"T_d8ff0\">\n",
       "  <thead>\n",
       "    <tr>\n",
       "      <th class=\"blank level0\" >&nbsp;</th>\n",
       "      <th id=\"T_d8ff0_level0_col0\" class=\"col_heading level0 col0\" >1</th>\n",
       "      <th id=\"T_d8ff0_level0_col1\" class=\"col_heading level0 col1\" >2</th>\n",
       "      <th id=\"T_d8ff0_level0_col2\" class=\"col_heading level0 col2\" >3</th>\n",
       "      <th id=\"T_d8ff0_level0_col3\" class=\"col_heading level0 col3\" >4</th>\n",
       "      <th id=\"T_d8ff0_level0_col4\" class=\"col_heading level0 col4\" >5</th>\n",
       "      <th id=\"T_d8ff0_level0_col5\" class=\"col_heading level0 col5\" >6</th>\n",
       "      <th id=\"T_d8ff0_level0_col6\" class=\"col_heading level0 col6\" >7</th>\n",
       "      <th id=\"T_d8ff0_level0_col7\" class=\"col_heading level0 col7\" >8</th>\n",
       "      <th id=\"T_d8ff0_level0_col8\" class=\"col_heading level0 col8\" >9</th>\n",
       "      <th id=\"T_d8ff0_level0_col9\" class=\"col_heading level0 col9\" >10</th>\n",
       "      <th id=\"T_d8ff0_level0_col10\" class=\"col_heading level0 col10\" >11</th>\n",
       "      <th id=\"T_d8ff0_level0_col11\" class=\"col_heading level0 col11\" >12</th>\n",
       "      <th id=\"T_d8ff0_level0_col12\" class=\"col_heading level0 col12\" >13</th>\n",
       "      <th id=\"T_d8ff0_level0_col13\" class=\"col_heading level0 col13\" >14</th>\n",
       "      <th id=\"T_d8ff0_level0_col14\" class=\"col_heading level0 col14\" >15</th>\n",
       "      <th id=\"T_d8ff0_level0_col15\" class=\"col_heading level0 col15\" >16</th>\n",
       "      <th id=\"T_d8ff0_level0_col16\" class=\"col_heading level0 col16\" >17</th>\n",
       "      <th id=\"T_d8ff0_level0_col17\" class=\"col_heading level0 col17\" >18</th>\n",
       "      <th id=\"T_d8ff0_level0_col18\" class=\"col_heading level0 col18\" >19</th>\n",
       "      <th id=\"T_d8ff0_level0_col19\" class=\"col_heading level0 col19\" >20</th>\n",
       "    </tr>\n",
       "  </thead>\n",
       "  <tbody>\n",
       "    <tr>\n",
       "      <th id=\"T_d8ff0_level0_row0\" class=\"row_heading level0 row0\" >st.subject.orc</th>\n",
       "      <td id=\"T_d8ff0_row0_col0\" class=\"data row0 col0\" >True</td>\n",
       "      <td id=\"T_d8ff0_row0_col1\" class=\"data row0 col1\" >True</td>\n",
       "      <td id=\"T_d8ff0_row0_col2\" class=\"data row0 col2\" >True</td>\n",
       "      <td id=\"T_d8ff0_row0_col3\" class=\"data row0 col3\" >True</td>\n",
       "      <td id=\"T_d8ff0_row0_col4\" class=\"data row0 col4\" >True</td>\n",
       "      <td id=\"T_d8ff0_row0_col5\" class=\"data row0 col5\" >True</td>\n",
       "      <td id=\"T_d8ff0_row0_col6\" class=\"data row0 col6\" >True</td>\n",
       "      <td id=\"T_d8ff0_row0_col7\" class=\"data row0 col7\" >True</td>\n",
       "      <td id=\"T_d8ff0_row0_col8\" class=\"data row0 col8\" >True</td>\n",
       "      <td id=\"T_d8ff0_row0_col9\" class=\"data row0 col9\" >True</td>\n",
       "      <td id=\"T_d8ff0_row0_col10\" class=\"data row0 col10\" >True</td>\n",
       "      <td id=\"T_d8ff0_row0_col11\" class=\"data row0 col11\" >True</td>\n",
       "      <td id=\"T_d8ff0_row0_col12\" class=\"data row0 col12\" >True</td>\n",
       "      <td id=\"T_d8ff0_row0_col13\" class=\"data row0 col13\" >True</td>\n",
       "      <td id=\"T_d8ff0_row0_col14\" class=\"data row0 col14\" >True</td>\n",
       "      <td id=\"T_d8ff0_row0_col15\" class=\"data row0 col15\" >True</td>\n",
       "      <td id=\"T_d8ff0_row0_col16\" class=\"data row0 col16\" >True</td>\n",
       "      <td id=\"T_d8ff0_row0_col17\" class=\"data row0 col17\" >True</td>\n",
       "      <td id=\"T_d8ff0_row0_col18\" class=\"data row0 col18\" >True</td>\n",
       "      <td id=\"T_d8ff0_row0_col19\" class=\"data row0 col19\" >False</td>\n",
       "    </tr>\n",
       "    <tr>\n",
       "      <th id=\"T_d8ff0_level0_row1\" class=\"row_heading level0 row1\" >pt.horizontal.orc</th>\n",
       "      <td id=\"T_d8ff0_row1_col0\" class=\"data row1 col0\" >True</td>\n",
       "      <td id=\"T_d8ff0_row1_col1\" class=\"data row1 col1\" >True</td>\n",
       "      <td id=\"T_d8ff0_row1_col2\" class=\"data row1 col2\" >False</td>\n",
       "      <td id=\"T_d8ff0_row1_col3\" class=\"data row1 col3\" >True</td>\n",
       "      <td id=\"T_d8ff0_row1_col4\" class=\"data row1 col4\" >False</td>\n",
       "      <td id=\"T_d8ff0_row1_col5\" class=\"data row1 col5\" >True</td>\n",
       "      <td id=\"T_d8ff0_row1_col6\" class=\"data row1 col6\" >True</td>\n",
       "      <td id=\"T_d8ff0_row1_col7\" class=\"data row1 col7\" >False</td>\n",
       "      <td id=\"T_d8ff0_row1_col8\" class=\"data row1 col8\" >True</td>\n",
       "      <td id=\"T_d8ff0_row1_col9\" class=\"data row1 col9\" >False</td>\n",
       "      <td id=\"T_d8ff0_row1_col10\" class=\"data row1 col10\" >True</td>\n",
       "      <td id=\"T_d8ff0_row1_col11\" class=\"data row1 col11\" >True</td>\n",
       "      <td id=\"T_d8ff0_row1_col12\" class=\"data row1 col12\" >True</td>\n",
       "      <td id=\"T_d8ff0_row1_col13\" class=\"data row1 col13\" >True</td>\n",
       "      <td id=\"T_d8ff0_row1_col14\" class=\"data row1 col14\" >True</td>\n",
       "      <td id=\"T_d8ff0_row1_col15\" class=\"data row1 col15\" >True</td>\n",
       "      <td id=\"T_d8ff0_row1_col16\" class=\"data row1 col16\" >True</td>\n",
       "      <td id=\"T_d8ff0_row1_col17\" class=\"data row1 col17\" >False</td>\n",
       "      <td id=\"T_d8ff0_row1_col18\" class=\"data row1 col18\" >True</td>\n",
       "      <td id=\"T_d8ff0_row1_col19\" class=\"data row1 col19\" >True</td>\n",
       "    </tr>\n",
       "    <tr>\n",
       "      <th id=\"T_d8ff0_level0_row2\" class=\"row_heading level0 row2\" >vp.subject.csv</th>\n",
       "      <td id=\"T_d8ff0_row2_col0\" class=\"data row2 col0\" >True</td>\n",
       "      <td id=\"T_d8ff0_row2_col1\" class=\"data row2 col1\" >True</td>\n",
       "      <td id=\"T_d8ff0_row2_col2\" class=\"data row2 col2\" >True</td>\n",
       "      <td id=\"T_d8ff0_row2_col3\" class=\"data row2 col3\" >True</td>\n",
       "      <td id=\"T_d8ff0_row2_col4\" class=\"data row2 col4\" >True</td>\n",
       "      <td id=\"T_d8ff0_row2_col5\" class=\"data row2 col5\" >False</td>\n",
       "      <td id=\"T_d8ff0_row2_col6\" class=\"data row2 col6\" >True</td>\n",
       "      <td id=\"T_d8ff0_row2_col7\" class=\"data row2 col7\" >False</td>\n",
       "      <td id=\"T_d8ff0_row2_col8\" class=\"data row2 col8\" >False</td>\n",
       "      <td id=\"T_d8ff0_row2_col9\" class=\"data row2 col9\" >True</td>\n",
       "      <td id=\"T_d8ff0_row2_col10\" class=\"data row2 col10\" >False</td>\n",
       "      <td id=\"T_d8ff0_row2_col11\" class=\"data row2 col11\" >False</td>\n",
       "      <td id=\"T_d8ff0_row2_col12\" class=\"data row2 col12\" >True</td>\n",
       "      <td id=\"T_d8ff0_row2_col13\" class=\"data row2 col13\" >True</td>\n",
       "      <td id=\"T_d8ff0_row2_col14\" class=\"data row2 col14\" >True</td>\n",
       "      <td id=\"T_d8ff0_row2_col15\" class=\"data row2 col15\" >True</td>\n",
       "      <td id=\"T_d8ff0_row2_col16\" class=\"data row2 col16\" >True</td>\n",
       "      <td id=\"T_d8ff0_row2_col17\" class=\"data row2 col17\" >True</td>\n",
       "      <td id=\"T_d8ff0_row2_col18\" class=\"data row2 col18\" >True</td>\n",
       "      <td id=\"T_d8ff0_row2_col19\" class=\"data row2 col19\" >True</td>\n",
       "    </tr>\n",
       "  </tbody>\n",
       "</table>\n"
      ],
      "text/plain": [
       "<pandas.io.formats.style.Styler at 0x18bee4f1370>"
      ]
     },
     "execution_count": 3,
     "metadata": {},
     "output_type": "execute_result"
    }
   ],
   "source": [
    "conf.showTable(dimension = 'storage')"
   ]
  },
  {
   "cell_type": "code",
   "execution_count": 2,
   "metadata": {},
   "outputs": [
    {
     "data": {
      "text/html": [
       "<div>\n",
       "<style scoped>\n",
       "    .dataframe tbody tr th:only-of-type {\n",
       "        vertical-align: middle;\n",
       "    }\n",
       "\n",
       "    .dataframe tbody tr th {\n",
       "        vertical-align: top;\n",
       "    }\n",
       "\n",
       "    .dataframe thead th {\n",
       "        text-align: right;\n",
       "    }\n",
       "</style>\n",
       "<table border=\"1\" class=\"dataframe\">\n",
       "  <thead>\n",
       "    <tr style=\"text-align: right;\">\n",
       "      <th></th>\n",
       "      <th>Kendall's Index</th>\n",
       "    </tr>\n",
       "  </thead>\n",
       "  <tbody>\n",
       "    <tr>\n",
       "      <th>schemas</th>\n",
       "      <td>0.311111</td>\n",
       "    </tr>\n",
       "    <tr>\n",
       "      <th>partition</th>\n",
       "      <td>0.491964</td>\n",
       "    </tr>\n",
       "    <tr>\n",
       "      <th>storage</th>\n",
       "      <td>0.506033</td>\n",
       "    </tr>\n",
       "    <tr>\n",
       "      <th>paretoQ</th>\n",
       "      <td>0.469841</td>\n",
       "    </tr>\n",
       "    <tr>\n",
       "      <th>paretoAgg</th>\n",
       "      <td>0.666667</td>\n",
       "    </tr>\n",
       "  </tbody>\n",
       "</table>\n",
       "</div>"
      ],
      "text/plain": [
       "           Kendall's Index\n",
       "schemas           0.311111\n",
       "partition         0.491964\n",
       "storage           0.506033\n",
       "paretoQ           0.469841\n",
       "paretoAgg         0.666667"
      ]
     },
     "execution_count": 2,
     "metadata": {},
     "output_type": "execute_result"
    }
   ],
   "source": [
    "coh.run('100M', '250M')"
   ]
  },
  {
   "cell_type": "code",
   "execution_count": 8,
   "metadata": {},
   "outputs": [
    {
     "data": {
      "image/png": "[encoded data removed]",
      "text/plain": [
       "<Figure size 1584x360 with 2 Axes>"
      ]
     },
     "metadata": {
      "needs_background": "light"
     },
     "output_type": "display_data"
    }
   ],
   "source": [
    "# only takes single dimensions\n",
    "coh.heatMap('100M', \"250M\", dimension='partition')"
   ]
  },
  {
   "cell_type": "code",
   "execution_count": 10,
   "metadata": {},
   "outputs": [
    {
     "data": {
      "image/png": "[encoded data removed]",
      "text/plain": [
       "<Figure size 1584x360 with 2 Axes>"
      ]
     },
     "metadata": {
      "needs_background": "light"
     },
     "output_type": "display_data"
    }
   ],
   "source": [
    "coh.heatMapSubtract('100M', '250M', dimension='partition')"
   ]
  },
  {
   "cell_type": "code",
   "execution_count": 6,
   "metadata": {},
   "outputs": [
    {
     "name": "stdout",
     "output_type": "stream",
     "text": [
      "{'Q8': 0.319, 'Q4': 0.264, 'Q7': 0.119, 'Q2': 0.098, 'Q6': 0.062, 'Q9': 0.043, 'Q5': 0.035, 'Q1': 0.015, 'Q3': 0.015, 'Q10': 0.015, 'Q11': 0.015}\n",
      "0.119\n"
     ]
    }
   ],
   "source": [
    "import ahpy\n",
    "\n",
    "query_comparison = {('Q1', 'Q2'): 1/7, ('Q1', 'Q3'): 1, ('Q1', 'Q4'): 1/9, ('Q1', 'Q5'): 1/3,\n",
    "                    ('Q1', 'Q6'): 1/5, ('Q1', 'Q7'): 1/7, ('Q1', 'Q8'): 1/9, ('Q1', 'Q9'): 1/3, ('Q1', 'Q10'): 1, ('Q1', 'Q11'): 1,\n",
    "                    ('Q2', 'Q3'): 7, ('Q2', 'Q4'): 1/9, ('Q2', 'Q5'): 3,\n",
    "                    ('Q2', 'Q6'): 5, ('Q2', 'Q7'): 1, ('Q2', 'Q8'): 1/9, ('Q2', 'Q9'): 3, ('Q2', 'Q10'): 7, ('Q2', 'Q11'): 7,\n",
    "                    ('Q3', 'Q4'): 1/9, ('Q3', 'Q5'): 1/3,\n",
    "                    ('Q3', 'Q6'): 1/5, ('Q3', 'Q7'): 1/7, ('Q3', 'Q8'): 1/9, ('Q3', 'Q9'): 1/3, ('Q3', 'Q10'): 1, ('Q3', 'Q11'): 1,\n",
    "                    ('Q4', 'Q5'): 3,\n",
    "                    ('Q4', 'Q6'): 5, ('Q4', 'Q7'): 7, ('Q4', 'Q8'): 1, ('Q4', 'Q9'): 3, ('Q4', 'Q10'): 9, ('Q4', 'Q11'): 9,\n",
    "                    ('Q5', 'Q6'): 1/5, ('Q5', 'Q7'): 1/7, ('Q5', 'Q8'): 1/9, ('Q5', 'Q9'): 1, ('Q5', 'Q10'): 3, ('Q5', 'Q11'): 3,\n",
    "                    ('Q6', 'Q7'): 1/7, ('Q6', 'Q8'): 1/9, ('Q6', 'Q9'): 3, ('Q6', 'Q10'): 5, ('Q6', 'Q11'): 5,\n",
    "                    ('Q7', 'Q8'): 1/9, ('Q7', 'Q9'): 3, ('Q7', 'Q10'): 7, ('Q7', 'Q11'): 7,\n",
    "                    ('Q8', 'Q9'): 3, ('Q8', 'Q10'): 9, ('Q8', 'Q11'): 9,\n",
    "                    ('Q9', 'Q10'): 3, ('Q9', 'Q11'): 3,\n",
    "                    ('Q10', 'Q11'): 1,}\n",
    "\n",
    "queries = ahpy.Compare(name='Queries', comparisons=query_comparison, precision=3, random_index='saaty')\n",
    "\n",
    "print(queries.target_weights)\n",
    "\n",
    "print(queries.consistency_ratio)"
   ]
  },
  {
   "cell_type": "code",
   "execution_count": null,
   "metadata": {},
   "outputs": [],
   "source": []
  }
 ],
 "metadata": {
  "kernelspec": {
   "display_name": "Python ('papaya')",
   "language": "python",
   "name": "python3"
  },
  "language_info": {
   "codemirror_mode": {
    "name": "ipython",
    "version": 3
   },
   "file_extension": ".py",
   "mimetype": "text/x-python",
   "name": "python",
   "nbconvert_exporter": "python",
   "pygments_lexer": "ipython3",
   "version": "3.9.12"
  },
  "vscode": {
   "interpreter": {
    "hash": "25a19fbe0a9132dfb9279d48d161753c6352f8f9478c2e74383d340069b907c3"
   }
  }
 },
 "nbformat": 4,
 "nbformat_minor": 2
}
