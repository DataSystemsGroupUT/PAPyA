{
 "cells": [
  {
   "cell_type": "markdown",
   "metadata": {},
   "source": [
    "### This is a library to find the best performing configuration from a set of dimensions (i.e. schemas, partition, storage) which can be specified inside the <b>settings.yaml</b> file in the resource"
   ]
  },
  {
   "cell_type": "markdown",
   "metadata": {},
   "source": [
    "### Load the configuration file and log files location for the experiment"
   ]
  },
  {
   "cell_type": "markdown",
   "metadata": {},
   "source": [
    "<p>Configurations for SP2Bench Data</p>"
   ]
  },
  {
   "cell_type": "code",
   "execution_count": 1,
   "metadata": {},
   "outputs": [],
   "source": [
    "config_sp2bench = \"settings_sp2bench.yaml\" # config file location\n",
    "logs_sp2bench = \"log_twoDimension\" # logs file location"
   ]
  },
  {
   "cell_type": "markdown",
   "metadata": {},
   "source": [
    "#### <u>Configuration file</u> <br>\n",
    "The configuration file is a yaml data-serialization language which has two main parts, the dimensions and the number of query experiments. You can add more dimensions here or change these existing dimensions to anything you need"
   ]
  },
  {
   "cell_type": "markdown",
   "metadata": {},
   "source": [
    "<i>Example :</i> \n",
    "```yaml\n",
    "dimensions:\n",
    "    storage: [\"csv\", \"avro\", \"parquet\", \"orc\"]\n",
    "    schemas: [\"st\", \"vt\", \"pt\"]\n",
    "    \n",
    "\n",
    "query: 11\n",
    "```"
   ]
  },
  {
   "cell_type": "markdown",
   "metadata": {},
   "source": [
    "#### <u>Log file structure</u> <br>\n",
    "the structure of the log files must follow the order of dimensions in the configuration file (i.e. {schemas}.{partition}.{storage}.txt) and the subfolders should be the ranking sets of the experiments (i.e. dataset sizes)"
   ]
  },
  {
   "cell_type": "markdown",
   "metadata": {},
   "source": [
    "<i>Example :</i>\n",
    "```\n",
    "UI Module\n",
    "└───log_twoDimension\n",
    "    │\n",
    "    |───10M\n",
    "    |    │   st.csv.txt\n",
    "    |    │   st.avro.txt\n",
    "    |    │   ...\n",
    "    │\n",
    "    └───100k\n",
    "        |   st.csv.txt\n",
    "        │   st.avro.txt\n",
    "        │   ...\n",
    "```"
   ]
  },
  {
   "cell_type": "markdown",
   "metadata": {},
   "source": [
    "### Single Dimensional Ranking"
   ]
  },
  {
   "cell_type": "markdown",
   "metadata": {},
   "source": [
    "<b>SDRank</b> is a class module from PAPyA library to calculate ranking score _R_ for each dimension independently that operates over a log-based structure that user specified on the configuration file.<br> \n",
    "The value of _R_ represents the performance of a particular configuration (higher value means better performing configuration). We used Ranking Function _R_ below to calculate the rank scores:"
   ]
  },
  {
   "cell_type": "markdown",
   "metadata": {},
   "source": [
    "$$R =\\sum \\limits _{r=1} ^{d} \\frac{O_{dim} * (d-r)}{|Q| * (d-1)}, 0<R<=1$$"
   ]
  },
  {
   "cell_type": "markdown",
   "metadata": {},
   "source": [
    "$d$         : total number of parameters (options) in a particular dimension<br>\n",
    "$O_{dim}$   : number of occurences of the dimension placed at rank $r$ (Rank 1, Rank 2, Rank 3, ...)<br>\n",
    "$|Q|$       : total number of queries"
   ]
  },
  {
   "cell_type": "markdown",
   "metadata": {},
   "source": [
    "### PAPyA.Rank.SDRank"
   ]
  },
  {
   "cell_type": "markdown",
   "metadata": {},
   "source": [
    "#### <i>class</i> Rank.<b>SDRank</b>(<i>config_path, log_path, ranking_sets, dimension</i>)\n",
    "<i>Parameters:</i> <br>\n",
    "&emsp; <b>config_path : str</b><br>\n",
    "&emsp;&emsp;<small>Specify the path to your configuration file(s). <i>i.e ./UIModule/settings_watdiv.yaml</small></i><br>\n",
    "&emsp;<b>log_path : str</b><br>\n",
    "&emsp;&emsp;<small>Specify the path to your log file(s). <i>i.e ./UI Module/log_watdiv</small></i><br>\n",
    "&emsp;<b>ranking_sets : str</b><br>\n",
    "&emsp;&emsp;<small>Ranking sets of user choice. <i>i.e dataset sizes (100M)</small></i><br>\n",
    "&emsp;<b>dimension : str</b><br>\n",
    "&emsp;&emsp;<small>A single dimension to be ranked. <i>i.e schemas</small></i><br>\n"
   ]
  },
  {
   "cell_type": "code",
   "execution_count": 2,
   "metadata": {},
   "outputs": [],
   "source": [
    "# this class takes single dimension and dataset sizes as parameters that user specified inside their log files\n",
    "from Rank import SDRank\n",
    "\n",
    "schemaSDRank_10M = SDRank(config_sp2bench, logs_sp2bench, '10M', 'schemas')\n",
    "schemaSDRank_100K = SDRank(config_sp2bench, logs_sp2bench, '100K', 'schemas')\n",
    "storageSDRank_10M = SDRank(config_sp2bench, logs_sp2bench, '10M', 'storage')\n",
    "storageSDRank_100K = SDRank(config_sp2bench, logs_sp2bench, '100K', 'storage')"
   ]
  },
  {
   "cell_type": "markdown",
   "metadata": {},
   "source": [
    "### Rank.SDRank.calculateRank"
   ]
  },
  {
   "cell_type": "markdown",
   "metadata": {},
   "source": [
    "#### SDRank.<b>calculateRank</b>(<i>*args</i>)\n",
    "<small>The function that automates calculating the rank scores of a single dimension using the Ranking Function above.</small><br><br>\n",
    "<small>Returns a table of configurations which is sorted based on the best performing configuration according to their Ranking Score along with number of occurences of the dimension being placed at the rank _r_ (1st, 2nd, 3rd, ...)</small><br><br>\n",
    "<i>Parameters:</i> <br>\n",
    "&emsp; <b>*args : str or list</b><br>\n",
    "&emsp;&emsp;<small>This method takes an arbitrary number of parameters of strings and lists.<br>\n",
    "&emsp;&emsp;&ensp;str -> slice the table according to string input. <i>i.e. \"predicate\" will slice the table by the <b>predicate</b> partitioning</i><br>\n",
    "&emsp;&emsp;&ensp;list -> remove some queries out of the ranking calculations. <i>i.e [7,8,9] will remove query <b>7, 8,and 9</b> from the calculation</small></i><br>\n"
   ]
  },
  {
   "cell_type": "code",
   "execution_count": 3,
   "metadata": {},
   "outputs": [
    {
     "data": {
      "text/html": [
       "<div>\n",
       "<style scoped>\n",
       "    .dataframe tbody tr th:only-of-type {\n",
       "        vertical-align: middle;\n",
       "    }\n",
       "\n",
       "    .dataframe tbody tr th {\n",
       "        vertical-align: top;\n",
       "    }\n",
       "\n",
       "    .dataframe thead th {\n",
       "        text-align: right;\n",
       "    }\n",
       "</style>\n",
       "<table border=\"1\" class=\"dataframe\">\n",
       "  <thead>\n",
       "    <tr style=\"text-align: right;\">\n",
       "      <th></th>\n",
       "      <th>Rank 1</th>\n",
       "      <th>Rank 2</th>\n",
       "      <th>Rank 3</th>\n",
       "      <th>Result</th>\n",
       "    </tr>\n",
       "  </thead>\n",
       "  <tbody>\n",
       "    <tr>\n",
       "      <th>avro.vt</th>\n",
       "      <td>7.0</td>\n",
       "      <td>3.0</td>\n",
       "      <td>1.0</td>\n",
       "      <td>0.772727</td>\n",
       "    </tr>\n",
       "    <tr>\n",
       "      <th>orc.vt</th>\n",
       "      <td>7.0</td>\n",
       "      <td>2.0</td>\n",
       "      <td>2.0</td>\n",
       "      <td>0.727273</td>\n",
       "    </tr>\n",
       "    <tr>\n",
       "      <th>parquet.vt</th>\n",
       "      <td>6.0</td>\n",
       "      <td>4.0</td>\n",
       "      <td>1.0</td>\n",
       "      <td>0.727273</td>\n",
       "    </tr>\n",
       "    <tr>\n",
       "      <th>csv.vt</th>\n",
       "      <td>4.0</td>\n",
       "      <td>7.0</td>\n",
       "      <td>0.0</td>\n",
       "      <td>0.681818</td>\n",
       "    </tr>\n",
       "    <tr>\n",
       "      <th>csv.pt</th>\n",
       "      <td>6.0</td>\n",
       "      <td>3.0</td>\n",
       "      <td>2.0</td>\n",
       "      <td>0.681818</td>\n",
       "    </tr>\n",
       "    <tr>\n",
       "      <th>parquet.pt</th>\n",
       "      <td>4.0</td>\n",
       "      <td>4.0</td>\n",
       "      <td>3.0</td>\n",
       "      <td>0.545455</td>\n",
       "    </tr>\n",
       "    <tr>\n",
       "      <th>avro.pt</th>\n",
       "      <td>3.0</td>\n",
       "      <td>5.0</td>\n",
       "      <td>3.0</td>\n",
       "      <td>0.500000</td>\n",
       "    </tr>\n",
       "    <tr>\n",
       "      <th>orc.pt</th>\n",
       "      <td>3.0</td>\n",
       "      <td>4.0</td>\n",
       "      <td>4.0</td>\n",
       "      <td>0.454545</td>\n",
       "    </tr>\n",
       "    <tr>\n",
       "      <th>orc.st</th>\n",
       "      <td>1.0</td>\n",
       "      <td>5.0</td>\n",
       "      <td>5.0</td>\n",
       "      <td>0.318182</td>\n",
       "    </tr>\n",
       "    <tr>\n",
       "      <th>avro.st</th>\n",
       "      <td>1.0</td>\n",
       "      <td>3.0</td>\n",
       "      <td>7.0</td>\n",
       "      <td>0.227273</td>\n",
       "    </tr>\n",
       "    <tr>\n",
       "      <th>parquet.st</th>\n",
       "      <td>1.0</td>\n",
       "      <td>3.0</td>\n",
       "      <td>7.0</td>\n",
       "      <td>0.227273</td>\n",
       "    </tr>\n",
       "    <tr>\n",
       "      <th>csv.st</th>\n",
       "      <td>1.0</td>\n",
       "      <td>1.0</td>\n",
       "      <td>9.0</td>\n",
       "      <td>0.136364</td>\n",
       "    </tr>\n",
       "  </tbody>\n",
       "</table>\n",
       "</div>"
      ],
      "text/plain": [
       "            Rank 1  Rank 2  Rank 3    Result\n",
       "avro.vt        7.0     3.0     1.0  0.772727\n",
       "orc.vt         7.0     2.0     2.0  0.727273\n",
       "parquet.vt     6.0     4.0     1.0  0.727273\n",
       "csv.vt         4.0     7.0     0.0  0.681818\n",
       "csv.pt         6.0     3.0     2.0  0.681818\n",
       "parquet.pt     4.0     4.0     3.0  0.545455\n",
       "avro.pt        3.0     5.0     3.0  0.500000\n",
       "orc.pt         3.0     4.0     4.0  0.454545\n",
       "orc.st         1.0     5.0     5.0  0.318182\n",
       "avro.st        1.0     3.0     7.0  0.227273\n",
       "parquet.st     1.0     3.0     7.0  0.227273\n",
       "csv.st         1.0     1.0     9.0  0.136364"
      ]
     },
     "execution_count": 3,
     "metadata": {},
     "output_type": "execute_result"
    }
   ],
   "source": [
    "# single dimension ranking by storage without excluding queries\n",
    "schemaSDRank_10M.calculateRank()"
   ]
  },
  {
   "cell_type": "code",
   "execution_count": 4,
   "metadata": {},
   "outputs": [
    {
     "data": {
      "text/html": [
       "<div>\n",
       "<style scoped>\n",
       "    .dataframe tbody tr th:only-of-type {\n",
       "        vertical-align: middle;\n",
       "    }\n",
       "\n",
       "    .dataframe tbody tr th {\n",
       "        vertical-align: top;\n",
       "    }\n",
       "\n",
       "    .dataframe thead th {\n",
       "        text-align: right;\n",
       "    }\n",
       "</style>\n",
       "<table border=\"1\" class=\"dataframe\">\n",
       "  <thead>\n",
       "    <tr style=\"text-align: right;\">\n",
       "      <th></th>\n",
       "      <th>Rank 1</th>\n",
       "      <th>Rank 2</th>\n",
       "      <th>Rank 3</th>\n",
       "      <th>Result</th>\n",
       "    </tr>\n",
       "  </thead>\n",
       "  <tbody>\n",
       "    <tr>\n",
       "      <th>csv.vt</th>\n",
       "      <td>7.0</td>\n",
       "      <td>3.0</td>\n",
       "      <td>1.0</td>\n",
       "      <td>0.772727</td>\n",
       "    </tr>\n",
       "    <tr>\n",
       "      <th>avro.vt</th>\n",
       "      <td>7.0</td>\n",
       "      <td>3.0</td>\n",
       "      <td>1.0</td>\n",
       "      <td>0.772727</td>\n",
       "    </tr>\n",
       "    <tr>\n",
       "      <th>csv.pt</th>\n",
       "      <td>4.0</td>\n",
       "      <td>5.0</td>\n",
       "      <td>2.0</td>\n",
       "      <td>0.590909</td>\n",
       "    </tr>\n",
       "    <tr>\n",
       "      <th>parquet.vt</th>\n",
       "      <td>4.0</td>\n",
       "      <td>5.0</td>\n",
       "      <td>2.0</td>\n",
       "      <td>0.590909</td>\n",
       "    </tr>\n",
       "    <tr>\n",
       "      <th>orc.pt</th>\n",
       "      <td>6.0</td>\n",
       "      <td>0.0</td>\n",
       "      <td>5.0</td>\n",
       "      <td>0.545455</td>\n",
       "    </tr>\n",
       "    <tr>\n",
       "      <th>orc.vt</th>\n",
       "      <td>2.0</td>\n",
       "      <td>7.0</td>\n",
       "      <td>2.0</td>\n",
       "      <td>0.500000</td>\n",
       "    </tr>\n",
       "    <tr>\n",
       "      <th>parquet.pt</th>\n",
       "      <td>5.0</td>\n",
       "      <td>1.0</td>\n",
       "      <td>5.0</td>\n",
       "      <td>0.500000</td>\n",
       "    </tr>\n",
       "    <tr>\n",
       "      <th>avro.pt</th>\n",
       "      <td>3.0</td>\n",
       "      <td>4.0</td>\n",
       "      <td>4.0</td>\n",
       "      <td>0.454545</td>\n",
       "    </tr>\n",
       "    <tr>\n",
       "      <th>orc.st</th>\n",
       "      <td>3.0</td>\n",
       "      <td>4.0</td>\n",
       "      <td>4.0</td>\n",
       "      <td>0.454545</td>\n",
       "    </tr>\n",
       "    <tr>\n",
       "      <th>parquet.st</th>\n",
       "      <td>2.0</td>\n",
       "      <td>5.0</td>\n",
       "      <td>4.0</td>\n",
       "      <td>0.409091</td>\n",
       "    </tr>\n",
       "    <tr>\n",
       "      <th>avro.st</th>\n",
       "      <td>1.0</td>\n",
       "      <td>4.0</td>\n",
       "      <td>6.0</td>\n",
       "      <td>0.272727</td>\n",
       "    </tr>\n",
       "    <tr>\n",
       "      <th>csv.st</th>\n",
       "      <td>0.0</td>\n",
       "      <td>3.0</td>\n",
       "      <td>8.0</td>\n",
       "      <td>0.136364</td>\n",
       "    </tr>\n",
       "  </tbody>\n",
       "</table>\n",
       "</div>"
      ],
      "text/plain": [
       "            Rank 1  Rank 2  Rank 3    Result\n",
       "csv.vt         7.0     3.0     1.0  0.772727\n",
       "avro.vt        7.0     3.0     1.0  0.772727\n",
       "csv.pt         4.0     5.0     2.0  0.590909\n",
       "parquet.vt     4.0     5.0     2.0  0.590909\n",
       "orc.pt         6.0     0.0     5.0  0.545455\n",
       "orc.vt         2.0     7.0     2.0  0.500000\n",
       "parquet.pt     5.0     1.0     5.0  0.500000\n",
       "avro.pt        3.0     4.0     4.0  0.454545\n",
       "orc.st         3.0     4.0     4.0  0.454545\n",
       "parquet.st     2.0     5.0     4.0  0.409091\n",
       "avro.st        1.0     4.0     6.0  0.272727\n",
       "csv.st         0.0     3.0     8.0  0.136364"
      ]
     },
     "execution_count": 4,
     "metadata": {},
     "output_type": "execute_result"
    }
   ],
   "source": [
    "schemaSDRank_100K.calculateRank()"
   ]
  },
  {
   "cell_type": "code",
   "execution_count": 5,
   "metadata": {},
   "outputs": [
    {
     "data": {
      "text/html": [
       "<div>\n",
       "<style scoped>\n",
       "    .dataframe tbody tr th:only-of-type {\n",
       "        vertical-align: middle;\n",
       "    }\n",
       "\n",
       "    .dataframe tbody tr th {\n",
       "        vertical-align: top;\n",
       "    }\n",
       "\n",
       "    .dataframe thead th {\n",
       "        text-align: right;\n",
       "    }\n",
       "</style>\n",
       "<table border=\"1\" class=\"dataframe\">\n",
       "  <thead>\n",
       "    <tr style=\"text-align: right;\">\n",
       "      <th></th>\n",
       "      <th>Rank 1</th>\n",
       "      <th>Rank 2</th>\n",
       "      <th>Rank 3</th>\n",
       "      <th>Rank 4</th>\n",
       "      <th>Result</th>\n",
       "    </tr>\n",
       "  </thead>\n",
       "  <tbody>\n",
       "    <tr>\n",
       "      <th>orc.st</th>\n",
       "      <td>9.0</td>\n",
       "      <td>2.0</td>\n",
       "      <td>0.0</td>\n",
       "      <td>0.0</td>\n",
       "      <td>0.939394</td>\n",
       "    </tr>\n",
       "    <tr>\n",
       "      <th>parquet.vt</th>\n",
       "      <td>6.0</td>\n",
       "      <td>5.0</td>\n",
       "      <td>0.0</td>\n",
       "      <td>0.0</td>\n",
       "      <td>0.848485</td>\n",
       "    </tr>\n",
       "    <tr>\n",
       "      <th>orc.vt</th>\n",
       "      <td>5.0</td>\n",
       "      <td>6.0</td>\n",
       "      <td>0.0</td>\n",
       "      <td>0.0</td>\n",
       "      <td>0.818182</td>\n",
       "    </tr>\n",
       "    <tr>\n",
       "      <th>parquet.st</th>\n",
       "      <td>2.0</td>\n",
       "      <td>9.0</td>\n",
       "      <td>0.0</td>\n",
       "      <td>0.0</td>\n",
       "      <td>0.727273</td>\n",
       "    </tr>\n",
       "    <tr>\n",
       "      <th>orc.pt</th>\n",
       "      <td>5.0</td>\n",
       "      <td>4.0</td>\n",
       "      <td>0.0</td>\n",
       "      <td>2.0</td>\n",
       "      <td>0.696970</td>\n",
       "    </tr>\n",
       "    <tr>\n",
       "      <th>parquet.pt</th>\n",
       "      <td>4.0</td>\n",
       "      <td>5.0</td>\n",
       "      <td>0.0</td>\n",
       "      <td>2.0</td>\n",
       "      <td>0.666667</td>\n",
       "    </tr>\n",
       "    <tr>\n",
       "      <th>avro.st</th>\n",
       "      <td>0.0</td>\n",
       "      <td>0.0</td>\n",
       "      <td>10.0</td>\n",
       "      <td>1.0</td>\n",
       "      <td>0.303030</td>\n",
       "    </tr>\n",
       "    <tr>\n",
       "      <th>avro.vt</th>\n",
       "      <td>0.0</td>\n",
       "      <td>0.0</td>\n",
       "      <td>10.0</td>\n",
       "      <td>1.0</td>\n",
       "      <td>0.303030</td>\n",
       "    </tr>\n",
       "    <tr>\n",
       "      <th>avro.pt</th>\n",
       "      <td>0.0</td>\n",
       "      <td>0.0</td>\n",
       "      <td>5.0</td>\n",
       "      <td>6.0</td>\n",
       "      <td>0.151515</td>\n",
       "    </tr>\n",
       "    <tr>\n",
       "      <th>csv.pt</th>\n",
       "      <td>0.0</td>\n",
       "      <td>0.0</td>\n",
       "      <td>4.0</td>\n",
       "      <td>7.0</td>\n",
       "      <td>0.121212</td>\n",
       "    </tr>\n",
       "    <tr>\n",
       "      <th>csv.st</th>\n",
       "      <td>0.0</td>\n",
       "      <td>0.0</td>\n",
       "      <td>1.0</td>\n",
       "      <td>10.0</td>\n",
       "      <td>0.030303</td>\n",
       "    </tr>\n",
       "    <tr>\n",
       "      <th>csv.vt</th>\n",
       "      <td>0.0</td>\n",
       "      <td>0.0</td>\n",
       "      <td>1.0</td>\n",
       "      <td>10.0</td>\n",
       "      <td>0.030303</td>\n",
       "    </tr>\n",
       "  </tbody>\n",
       "</table>\n",
       "</div>"
      ],
      "text/plain": [
       "            Rank 1  Rank 2  Rank 3  Rank 4    Result\n",
       "orc.st         9.0     2.0     0.0     0.0  0.939394\n",
       "parquet.vt     6.0     5.0     0.0     0.0  0.848485\n",
       "orc.vt         5.0     6.0     0.0     0.0  0.818182\n",
       "parquet.st     2.0     9.0     0.0     0.0  0.727273\n",
       "orc.pt         5.0     4.0     0.0     2.0  0.696970\n",
       "parquet.pt     4.0     5.0     0.0     2.0  0.666667\n",
       "avro.st        0.0     0.0    10.0     1.0  0.303030\n",
       "avro.vt        0.0     0.0    10.0     1.0  0.303030\n",
       "avro.pt        0.0     0.0     5.0     6.0  0.151515\n",
       "csv.pt         0.0     0.0     4.0     7.0  0.121212\n",
       "csv.st         0.0     0.0     1.0    10.0  0.030303\n",
       "csv.vt         0.0     0.0     1.0    10.0  0.030303"
      ]
     },
     "execution_count": 5,
     "metadata": {},
     "output_type": "execute_result"
    }
   ],
   "source": [
    "storageSDRank_10M.calculateRank()"
   ]
  },
  {
   "cell_type": "code",
   "execution_count": 6,
   "metadata": {},
   "outputs": [
    {
     "data": {
      "text/html": [
       "<div>\n",
       "<style scoped>\n",
       "    .dataframe tbody tr th:only-of-type {\n",
       "        vertical-align: middle;\n",
       "    }\n",
       "\n",
       "    .dataframe tbody tr th {\n",
       "        vertical-align: top;\n",
       "    }\n",
       "\n",
       "    .dataframe thead th {\n",
       "        text-align: right;\n",
       "    }\n",
       "</style>\n",
       "<table border=\"1\" class=\"dataframe\">\n",
       "  <thead>\n",
       "    <tr style=\"text-align: right;\">\n",
       "      <th></th>\n",
       "      <th>Rank 1</th>\n",
       "      <th>Rank 2</th>\n",
       "      <th>Rank 3</th>\n",
       "      <th>Rank 4</th>\n",
       "      <th>Result</th>\n",
       "    </tr>\n",
       "  </thead>\n",
       "  <tbody>\n",
       "    <tr>\n",
       "      <th>orc.st</th>\n",
       "      <td>8.0</td>\n",
       "      <td>2.0</td>\n",
       "      <td>1.0</td>\n",
       "      <td>0.0</td>\n",
       "      <td>0.878788</td>\n",
       "    </tr>\n",
       "    <tr>\n",
       "      <th>parquet.st</th>\n",
       "      <td>3.0</td>\n",
       "      <td>8.0</td>\n",
       "      <td>0.0</td>\n",
       "      <td>0.0</td>\n",
       "      <td>0.757576</td>\n",
       "    </tr>\n",
       "    <tr>\n",
       "      <th>avro.vt</th>\n",
       "      <td>6.0</td>\n",
       "      <td>1.0</td>\n",
       "      <td>1.0</td>\n",
       "      <td>3.0</td>\n",
       "      <td>0.636364</td>\n",
       "    </tr>\n",
       "    <tr>\n",
       "      <th>orc.pt</th>\n",
       "      <td>3.0</td>\n",
       "      <td>5.0</td>\n",
       "      <td>2.0</td>\n",
       "      <td>1.0</td>\n",
       "      <td>0.636364</td>\n",
       "    </tr>\n",
       "    <tr>\n",
       "      <th>parquet.vt</th>\n",
       "      <td>2.0</td>\n",
       "      <td>6.0</td>\n",
       "      <td>2.0</td>\n",
       "      <td>1.0</td>\n",
       "      <td>0.606061</td>\n",
       "    </tr>\n",
       "    <tr>\n",
       "      <th>csv.pt</th>\n",
       "      <td>4.0</td>\n",
       "      <td>3.0</td>\n",
       "      <td>2.0</td>\n",
       "      <td>2.0</td>\n",
       "      <td>0.606061</td>\n",
       "    </tr>\n",
       "    <tr>\n",
       "      <th>parquet.pt</th>\n",
       "      <td>3.0</td>\n",
       "      <td>1.0</td>\n",
       "      <td>6.0</td>\n",
       "      <td>1.0</td>\n",
       "      <td>0.515152</td>\n",
       "    </tr>\n",
       "    <tr>\n",
       "      <th>csv.vt</th>\n",
       "      <td>1.0</td>\n",
       "      <td>4.0</td>\n",
       "      <td>5.0</td>\n",
       "      <td>1.0</td>\n",
       "      <td>0.484848</td>\n",
       "    </tr>\n",
       "    <tr>\n",
       "      <th>avro.st</th>\n",
       "      <td>0.0</td>\n",
       "      <td>0.0</td>\n",
       "      <td>10.0</td>\n",
       "      <td>1.0</td>\n",
       "      <td>0.303030</td>\n",
       "    </tr>\n",
       "    <tr>\n",
       "      <th>orc.vt</th>\n",
       "      <td>2.0</td>\n",
       "      <td>0.0</td>\n",
       "      <td>3.0</td>\n",
       "      <td>6.0</td>\n",
       "      <td>0.272727</td>\n",
       "    </tr>\n",
       "    <tr>\n",
       "      <th>csv.st</th>\n",
       "      <td>0.0</td>\n",
       "      <td>1.0</td>\n",
       "      <td>0.0</td>\n",
       "      <td>10.0</td>\n",
       "      <td>0.060606</td>\n",
       "    </tr>\n",
       "    <tr>\n",
       "      <th>avro.pt</th>\n",
       "      <td>0.0</td>\n",
       "      <td>1.0</td>\n",
       "      <td>0.0</td>\n",
       "      <td>10.0</td>\n",
       "      <td>0.060606</td>\n",
       "    </tr>\n",
       "  </tbody>\n",
       "</table>\n",
       "</div>"
      ],
      "text/plain": [
       "            Rank 1  Rank 2  Rank 3  Rank 4    Result\n",
       "orc.st         8.0     2.0     1.0     0.0  0.878788\n",
       "parquet.st     3.0     8.0     0.0     0.0  0.757576\n",
       "avro.vt        6.0     1.0     1.0     3.0  0.636364\n",
       "orc.pt         3.0     5.0     2.0     1.0  0.636364\n",
       "parquet.vt     2.0     6.0     2.0     1.0  0.606061\n",
       "csv.pt         4.0     3.0     2.0     2.0  0.606061\n",
       "parquet.pt     3.0     1.0     6.0     1.0  0.515152\n",
       "csv.vt         1.0     4.0     5.0     1.0  0.484848\n",
       "avro.st        0.0     0.0    10.0     1.0  0.303030\n",
       "orc.vt         2.0     0.0     3.0     6.0  0.272727\n",
       "csv.st         0.0     1.0     0.0    10.0  0.060606\n",
       "avro.pt        0.0     1.0     0.0    10.0  0.060606"
      ]
     },
     "execution_count": 6,
     "metadata": {},
     "output_type": "execute_result"
    }
   ],
   "source": [
    "# single dimension ranking by storage excluding query 7,8,and 9\n",
    "storageSDRank_100K.calculateRank()"
   ]
  },
  {
   "cell_type": "markdown",
   "metadata": {},
   "source": [
    "### Multi Dimensional Ranking"
   ]
  },
  {
   "cell_type": "markdown",
   "metadata": {},
   "source": [
    "With the presence of the trade-offs introduced in the single dimensional ranking function, we propose an optimization technique that aims to find the non-dominated solutions or the configuration combinations by optimizing all dimensions at the same time which utilize the NSGA2 Algorithm.<br>\n",
    "In this experiment, we provide two ways to use the NSGA2 Algorithm:\n",
    "- The first method is _paretoAgg_ which operates on the single dimensional ranking criteria. This method aims to maximize performance of the three ranks altogether\n",
    "- The second method is _paretoQ_ which apply the algorithm considering the rank sets obtained by sorting each query results individually. This method aims at minimizing query runtimes of the ranked dimensions"
   ]
  },
  {
   "cell_type": "markdown",
   "metadata": {},
   "source": [
    "### PAPyA.Rank.MDRank"
   ]
  },
  {
   "cell_type": "markdown",
   "metadata": {},
   "source": [
    "#### <i>class</i> Rank.<b>MDRank</b>(<i>config_path, log_path, ranking_sets</i>)\n",
    "<i>Parameters:</i> <br>\n",
    "&emsp; <b>config_path : str</b><br>\n",
    "&emsp;&emsp;<small>Specify the path to your configuration file(s). <i>i.e ./UIModule/settings_watdiv.yaml</small></i><br>\n",
    "&emsp;<b>log_path : str</b><br>\n",
    "&emsp;&emsp;<small>Specify the path to your log file(s). <i>i.e ./UI Module/log_watdiv</small></i><br>\n",
    "&emsp;<b>ranking_sets : str</b><br>\n",
    "&emsp;&emsp;<small>Ranking sets of user choice. <i>i.e dataset sizes (100M)</small></i><br>"
   ]
  },
  {
   "cell_type": "code",
   "execution_count": 7,
   "metadata": {},
   "outputs": [],
   "source": [
    "from Rank import MDRank\n",
    "\n",
    "config = 'settings_sp2bench.yaml'\n",
    "log = 'log_twoDimension'\n",
    "\n",
    "# example of MDRank class with 100M dataset size as ranking set of the experiment\n",
    "multiDimensionRank_10M = MDRank(config, log, '10M')\n",
    "multiDimensionRank_100K = MDRank(config, log, \"100K\")"
   ]
  },
  {
   "cell_type": "markdown",
   "metadata": {},
   "source": [
    "### Rank.MDRank.paretoQ"
   ]
  },
  {
   "cell_type": "markdown",
   "metadata": {},
   "source": [
    "#### MDRank.<b>paretoQ</b>(<i>q</i>)\n",
    "<small>This method returns a table of configuration solutions as well as their dominated ones, according to the Non-Dominated Sorting Algorithm II (NSGA2) that was applied to minimizing query runtimes of the ranked dimensions</small><br><br>\n",
    "<i>Parameters:</i> <br>\n",
    "&emsp; <b>q : list</b><br>\n",
    "&emsp;&emsp;<small>remove some queries out of the ranking calculations. <i>i.e [7,8,9] will remove query <b>7, 8,and 9</b> from the calculation</small></i>"
   ]
  },
  {
   "cell_type": "code",
   "execution_count": 8,
   "metadata": {},
   "outputs": [
    {
     "data": {
      "text/html": [
       "<div>\n",
       "<style scoped>\n",
       "    .dataframe tbody tr th:only-of-type {\n",
       "        vertical-align: middle;\n",
       "    }\n",
       "\n",
       "    .dataframe tbody tr th {\n",
       "        vertical-align: top;\n",
       "    }\n",
       "\n",
       "    .dataframe thead th {\n",
       "        text-align: right;\n",
       "    }\n",
       "</style>\n",
       "<table border=\"1\" class=\"dataframe\">\n",
       "  <thead>\n",
       "    <tr style=\"text-align: right;\">\n",
       "      <th></th>\n",
       "      <th>Solution</th>\n",
       "      <th>Dominated</th>\n",
       "    </tr>\n",
       "  </thead>\n",
       "  <tbody>\n",
       "    <tr>\n",
       "      <th>0</th>\n",
       "      <td>orc.vt</td>\n",
       "      <td>avro.vt</td>\n",
       "    </tr>\n",
       "    <tr>\n",
       "      <th>1</th>\n",
       "      <td>parquet.vt</td>\n",
       "      <td>csv.pt</td>\n",
       "    </tr>\n",
       "    <tr>\n",
       "      <th>2</th>\n",
       "      <td>orc.st</td>\n",
       "      <td>csv.vt</td>\n",
       "    </tr>\n",
       "    <tr>\n",
       "      <th>3</th>\n",
       "      <td>parquet.pt</td>\n",
       "      <td>avro.pt</td>\n",
       "    </tr>\n",
       "    <tr>\n",
       "      <th>4</th>\n",
       "      <td>orc.pt</td>\n",
       "      <td>avro.st</td>\n",
       "    </tr>\n",
       "    <tr>\n",
       "      <th>5</th>\n",
       "      <td>parquet.st</td>\n",
       "      <td>csv.st</td>\n",
       "    </tr>\n",
       "  </tbody>\n",
       "</table>\n",
       "</div>"
      ],
      "text/plain": [
       "     Solution Dominated\n",
       "0      orc.vt   avro.vt\n",
       "1  parquet.vt    csv.pt\n",
       "2      orc.st    csv.vt\n",
       "3  parquet.pt   avro.pt\n",
       "4      orc.pt   avro.st\n",
       "5  parquet.st    csv.st"
      ]
     },
     "execution_count": 8,
     "metadata": {},
     "output_type": "execute_result"
    }
   ],
   "source": [
    "multiDimensionRank_10M.paretoQ()"
   ]
  },
  {
   "cell_type": "code",
   "execution_count": 9,
   "metadata": {},
   "outputs": [
    {
     "data": {
      "text/html": [
       "<div>\n",
       "<style scoped>\n",
       "    .dataframe tbody tr th:only-of-type {\n",
       "        vertical-align: middle;\n",
       "    }\n",
       "\n",
       "    .dataframe tbody tr th {\n",
       "        vertical-align: top;\n",
       "    }\n",
       "\n",
       "    .dataframe thead th {\n",
       "        text-align: right;\n",
       "    }\n",
       "</style>\n",
       "<table border=\"1\" class=\"dataframe\">\n",
       "  <thead>\n",
       "    <tr style=\"text-align: right;\">\n",
       "      <th></th>\n",
       "      <th>Solution</th>\n",
       "      <th>Dominated</th>\n",
       "    </tr>\n",
       "  </thead>\n",
       "  <tbody>\n",
       "    <tr>\n",
       "      <th>0</th>\n",
       "      <td>parquet.vt</td>\n",
       "      <td>avro.pt</td>\n",
       "    </tr>\n",
       "    <tr>\n",
       "      <th>1</th>\n",
       "      <td>avro.vt</td>\n",
       "      <td>avro.st</td>\n",
       "    </tr>\n",
       "    <tr>\n",
       "      <th>2</th>\n",
       "      <td>csv.vt</td>\n",
       "      <td>csv.st</td>\n",
       "    </tr>\n",
       "    <tr>\n",
       "      <th>3</th>\n",
       "      <td>csv.pt</td>\n",
       "      <td></td>\n",
       "    </tr>\n",
       "    <tr>\n",
       "      <th>4</th>\n",
       "      <td>orc.st</td>\n",
       "      <td></td>\n",
       "    </tr>\n",
       "    <tr>\n",
       "      <th>5</th>\n",
       "      <td>orc.pt</td>\n",
       "      <td></td>\n",
       "    </tr>\n",
       "    <tr>\n",
       "      <th>6</th>\n",
       "      <td>parquet.st</td>\n",
       "      <td></td>\n",
       "    </tr>\n",
       "    <tr>\n",
       "      <th>7</th>\n",
       "      <td>parquet.pt</td>\n",
       "      <td></td>\n",
       "    </tr>\n",
       "    <tr>\n",
       "      <th>8</th>\n",
       "      <td>orc.vt</td>\n",
       "      <td></td>\n",
       "    </tr>\n",
       "  </tbody>\n",
       "</table>\n",
       "</div>"
      ],
      "text/plain": [
       "     Solution Dominated\n",
       "0  parquet.vt   avro.pt\n",
       "1     avro.vt   avro.st\n",
       "2      csv.vt    csv.st\n",
       "3      csv.pt          \n",
       "4      orc.st          \n",
       "5      orc.pt          \n",
       "6  parquet.st          \n",
       "7  parquet.pt          \n",
       "8      orc.vt          "
      ]
     },
     "execution_count": 9,
     "metadata": {},
     "output_type": "execute_result"
    }
   ],
   "source": [
    "multiDimensionRank_100K.paretoQ()"
   ]
  },
  {
   "cell_type": "code",
   "execution_count": 10,
   "metadata": {},
   "outputs": [
    {
     "data": {
      "text/html": [
       "<div>\n",
       "<style scoped>\n",
       "    .dataframe tbody tr th:only-of-type {\n",
       "        vertical-align: middle;\n",
       "    }\n",
       "\n",
       "    .dataframe tbody tr th {\n",
       "        vertical-align: top;\n",
       "    }\n",
       "\n",
       "    .dataframe thead th {\n",
       "        text-align: right;\n",
       "    }\n",
       "</style>\n",
       "<table border=\"1\" class=\"dataframe\">\n",
       "  <thead>\n",
       "    <tr style=\"text-align: right;\">\n",
       "      <th></th>\n",
       "      <th>Solution</th>\n",
       "      <th>Dominated</th>\n",
       "    </tr>\n",
       "  </thead>\n",
       "  <tbody>\n",
       "    <tr>\n",
       "      <th>0</th>\n",
       "      <td>avro.vt</td>\n",
       "      <td>avro.st</td>\n",
       "    </tr>\n",
       "    <tr>\n",
       "      <th>1</th>\n",
       "      <td>orc.st</td>\n",
       "      <td>avro.pt</td>\n",
       "    </tr>\n",
       "    <tr>\n",
       "      <th>2</th>\n",
       "      <td>parquet.vt</td>\n",
       "      <td>csv.st</td>\n",
       "    </tr>\n",
       "    <tr>\n",
       "      <th>3</th>\n",
       "      <td>parquet.st</td>\n",
       "      <td></td>\n",
       "    </tr>\n",
       "    <tr>\n",
       "      <th>4</th>\n",
       "      <td>csv.vt</td>\n",
       "      <td></td>\n",
       "    </tr>\n",
       "    <tr>\n",
       "      <th>5</th>\n",
       "      <td>csv.pt</td>\n",
       "      <td></td>\n",
       "    </tr>\n",
       "    <tr>\n",
       "      <th>6</th>\n",
       "      <td>orc.vt</td>\n",
       "      <td></td>\n",
       "    </tr>\n",
       "    <tr>\n",
       "      <th>7</th>\n",
       "      <td>orc.pt</td>\n",
       "      <td></td>\n",
       "    </tr>\n",
       "    <tr>\n",
       "      <th>8</th>\n",
       "      <td>parquet.pt</td>\n",
       "      <td></td>\n",
       "    </tr>\n",
       "  </tbody>\n",
       "</table>\n",
       "</div>"
      ],
      "text/plain": [
       "     Solution Dominated\n",
       "0     avro.vt   avro.st\n",
       "1      orc.st   avro.pt\n",
       "2  parquet.vt    csv.st\n",
       "3  parquet.st          \n",
       "4      csv.vt          \n",
       "5      csv.pt          \n",
       "6      orc.vt          \n",
       "7      orc.pt          \n",
       "8  parquet.pt          "
      ]
     },
     "execution_count": 10,
     "metadata": {},
     "output_type": "execute_result"
    }
   ],
   "source": [
    "multiDimensionRank_100K.paretoQ([1,2,3])"
   ]
  },
  {
   "cell_type": "markdown",
   "metadata": {},
   "source": [
    "### Rank.MDRank.paretoAgg"
   ]
  },
  {
   "cell_type": "markdown",
   "metadata": {},
   "source": [
    "#### MDRank.<b>paretoAgg</b>(<i>q</i>)\n",
    "<small>This method returns a table of configuration solutions as well as their dominated ones, according to the Non-Dominated Sorting Algorithm II (NSGA2) that was applied on the single dimensional ranking criteria which maximizes the performance of all ranking sets altogether</small><br><br>\n",
    "<i>Parameters:</i> <br>\n",
    "&emsp; <b>q : list</b><br>\n",
    "&emsp;&emsp;<small>remove some queries out of the ranking calculations. <i>i.e [7,8,9] will remove query <b>7, 8,and 9</b> from the calculation</small></i>"
   ]
  },
  {
   "cell_type": "code",
   "execution_count": 11,
   "metadata": {},
   "outputs": [
    {
     "data": {
      "text/html": [
       "<div>\n",
       "<style scoped>\n",
       "    .dataframe tbody tr th:only-of-type {\n",
       "        vertical-align: middle;\n",
       "    }\n",
       "\n",
       "    .dataframe tbody tr th {\n",
       "        vertical-align: top;\n",
       "    }\n",
       "\n",
       "    .dataframe thead th {\n",
       "        text-align: right;\n",
       "    }\n",
       "</style>\n",
       "<table border=\"1\" class=\"dataframe\">\n",
       "  <thead>\n",
       "    <tr style=\"text-align: right;\">\n",
       "      <th></th>\n",
       "      <th>Solution</th>\n",
       "      <th>Dominated</th>\n",
       "    </tr>\n",
       "  </thead>\n",
       "  <tbody>\n",
       "    <tr>\n",
       "      <th>0</th>\n",
       "      <td>parquet.vt</td>\n",
       "      <td>orc.vt</td>\n",
       "    </tr>\n",
       "    <tr>\n",
       "      <th>1</th>\n",
       "      <td>orc.st</td>\n",
       "      <td>parquet.pt</td>\n",
       "    </tr>\n",
       "    <tr>\n",
       "      <th>2</th>\n",
       "      <td>avro.vt</td>\n",
       "      <td>orc.pt</td>\n",
       "    </tr>\n",
       "    <tr>\n",
       "      <th>3</th>\n",
       "      <td></td>\n",
       "      <td>parquet.st</td>\n",
       "    </tr>\n",
       "    <tr>\n",
       "      <th>4</th>\n",
       "      <td></td>\n",
       "      <td>csv.pt</td>\n",
       "    </tr>\n",
       "    <tr>\n",
       "      <th>5</th>\n",
       "      <td></td>\n",
       "      <td>csv.vt</td>\n",
       "    </tr>\n",
       "    <tr>\n",
       "      <th>6</th>\n",
       "      <td></td>\n",
       "      <td>avro.pt</td>\n",
       "    </tr>\n",
       "    <tr>\n",
       "      <th>7</th>\n",
       "      <td></td>\n",
       "      <td>avro.st</td>\n",
       "    </tr>\n",
       "    <tr>\n",
       "      <th>8</th>\n",
       "      <td></td>\n",
       "      <td>csv.st</td>\n",
       "    </tr>\n",
       "  </tbody>\n",
       "</table>\n",
       "</div>"
      ],
      "text/plain": [
       "     Solution   Dominated\n",
       "0  parquet.vt      orc.vt\n",
       "1      orc.st  parquet.pt\n",
       "2     avro.vt      orc.pt\n",
       "3              parquet.st\n",
       "4                  csv.pt\n",
       "5                  csv.vt\n",
       "6                 avro.pt\n",
       "7                 avro.st\n",
       "8                  csv.st"
      ]
     },
     "execution_count": 11,
     "metadata": {},
     "output_type": "execute_result"
    }
   ],
   "source": [
    "multiDimensionRank_10M.paretoAgg()"
   ]
  },
  {
   "cell_type": "code",
   "execution_count": 12,
   "metadata": {},
   "outputs": [
    {
     "data": {
      "text/html": [
       "<div>\n",
       "<style scoped>\n",
       "    .dataframe tbody tr th:only-of-type {\n",
       "        vertical-align: middle;\n",
       "    }\n",
       "\n",
       "    .dataframe tbody tr th {\n",
       "        vertical-align: top;\n",
       "    }\n",
       "\n",
       "    .dataframe thead th {\n",
       "        text-align: right;\n",
       "    }\n",
       "</style>\n",
       "<table border=\"1\" class=\"dataframe\">\n",
       "  <thead>\n",
       "    <tr style=\"text-align: right;\">\n",
       "      <th></th>\n",
       "      <th>Solution</th>\n",
       "      <th>Dominated</th>\n",
       "    </tr>\n",
       "  </thead>\n",
       "  <tbody>\n",
       "    <tr>\n",
       "      <th>0</th>\n",
       "      <td>avro.vt</td>\n",
       "      <td>csv.vt</td>\n",
       "    </tr>\n",
       "    <tr>\n",
       "      <th>1</th>\n",
       "      <td>orc.st</td>\n",
       "      <td>csv.pt</td>\n",
       "    </tr>\n",
       "    <tr>\n",
       "      <th>2</th>\n",
       "      <td></td>\n",
       "      <td>orc.pt</td>\n",
       "    </tr>\n",
       "    <tr>\n",
       "      <th>3</th>\n",
       "      <td></td>\n",
       "      <td>parquet.st</td>\n",
       "    </tr>\n",
       "    <tr>\n",
       "      <th>4</th>\n",
       "      <td></td>\n",
       "      <td>parquet.pt</td>\n",
       "    </tr>\n",
       "    <tr>\n",
       "      <th>5</th>\n",
       "      <td></td>\n",
       "      <td>orc.vt</td>\n",
       "    </tr>\n",
       "    <tr>\n",
       "      <th>6</th>\n",
       "      <td></td>\n",
       "      <td>avro.st</td>\n",
       "    </tr>\n",
       "    <tr>\n",
       "      <th>7</th>\n",
       "      <td></td>\n",
       "      <td>avro.pt</td>\n",
       "    </tr>\n",
       "    <tr>\n",
       "      <th>8</th>\n",
       "      <td></td>\n",
       "      <td>csv.st</td>\n",
       "    </tr>\n",
       "  </tbody>\n",
       "</table>\n",
       "</div>"
      ],
      "text/plain": [
       "  Solution   Dominated\n",
       "0  avro.vt      csv.vt\n",
       "1   orc.st      csv.pt\n",
       "2               orc.pt\n",
       "3           parquet.st\n",
       "4           parquet.pt\n",
       "5               orc.vt\n",
       "6              avro.st\n",
       "7              avro.pt\n",
       "8               csv.st"
      ]
     },
     "execution_count": 12,
     "metadata": {},
     "output_type": "execute_result"
    }
   ],
   "source": [
    "multiDimensionRank_100K.paretoAgg()"
   ]
  },
  {
   "cell_type": "markdown",
   "metadata": {},
   "source": [
    "### Ranking Criteria Validation"
   ]
  },
  {
   "cell_type": "markdown",
   "metadata": {},
   "source": [
    "This library provides two metrics of evaluation to evaluate the goodness of the ranking criteria the _conformance_ and _coherence_\n",
    "\n",
    "- Conformance measures the adherence of the top-ranked configurations according to the actual query positioning of thoses configurations. We calculate conformance according to the equation below:"
   ]
  },
  {
   "cell_type": "markdown",
   "metadata": {},
   "source": [
    "$$A(R^k) = 1 - \\sum \\limits _{i=0} ^{|Q|} \\sum \\limits _{j=0} ^{k} \\frac {\\bar{A}(i,j)}{|Q|*k}$$"
   ]
  },
  {
   "cell_type": "markdown",
   "metadata": {},
   "source": [
    "Consider $R_{s}$ ranking and the top-3 ranked configurations are ${c_{1},c_{2},c_{3}}$, that overlaps only with the bottom-3 ranked configuration in query $|Q|$. That is, ${c_{4},c_{2},c_{5}}$. For example, $c_{2}$ is in the $59^{th}$ position out of 60 positions. <br>\n",
    "Thus, $A(R^k) = 1- \\frac {1}{(11*3)}$, when $k = 3$ and $|Q| = 11$"
   ]
  },
  {
   "cell_type": "markdown",
   "metadata": {},
   "source": [
    "- Coherence is the measure agreement between two ranking sets that uses the same ranking criteria accross different experiments. We used Kendall's Index to calculate coherence, which counts the number of dis(agreements) between two ranking sets"
   ]
  },
  {
   "cell_type": "markdown",
   "metadata": {},
   "source": [
    "$$K(R_{1}, R_{2}) = \\sum \\limits _{{i,j} \\epsilon P} ^{} \\frac {\\bar{K}_{i,j}(R_{1}, R_{2})}{|P|}$$"
   ]
  },
  {
   "cell_type": "markdown",
   "metadata": {},
   "source": [
    "In this experiment, we assume that rank sets are the dataset sizes (i.e. 100M and 250M). Kendall’s distance between two rank sets $R_{1}$ and $R_{2}$, where $|P|$ represents the set of unique pairs of distinct elements in the two sets. For instance, the $K$ index between $R_{1}={c_{1},c_{2},c_{3}}$ and $R_{2}={c_{1},c_{2},c_{4}}$ for 100M and 250M is 0.33, i.e., one disagreement out of three pair comparisons."
   ]
  },
  {
   "cell_type": "markdown",
   "metadata": {},
   "source": [
    "### PAPyA.Ranker.Conformance"
   ]
  },
  {
   "cell_type": "markdown",
   "metadata": {},
   "source": [
    "#### <i>class</i> Ranker.<b>Conformance</b>(<i>config_path, log_path, ranking_sets, conformance_set, k, h</i>)\n",
    "<i>Parameters:</i> <br>\n",
    "&emsp; <b>config_path : str</b><br>\n",
    "&emsp;&emsp;<small>Specify the path to your configuration file(s). <i>i.e ./UIModule/settings_watdiv.yaml</small></i><br>\n",
    "&emsp;<b>log_path : str</b><br>\n",
    "&emsp;&emsp;<small>Specify the path to your log file(s). <i>i.e ./UI Module/log_watdiv</small></i><br>\n",
    "&emsp;<b>ranking_sets : str</b><br>\n",
    "&emsp;&emsp;<small>Ranking sets of user choice. <i>i.e dataset sizes (100M)</small></i><br>\n",
    "&emsp;<b>conformance_set : list</b><br>\n",
    "&emsp;&emsp;<small>List of ranking criterions to see the scores of their conformances.</small><br>\n",
    "&emsp;<b>k : int</b><br>\n",
    "&emsp;&emsp;<small>Value of the top k subset of the ranking criteria. <i>i.e. _k_ = 5, takes the top 5 value of each ranking criteria in the conformance set</small></i><br>\n",
    "&emsp;<b>h : int</b><br>\n",
    "&emsp;&emsp;<small>Value of the threshold that will be counted for the conformance score. <i>i.e. _h_ = 28, take queries that has a ranking below 28 out of all the configuration</small></i><br>"
   ]
  },
  {
   "cell_type": "code",
   "execution_count": 13,
   "metadata": {},
   "outputs": [],
   "source": [
    "from Ranker import Conformance\n",
    "\n",
    "conformance_set = ['schemas', 'storage', 'paretoQ', 'paretoAgg']\n",
    "conf_10M = Conformance(config_sp2bench, logs_sp2bench, '10M', conformance_set, 2, 7)\n",
    "conf_100K = Conformance(config_sp2bench, logs_sp2bench, '100K', conformance_set, 2, 7)"
   ]
  },
  {
   "cell_type": "markdown",
   "metadata": {},
   "source": [
    "### Ranker.Conformance.run"
   ]
  },
  {
   "cell_type": "markdown",
   "metadata": {},
   "source": [
    "#### Conformance.<b>run</b>()\n",
    "<small>This method returns a table of conformance scores for each of the ranking criterion that user specify in the conformance_set along with the k and h values for the formula</small>"
   ]
  },
  {
   "cell_type": "code",
   "execution_count": 14,
   "metadata": {},
   "outputs": [
    {
     "data": {
      "text/html": [
       "<div>\n",
       "<style scoped>\n",
       "    .dataframe tbody tr th:only-of-type {\n",
       "        vertical-align: middle;\n",
       "    }\n",
       "\n",
       "    .dataframe tbody tr th {\n",
       "        vertical-align: top;\n",
       "    }\n",
       "\n",
       "    .dataframe thead th {\n",
       "        text-align: right;\n",
       "    }\n",
       "</style>\n",
       "<table border=\"1\" class=\"dataframe\">\n",
       "  <thead>\n",
       "    <tr style=\"text-align: right;\">\n",
       "      <th></th>\n",
       "      <th>10M</th>\n",
       "    </tr>\n",
       "  </thead>\n",
       "  <tbody>\n",
       "    <tr>\n",
       "      <th>schemas</th>\n",
       "      <td>0.818182</td>\n",
       "    </tr>\n",
       "    <tr>\n",
       "      <th>storage</th>\n",
       "      <td>0.954545</td>\n",
       "    </tr>\n",
       "    <tr>\n",
       "      <th>paretoQ</th>\n",
       "      <td>1.000000</td>\n",
       "    </tr>\n",
       "    <tr>\n",
       "      <th>paretoAgg</th>\n",
       "      <td>0.954545</td>\n",
       "    </tr>\n",
       "  </tbody>\n",
       "</table>\n",
       "</div>"
      ],
      "text/plain": [
       "                10M\n",
       "schemas    0.818182\n",
       "storage    0.954545\n",
       "paretoQ    1.000000\n",
       "paretoAgg  0.954545"
      ]
     },
     "execution_count": 14,
     "metadata": {},
     "output_type": "execute_result"
    }
   ],
   "source": [
    "#conformance scores for all ranking criterions in 250M dataset size\n",
    "conf_10M.run()"
   ]
  },
  {
   "cell_type": "code",
   "execution_count": 15,
   "metadata": {},
   "outputs": [
    {
     "data": {
      "text/html": [
       "<div>\n",
       "<style scoped>\n",
       "    .dataframe tbody tr th:only-of-type {\n",
       "        vertical-align: middle;\n",
       "    }\n",
       "\n",
       "    .dataframe tbody tr th {\n",
       "        vertical-align: top;\n",
       "    }\n",
       "\n",
       "    .dataframe thead th {\n",
       "        text-align: right;\n",
       "    }\n",
       "</style>\n",
       "<table border=\"1\" class=\"dataframe\">\n",
       "  <thead>\n",
       "    <tr style=\"text-align: right;\">\n",
       "      <th></th>\n",
       "      <th>100K</th>\n",
       "    </tr>\n",
       "  </thead>\n",
       "  <tbody>\n",
       "    <tr>\n",
       "      <th>schemas</th>\n",
       "      <td>0.818182</td>\n",
       "    </tr>\n",
       "    <tr>\n",
       "      <th>storage</th>\n",
       "      <td>0.681818</td>\n",
       "    </tr>\n",
       "    <tr>\n",
       "      <th>paretoQ</th>\n",
       "      <td>0.772727</td>\n",
       "    </tr>\n",
       "    <tr>\n",
       "      <th>paretoAgg</th>\n",
       "      <td>0.727273</td>\n",
       "    </tr>\n",
       "  </tbody>\n",
       "</table>\n",
       "</div>"
      ],
      "text/plain": [
       "               100K\n",
       "schemas    0.818182\n",
       "storage    0.681818\n",
       "paretoQ    0.772727\n",
       "paretoAgg  0.727273"
      ]
     },
     "execution_count": 15,
     "metadata": {},
     "output_type": "execute_result"
    }
   ],
   "source": [
    "conf_100K.run()"
   ]
  },
  {
   "cell_type": "markdown",
   "metadata": {},
   "source": [
    "#### Conformance.<b>plot</b>(_mode_)\n",
    "<small>This method returns a table of conformance scores for each of the ranking criterion that user specify in the conformance_set along with the k and h values for the formula</small><br><br>\n",
    "<i>Parameters:</i> <br>\n",
    "&emsp; <b>mode : 1/0</b><br>\n",
    "&emsp;&emsp;<small>plot the results of conformance score, mode 0 is for global plotting while mode 1 takes the k highest configuration on each dimension to plot</small>"
   ]
  },
  {
   "cell_type": "code",
   "execution_count": 16,
   "metadata": {},
   "outputs": [
    {
     "name": "stdout",
     "output_type": "stream",
     "text": [
      "[0.6363636363636364, 1.0] [0.36363636363636365, 0.0]\n"
     ]
    },
    {
     "data": {
      "image/png": "[encoded data removed]",
      "text/plain": [
       "<Figure size 432x288 with 1 Axes>"
      ]
     },
     "metadata": {
      "needs_background": "light"
     },
     "output_type": "display_data"
    },
    {
     "name": "stdout",
     "output_type": "stream",
     "text": [
      "[0.9090909090909091, 1.0] [0.09090909090909094, 0.0]\n"
     ]
    },
    {
     "data": {
      "image/png": "[encoded data removed]",
      "text/plain": [
       "<Figure size 432x288 with 1 Axes>"
      ]
     },
     "metadata": {
      "needs_background": "light"
     },
     "output_type": "display_data"
    },
    {
     "name": "stdout",
     "output_type": "stream",
     "text": [
      "[1.0, 1.0] [0.0, 0.0]\n"
     ]
    },
    {
     "data": {
      "image/png": "[encoded data removed]",
      "text/plain": [
       "<Figure size 432x288 with 1 Axes>"
      ]
     },
     "metadata": {
      "needs_background": "light"
     },
     "output_type": "display_data"
    },
    {
     "name": "stdout",
     "output_type": "stream",
     "text": [
      "[1.0, 0.9090909090909091] [0.0, 0.09090909090909094]\n"
     ]
    },
    {
     "data": {
      "image/png": "[encoded data removed]",
      "text/plain": [
       "<Figure size 432x288 with 1 Axes>"
      ]
     },
     "metadata": {
      "needs_background": "light"
     },
     "output_type": "display_data"
    },
    {
     "data": {
      "image/png": "[encoded data removed]",
      "text/plain": [
       "<Figure size 720x432 with 1 Axes>"
      ]
     },
     "metadata": {},
     "output_type": "display_data"
    }
   ],
   "source": [
    "conf_10M.plot(1)\n",
    "conf_10M.plot(0)"
   ]
  },
  {
   "cell_type": "markdown",
   "metadata": {},
   "source": [
    "### Ranker.Conformance.configurationQueryRanks"
   ]
  },
  {
   "cell_type": "markdown",
   "metadata": {},
   "source": [
    "#### Conformance.<b>configurationQueryRanks</b>(<i>dimension, mode</i>)\n",
    "<small>This method returns a criteria table of a choosen ranking dimension, criteria table is a table that shows rank values of each queries by the top-k configurations</small><br><br>\n",
    "<i>Parameters:</i> <br>\n",
    "&emsp; <b>dimension : str</b><br>\n",
    "&emsp;&emsp;<small>user's choosen dimension to view the criteria table</small><br><br>\n",
    "&emsp; <b>mode : 0 (default) or 1</b><br>\n",
    "&emsp;&emsp;<small>'0' show criteria table by their value</small><br>\n",
    "&emsp;&emsp;<small>'1' show criteria table with true and false of h value (true, if h value is higher than h)</small>\n"
   ]
  },
  {
   "cell_type": "code",
   "execution_count": 18,
   "metadata": {},
   "outputs": [
    {
     "data": {
      "text/html": [
       "<style type=\"text/css\">\n",
       "#T_f6c9f_row0_col0, #T_f6c9f_row0_col1, #T_f6c9f_row0_col2, #T_f6c9f_row0_col3, #T_f6c9f_row0_col4, #T_f6c9f_row0_col5, #T_f6c9f_row0_col6, #T_f6c9f_row0_col7, #T_f6c9f_row0_col8, #T_f6c9f_row0_col9, #T_f6c9f_row0_col10, #T_f6c9f_row1_col1, #T_f6c9f_row1_col2, #T_f6c9f_row1_col4, #T_f6c9f_row1_col6, #T_f6c9f_row1_col8, #T_f6c9f_row1_col9, #T_f6c9f_row1_col10 {\n",
       "  color: green;\n",
       "}\n",
       "#T_f6c9f_row1_col0, #T_f6c9f_row1_col3, #T_f6c9f_row1_col5, #T_f6c9f_row1_col7 {\n",
       "  color: red;\n",
       "}\n",
       "</style>\n",
       "<table id=\"T_f6c9f\">\n",
       "  <thead>\n",
       "    <tr>\n",
       "      <th class=\"blank level0\" >&nbsp;</th>\n",
       "      <th id=\"T_f6c9f_level0_col0\" class=\"col_heading level0 col0\" >1</th>\n",
       "      <th id=\"T_f6c9f_level0_col1\" class=\"col_heading level0 col1\" >2</th>\n",
       "      <th id=\"T_f6c9f_level0_col2\" class=\"col_heading level0 col2\" >3</th>\n",
       "      <th id=\"T_f6c9f_level0_col3\" class=\"col_heading level0 col3\" >4</th>\n",
       "      <th id=\"T_f6c9f_level0_col4\" class=\"col_heading level0 col4\" >5</th>\n",
       "      <th id=\"T_f6c9f_level0_col5\" class=\"col_heading level0 col5\" >6</th>\n",
       "      <th id=\"T_f6c9f_level0_col6\" class=\"col_heading level0 col6\" >7</th>\n",
       "      <th id=\"T_f6c9f_level0_col7\" class=\"col_heading level0 col7\" >8</th>\n",
       "      <th id=\"T_f6c9f_level0_col8\" class=\"col_heading level0 col8\" >9</th>\n",
       "      <th id=\"T_f6c9f_level0_col9\" class=\"col_heading level0 col9\" >10</th>\n",
       "      <th id=\"T_f6c9f_level0_col10\" class=\"col_heading level0 col10\" >11</th>\n",
       "    </tr>\n",
       "  </thead>\n",
       "  <tbody>\n",
       "    <tr>\n",
       "      <th id=\"T_f6c9f_level0_row0\" class=\"row_heading level0 row0\" >orc.vt</th>\n",
       "      <td id=\"T_f6c9f_row0_col0\" class=\"data row0 col0\" >False</td>\n",
       "      <td id=\"T_f6c9f_row0_col1\" class=\"data row0 col1\" >False</td>\n",
       "      <td id=\"T_f6c9f_row0_col2\" class=\"data row0 col2\" >False</td>\n",
       "      <td id=\"T_f6c9f_row0_col3\" class=\"data row0 col3\" >False</td>\n",
       "      <td id=\"T_f6c9f_row0_col4\" class=\"data row0 col4\" >False</td>\n",
       "      <td id=\"T_f6c9f_row0_col5\" class=\"data row0 col5\" >False</td>\n",
       "      <td id=\"T_f6c9f_row0_col6\" class=\"data row0 col6\" >False</td>\n",
       "      <td id=\"T_f6c9f_row0_col7\" class=\"data row0 col7\" >False</td>\n",
       "      <td id=\"T_f6c9f_row0_col8\" class=\"data row0 col8\" >False</td>\n",
       "      <td id=\"T_f6c9f_row0_col9\" class=\"data row0 col9\" >False</td>\n",
       "      <td id=\"T_f6c9f_row0_col10\" class=\"data row0 col10\" >False</td>\n",
       "    </tr>\n",
       "    <tr>\n",
       "      <th id=\"T_f6c9f_level0_row1\" class=\"row_heading level0 row1\" >avro.vt</th>\n",
       "      <td id=\"T_f6c9f_row1_col0\" class=\"data row1 col0\" >True</td>\n",
       "      <td id=\"T_f6c9f_row1_col1\" class=\"data row1 col1\" >False</td>\n",
       "      <td id=\"T_f6c9f_row1_col2\" class=\"data row1 col2\" >False</td>\n",
       "      <td id=\"T_f6c9f_row1_col3\" class=\"data row1 col3\" >True</td>\n",
       "      <td id=\"T_f6c9f_row1_col4\" class=\"data row1 col4\" >False</td>\n",
       "      <td id=\"T_f6c9f_row1_col5\" class=\"data row1 col5\" >True</td>\n",
       "      <td id=\"T_f6c9f_row1_col6\" class=\"data row1 col6\" >False</td>\n",
       "      <td id=\"T_f6c9f_row1_col7\" class=\"data row1 col7\" >True</td>\n",
       "      <td id=\"T_f6c9f_row1_col8\" class=\"data row1 col8\" >False</td>\n",
       "      <td id=\"T_f6c9f_row1_col9\" class=\"data row1 col9\" >False</td>\n",
       "      <td id=\"T_f6c9f_row1_col10\" class=\"data row1 col10\" >False</td>\n",
       "    </tr>\n",
       "  </tbody>\n",
       "</table>\n"
      ],
      "text/plain": [
       "<pandas.io.formats.style.Styler at 0x1a0c3a19cc0>"
      ]
     },
     "execution_count": 18,
     "metadata": {},
     "output_type": "execute_result"
    }
   ],
   "source": [
    "conf_10M.configurationQueryRanks(dimension = 'schemas', mode = 1)"
   ]
  },
  {
   "cell_type": "code",
   "execution_count": 19,
   "metadata": {},
   "outputs": [
    {
     "data": {
      "text/html": [
       "<div>\n",
       "<style scoped>\n",
       "    .dataframe tbody tr th:only-of-type {\n",
       "        vertical-align: middle;\n",
       "    }\n",
       "\n",
       "    .dataframe tbody tr th {\n",
       "        vertical-align: top;\n",
       "    }\n",
       "\n",
       "    .dataframe thead th {\n",
       "        text-align: right;\n",
       "    }\n",
       "</style>\n",
       "<table border=\"1\" class=\"dataframe\">\n",
       "  <thead>\n",
       "    <tr style=\"text-align: right;\">\n",
       "      <th></th>\n",
       "      <th>1</th>\n",
       "      <th>2</th>\n",
       "      <th>3</th>\n",
       "      <th>4</th>\n",
       "      <th>5</th>\n",
       "      <th>6</th>\n",
       "      <th>7</th>\n",
       "      <th>8</th>\n",
       "      <th>9</th>\n",
       "      <th>10</th>\n",
       "      <th>11</th>\n",
       "    </tr>\n",
       "  </thead>\n",
       "  <tbody>\n",
       "    <tr>\n",
       "      <th>avro.vt</th>\n",
       "      <td>9</td>\n",
       "      <td>6</td>\n",
       "      <td>5</td>\n",
       "      <td>11</td>\n",
       "      <td>5</td>\n",
       "      <td>8</td>\n",
       "      <td>5</td>\n",
       "      <td>9</td>\n",
       "      <td>5</td>\n",
       "      <td>3</td>\n",
       "      <td>7</td>\n",
       "    </tr>\n",
       "    <tr>\n",
       "      <th>orc.vt</th>\n",
       "      <td>4</td>\n",
       "      <td>2</td>\n",
       "      <td>1</td>\n",
       "      <td>5</td>\n",
       "      <td>1</td>\n",
       "      <td>4</td>\n",
       "      <td>2</td>\n",
       "      <td>2</td>\n",
       "      <td>2</td>\n",
       "      <td>2</td>\n",
       "      <td>5</td>\n",
       "    </tr>\n",
       "  </tbody>\n",
       "</table>\n",
       "</div>"
      ],
      "text/plain": [
       "         1   2   3   4   5   6   7   8   9   10  11\n",
       "avro.vt   9   6   5  11   5   8   5   9   5   3   7\n",
       "orc.vt    4   2   1   5   1   4   2   2   2   2   5"
      ]
     },
     "execution_count": 19,
     "metadata": {},
     "output_type": "execute_result"
    }
   ],
   "source": [
    "conf_10M.configurationQueryRanks(dimension = 'schemas', mode = 0)"
   ]
  },
  {
   "cell_type": "markdown",
   "metadata": {},
   "source": [
    "### PAPyA.Ranker.Coherence"
   ]
  },
  {
   "cell_type": "markdown",
   "metadata": {},
   "source": [
    "#### <i>class</i> Ranker.<b>Coherence</b>(<i>config_path, log_path, conformance_set</i>)\n",
    "<i>Parameters:</i> <br>\n",
    "&emsp; <b>config_path : str</b><br>\n",
    "&emsp;&emsp;<small>Specify the path to your configuration file(s). <i>i.e ./UIModule/settings_watdiv.yaml</small></i><br>\n",
    "&emsp;<b>log_path : str</b><br>\n",
    "&emsp;&emsp;<small>Specify the path to your log file(s). <i>i.e ./UI Module/log_watdiv</small></i><br>\n",
    "&emsp;<b>conformance_set : list</b><br>\n",
    "&emsp;&emsp;<small>List of ranking criterions to see their kendall index's scores between ranking sets (i.e. dataset sizes).</small><br>"
   ]
  },
  {
   "cell_type": "code",
   "execution_count": 20,
   "metadata": {},
   "outputs": [],
   "source": [
    "from Ranker import Coherence\n",
    "\n",
    "coherence_set = ['schemas', 'storage', 'paretoQ', 'paretoAgg']\n",
    "coh = Coherence(config_sp2bench, logs_sp2bench,coherence_set)"
   ]
  },
  {
   "cell_type": "markdown",
   "metadata": {},
   "source": [
    "### Ranker.Coherence.run"
   ]
  },
  {
   "cell_type": "markdown",
   "metadata": {},
   "source": [
    "#### Coherence.<b>run</b>(<i>rankset1, rankset2</i>)\n",
    "<small>This method returns a table of coherence scores for each of the ranking criterion that user specify in the conformance_set by calculating the number of (dis)agreements between 2 ranking sets</small><br><br>\n",
    "<i>Parameters:</i> <br>\n",
    "&emsp; <b>rankset1 : str</b><br>\n",
    "&emsp;&emsp;<small>a string of the _first_ rankset that user wants to compare</small><br><br>\n",
    "&emsp; <b>rankset2 : str</b><br>\n",
    "&emsp;&emsp;<small>a string of the _second_ rankset that user wants to compare</small><br>"
   ]
  },
  {
   "cell_type": "code",
   "execution_count": 21,
   "metadata": {},
   "outputs": [
    {
     "data": {
      "text/html": [
       "<div>\n",
       "<style scoped>\n",
       "    .dataframe tbody tr th:only-of-type {\n",
       "        vertical-align: middle;\n",
       "    }\n",
       "\n",
       "    .dataframe tbody tr th {\n",
       "        vertical-align: top;\n",
       "    }\n",
       "\n",
       "    .dataframe thead th {\n",
       "        text-align: right;\n",
       "    }\n",
       "</style>\n",
       "<table border=\"1\" class=\"dataframe\">\n",
       "  <thead>\n",
       "    <tr style=\"text-align: right;\">\n",
       "      <th></th>\n",
       "      <th>Kendall's Index</th>\n",
       "    </tr>\n",
       "  </thead>\n",
       "  <tbody>\n",
       "    <tr>\n",
       "      <th>schemas</th>\n",
       "      <td>0.439394</td>\n",
       "    </tr>\n",
       "    <tr>\n",
       "      <th>storage</th>\n",
       "      <td>0.469697</td>\n",
       "    </tr>\n",
       "    <tr>\n",
       "      <th>paretoQ</th>\n",
       "      <td>0.250000</td>\n",
       "    </tr>\n",
       "    <tr>\n",
       "      <th>paretoAgg</th>\n",
       "      <td>1.000000</td>\n",
       "    </tr>\n",
       "  </tbody>\n",
       "</table>\n",
       "</div>"
      ],
      "text/plain": [
       "           Kendall's Index\n",
       "schemas           0.439394\n",
       "storage           0.469697\n",
       "paretoQ           0.250000\n",
       "paretoAgg         1.000000"
      ]
     },
     "execution_count": 21,
     "metadata": {},
     "output_type": "execute_result"
    }
   ],
   "source": [
    "#example of coherence scores for all ranking criterions by comparing 100M ranking set with 250M ranking set\n",
    "coh.run('10M', '100K')"
   ]
  },
  {
   "cell_type": "markdown",
   "metadata": {},
   "source": [
    "### Ranker.Coherence.heatMap"
   ]
  },
  {
   "cell_type": "markdown",
   "metadata": {},
   "source": [
    "#### Coherence.<b>heatMap</b>(<i>rankset1, rankset2, dimension</i>)\n",
    "<small>This method returns a heat map table that shows the coherence between two particular ranking sets that user can choose, the heat map will be sorted by the best performing configurations of the first ranking set</small><br><br>\n",
    "<i>Parameters:</i> <br>\n",
    "&emsp; <b>rankset1 : str</b><br>\n",
    "&emsp;&emsp;<small>a string of the _first_ rankset that user wants to compare</small><br><br>\n",
    "&emsp; <b>rankset2 : str</b><br>\n",
    "&emsp;&emsp;<small>a string of the _second_ rankset that user wants to compare</small><br>\n",
    "&emsp; <b>dimension : str</b><br>\n",
    "&emsp;&emsp;<small>user's choosen dimension to view the heat map</small><br><br>"
   ]
  },
  {
   "cell_type": "code",
   "execution_count": 22,
   "metadata": {},
   "outputs": [
    {
     "data": {
      "image/png": "[encoded data removed]",
      "text/plain": [
       "<Figure size 1584x360 with 2 Axes>"
      ]
     },
     "metadata": {},
     "output_type": "display_data"
    }
   ],
   "source": [
    "coh.heatMap('10M', \"100K\", dimension='schemas')"
   ]
  }
 ],
 "metadata": {
  "kernelspec": {
   "display_name": "Python 3 (ipykernel)",
   "language": "python",
   "name": "python3"
  },
  "language_info": {
   "codemirror_mode": {
    "name": "ipython",
    "version": 3
   },
   "file_extension": ".py",
   "mimetype": "text/x-python",
   "name": "python",
   "nbconvert_exporter": "python",
   "pygments_lexer": "ipython3",
   "version": "3.10.0"
  },
  "vscode": {
   "interpreter": {
    "hash": "e41b15c1429a098af195db8ddc7e23165af5d7884fc53e33c8379c749ff89684"
   }
  }
 },
 "nbformat": 4,
 "nbformat_minor": 2
}
